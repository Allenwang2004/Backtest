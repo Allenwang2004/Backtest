{
 "cells": [
  {
   "cell_type": "code",
   "execution_count": 1,
   "metadata": {},
   "outputs": [],
   "source": [
    "import datetime\n",
    "import pandas as pd\n",
    "import numpy as np\n",
    "import sys\n",
    "sys.path.append('..')\n",
    "\n",
    "df= pd.read_csv('/Users/coconut/Backtest/data/BTCUSDT_futures_4h_from_20210101.csv', index_col=0, parse_dates=True)"
   ]
  },
  {
   "cell_type": "code",
   "execution_count": 2,
   "metadata": {},
   "outputs": [
    {
     "data": {
      "text/html": [
       "<div>\n",
       "<style scoped>\n",
       "    .dataframe tbody tr th:only-of-type {\n",
       "        vertical-align: middle;\n",
       "    }\n",
       "\n",
       "    .dataframe tbody tr th {\n",
       "        vertical-align: top;\n",
       "    }\n",
       "\n",
       "    .dataframe thead th {\n",
       "        text-align: right;\n",
       "    }\n",
       "</style>\n",
       "<table border=\"1\" class=\"dataframe\">\n",
       "  <thead>\n",
       "    <tr style=\"text-align: right;\">\n",
       "      <th></th>\n",
       "      <th>Open</th>\n",
       "      <th>High</th>\n",
       "      <th>Low</th>\n",
       "      <th>Close</th>\n",
       "      <th>Volume</th>\n",
       "      <th>close_time</th>\n",
       "      <th>quote_asset_volume</th>\n",
       "      <th>number_of_trades</th>\n",
       "      <th>taker_buy_base_asset_volume</th>\n",
       "      <th>taker_buy_quote_asset_volume</th>\n",
       "      <th>ignore</th>\n",
       "    </tr>\n",
       "    <tr>\n",
       "      <th>datetime</th>\n",
       "      <th></th>\n",
       "      <th></th>\n",
       "      <th></th>\n",
       "      <th></th>\n",
       "      <th></th>\n",
       "      <th></th>\n",
       "      <th></th>\n",
       "      <th></th>\n",
       "      <th></th>\n",
       "      <th></th>\n",
       "      <th></th>\n",
       "    </tr>\n",
       "  </thead>\n",
       "  <tbody>\n",
       "    <tr>\n",
       "      <th>2021-01-01 00:00:00</th>\n",
       "      <td>28948.19</td>\n",
       "      <td>29546.42</td>\n",
       "      <td>28706.00</td>\n",
       "      <td>29302.11</td>\n",
       "      <td>43210.161</td>\n",
       "      <td>2021-01-01 03:59:59.999</td>\n",
       "      <td>1.263866e+09</td>\n",
       "      <td>309298.0</td>\n",
       "      <td>21852.599</td>\n",
       "      <td>6.393282e+08</td>\n",
       "      <td>0</td>\n",
       "    </tr>\n",
       "    <tr>\n",
       "      <th>2021-01-01 04:00:00</th>\n",
       "      <td>29302.11</td>\n",
       "      <td>29422.32</td>\n",
       "      <td>28822.00</td>\n",
       "      <td>29107.71</td>\n",
       "      <td>26682.086</td>\n",
       "      <td>2021-01-01 07:59:59.999</td>\n",
       "      <td>7.776377e+08</td>\n",
       "      <td>200179.0</td>\n",
       "      <td>11772.871</td>\n",
       "      <td>3.432457e+08</td>\n",
       "      <td>0</td>\n",
       "    </tr>\n",
       "    <tr>\n",
       "      <th>2021-01-01 08:00:00</th>\n",
       "      <td>29107.72</td>\n",
       "      <td>29454.45</td>\n",
       "      <td>28900.00</td>\n",
       "      <td>29341.99</td>\n",
       "      <td>29562.630</td>\n",
       "      <td>2021-01-01 11:59:59.999</td>\n",
       "      <td>8.634511e+08</td>\n",
       "      <td>226389.0</td>\n",
       "      <td>14611.792</td>\n",
       "      <td>4.270177e+08</td>\n",
       "      <td>0</td>\n",
       "    </tr>\n",
       "    <tr>\n",
       "      <th>2021-01-01 12:00:00</th>\n",
       "      <td>29342.00</td>\n",
       "      <td>29668.86</td>\n",
       "      <td>29043.75</td>\n",
       "      <td>29210.84</td>\n",
       "      <td>49142.952</td>\n",
       "      <td>2021-01-01 15:59:59.999</td>\n",
       "      <td>1.443531e+09</td>\n",
       "      <td>324694.0</td>\n",
       "      <td>23957.859</td>\n",
       "      <td>7.040206e+08</td>\n",
       "      <td>0</td>\n",
       "    </tr>\n",
       "    <tr>\n",
       "      <th>2021-01-01 16:00:00</th>\n",
       "      <td>29210.85</td>\n",
       "      <td>29388.10</td>\n",
       "      <td>28627.12</td>\n",
       "      <td>29048.47</td>\n",
       "      <td>43668.170</td>\n",
       "      <td>2021-01-01 19:59:59.999</td>\n",
       "      <td>1.270056e+09</td>\n",
       "      <td>285496.0</td>\n",
       "      <td>20013.294</td>\n",
       "      <td>5.824092e+08</td>\n",
       "      <td>0</td>\n",
       "    </tr>\n",
       "    <tr>\n",
       "      <th>...</th>\n",
       "      <td>...</td>\n",
       "      <td>...</td>\n",
       "      <td>...</td>\n",
       "      <td>...</td>\n",
       "      <td>...</td>\n",
       "      <td>...</td>\n",
       "      <td>...</td>\n",
       "      <td>...</td>\n",
       "      <td>...</td>\n",
       "      <td>...</td>\n",
       "      <td>...</td>\n",
       "    </tr>\n",
       "    <tr>\n",
       "      <th>2025-04-17 04:00:00</th>\n",
       "      <td>83953.30</td>\n",
       "      <td>85043.40</td>\n",
       "      <td>83856.90</td>\n",
       "      <td>84629.00</td>\n",
       "      <td>20775.920</td>\n",
       "      <td>2025-04-17 07:59:59.999</td>\n",
       "      <td>1.756185e+09</td>\n",
       "      <td>342968.0</td>\n",
       "      <td>10905.011</td>\n",
       "      <td>9.217730e+08</td>\n",
       "      <td>0</td>\n",
       "    </tr>\n",
       "    <tr>\n",
       "      <th>2025-04-17 08:00:00</th>\n",
       "      <td>84629.00</td>\n",
       "      <td>84730.00</td>\n",
       "      <td>84144.10</td>\n",
       "      <td>84531.80</td>\n",
       "      <td>15124.909</td>\n",
       "      <td>2025-04-17 11:59:59.999</td>\n",
       "      <td>1.277223e+09</td>\n",
       "      <td>278468.0</td>\n",
       "      <td>7819.633</td>\n",
       "      <td>6.603718e+08</td>\n",
       "      <td>0</td>\n",
       "    </tr>\n",
       "    <tr>\n",
       "      <th>2025-04-17 12:00:00</th>\n",
       "      <td>84531.80</td>\n",
       "      <td>84829.40</td>\n",
       "      <td>83700.00</td>\n",
       "      <td>84495.50</td>\n",
       "      <td>36468.828</td>\n",
       "      <td>2025-04-17 15:59:59.999</td>\n",
       "      <td>3.075221e+09</td>\n",
       "      <td>620370.0</td>\n",
       "      <td>17692.067</td>\n",
       "      <td>1.492076e+09</td>\n",
       "      <td>0</td>\n",
       "    </tr>\n",
       "    <tr>\n",
       "      <th>2025-04-17 16:00:00</th>\n",
       "      <td>84495.60</td>\n",
       "      <td>85441.50</td>\n",
       "      <td>84358.00</td>\n",
       "      <td>84797.50</td>\n",
       "      <td>42706.516</td>\n",
       "      <td>2025-04-17 19:59:59.999</td>\n",
       "      <td>3.626447e+09</td>\n",
       "      <td>654480.0</td>\n",
       "      <td>22927.838</td>\n",
       "      <td>1.947427e+09</td>\n",
       "      <td>0</td>\n",
       "    </tr>\n",
       "    <tr>\n",
       "      <th>2025-04-17 20:00:00</th>\n",
       "      <td>84797.00</td>\n",
       "      <td>85074.70</td>\n",
       "      <td>84796.90</td>\n",
       "      <td>85049.80</td>\n",
       "      <td>2156.653</td>\n",
       "      <td>2025-04-17 23:59:59.999</td>\n",
       "      <td>1.831927e+08</td>\n",
       "      <td>39066.0</td>\n",
       "      <td>1122.543</td>\n",
       "      <td>9.535254e+07</td>\n",
       "      <td>0</td>\n",
       "    </tr>\n",
       "  </tbody>\n",
       "</table>\n",
       "<p>9408 rows × 11 columns</p>\n",
       "</div>"
      ],
      "text/plain": [
       "                         Open      High       Low     Close     Volume  \\\n",
       "datetime                                                                 \n",
       "2021-01-01 00:00:00  28948.19  29546.42  28706.00  29302.11  43210.161   \n",
       "2021-01-01 04:00:00  29302.11  29422.32  28822.00  29107.71  26682.086   \n",
       "2021-01-01 08:00:00  29107.72  29454.45  28900.00  29341.99  29562.630   \n",
       "2021-01-01 12:00:00  29342.00  29668.86  29043.75  29210.84  49142.952   \n",
       "2021-01-01 16:00:00  29210.85  29388.10  28627.12  29048.47  43668.170   \n",
       "...                       ...       ...       ...       ...        ...   \n",
       "2025-04-17 04:00:00  83953.30  85043.40  83856.90  84629.00  20775.920   \n",
       "2025-04-17 08:00:00  84629.00  84730.00  84144.10  84531.80  15124.909   \n",
       "2025-04-17 12:00:00  84531.80  84829.40  83700.00  84495.50  36468.828   \n",
       "2025-04-17 16:00:00  84495.60  85441.50  84358.00  84797.50  42706.516   \n",
       "2025-04-17 20:00:00  84797.00  85074.70  84796.90  85049.80   2156.653   \n",
       "\n",
       "                                  close_time  quote_asset_volume  \\\n",
       "datetime                                                           \n",
       "2021-01-01 00:00:00  2021-01-01 03:59:59.999        1.263866e+09   \n",
       "2021-01-01 04:00:00  2021-01-01 07:59:59.999        7.776377e+08   \n",
       "2021-01-01 08:00:00  2021-01-01 11:59:59.999        8.634511e+08   \n",
       "2021-01-01 12:00:00  2021-01-01 15:59:59.999        1.443531e+09   \n",
       "2021-01-01 16:00:00  2021-01-01 19:59:59.999        1.270056e+09   \n",
       "...                                      ...                 ...   \n",
       "2025-04-17 04:00:00  2025-04-17 07:59:59.999        1.756185e+09   \n",
       "2025-04-17 08:00:00  2025-04-17 11:59:59.999        1.277223e+09   \n",
       "2025-04-17 12:00:00  2025-04-17 15:59:59.999        3.075221e+09   \n",
       "2025-04-17 16:00:00  2025-04-17 19:59:59.999        3.626447e+09   \n",
       "2025-04-17 20:00:00  2025-04-17 23:59:59.999        1.831927e+08   \n",
       "\n",
       "                     number_of_trades  taker_buy_base_asset_volume  \\\n",
       "datetime                                                             \n",
       "2021-01-01 00:00:00          309298.0                    21852.599   \n",
       "2021-01-01 04:00:00          200179.0                    11772.871   \n",
       "2021-01-01 08:00:00          226389.0                    14611.792   \n",
       "2021-01-01 12:00:00          324694.0                    23957.859   \n",
       "2021-01-01 16:00:00          285496.0                    20013.294   \n",
       "...                               ...                          ...   \n",
       "2025-04-17 04:00:00          342968.0                    10905.011   \n",
       "2025-04-17 08:00:00          278468.0                     7819.633   \n",
       "2025-04-17 12:00:00          620370.0                    17692.067   \n",
       "2025-04-17 16:00:00          654480.0                    22927.838   \n",
       "2025-04-17 20:00:00           39066.0                     1122.543   \n",
       "\n",
       "                     taker_buy_quote_asset_volume  ignore  \n",
       "datetime                                                   \n",
       "2021-01-01 00:00:00                  6.393282e+08       0  \n",
       "2021-01-01 04:00:00                  3.432457e+08       0  \n",
       "2021-01-01 08:00:00                  4.270177e+08       0  \n",
       "2021-01-01 12:00:00                  7.040206e+08       0  \n",
       "2021-01-01 16:00:00                  5.824092e+08       0  \n",
       "...                                           ...     ...  \n",
       "2025-04-17 04:00:00                  9.217730e+08       0  \n",
       "2025-04-17 08:00:00                  6.603718e+08       0  \n",
       "2025-04-17 12:00:00                  1.492076e+09       0  \n",
       "2025-04-17 16:00:00                  1.947427e+09       0  \n",
       "2025-04-17 20:00:00                  9.535254e+07       0  \n",
       "\n",
       "[9408 rows x 11 columns]"
      ]
     },
     "execution_count": 2,
     "metadata": {},
     "output_type": "execute_result"
    }
   ],
   "source": [
    "df"
   ]
  },
  {
   "cell_type": "code",
   "execution_count": 3,
   "metadata": {},
   "outputs": [],
   "source": [
    "import pandas as pd\n",
    "import numpy as np\n",
    "\n",
    "def pivothigh(close_series: pd.Series, left: int, right: int, distance: int) -> pd.Series:\n",
    "    pivots = [np.nan] * len(close_series)\n",
    "\n",
    "    for i in range(2*left, len(close_series)):\n",
    "        window = close_series[i - 2*left:i]\n",
    "        current = close_series[i-left]\n",
    "\n",
    "        if current == window.max():\n",
    "            if pivots[i-1] is not np.nan:\n",
    "                if current > pivots[i-1]*(1 - distance/100):\n",
    "                    pivots[i] = current\n",
    "                else:\n",
    "                    pivots[i] = pivots[i-1]\n",
    "            else:\n",
    "                pivots[i] = current\n",
    "        else:\n",
    "            pivots[i] = pivots[i-1] if i > 0 else np.nan\n",
    "\n",
    "    for i in range(2*left):\n",
    "        pivots[i] = np.nan\n",
    "    \n",
    "    return pd.Series(pivots, index=close_series.index)\n",
    "\n",
    "def pivotlow(close_series: pd.Series, left: int, right: int, distance: int) -> pd.Series:\n",
    "    pivots = [np.nan] * len(close_series)\n",
    "\n",
    "    for i in range(2*left, len(close_series)):\n",
    "        window = close_series[i - 2*left:i]\n",
    "        current = close_series[i-left]\n",
    "\n",
    "        if current == window.min():\n",
    "            if pivots[i-1] is not np.nan:\n",
    "                if current < pivots[i-1]*(1 + distance/100):\n",
    "                    pivots[i] = current\n",
    "                else:\n",
    "                    pivots[i] = pivots[i-1]\n",
    "            else:\n",
    "                pivots[i] = current\n",
    "        else:\n",
    "            pivots[i] = pivots[i-1] if i > 0 else np.nan\n",
    "\n",
    "    for i in range(2*left):\n",
    "        pivots[i] = np.nan\n",
    "    \n",
    "    return pd.Series(pivots, index=close_series.index)\n",
    "\n",
    "def add_pivot_high_change_column(df):\n",
    "    df['pivot_high_change'] = 0\n",
    "\n",
    "    for idx in range(1, len(df)):\n",
    "        now = df.iloc[idx]['pivothigh']\n",
    "        prev = df.iloc[idx-1]['pivothigh']\n",
    "\n",
    "        if pd.notna(now) and (now != prev):\n",
    "            df.loc[df.index[idx], 'pivot_high_change'] = 1\n",
    "    return df\n",
    "\n",
    "def add_pivot_low_change_column(df):\n",
    "    df['pivot_low_change'] = 0\n",
    "\n",
    "    for idx in range(1, len(df)):\n",
    "        now = df.iloc[idx]['pivotlow']\n",
    "        prev = df.iloc[idx-1]['pivotlow']\n",
    "\n",
    "        if pd.notna(now) and (now != prev):\n",
    "            df.loc[df.index[idx], 'pivot_low_change'] = 1\n",
    "    return df\n",
    "\n",
    "def add_rebreak_high(df):\n",
    "    df['rebreak_high'] = 0\n",
    "\n",
    "    in_break = False\n",
    "    break_level = None\n",
    "    dropped = False\n",
    "\n",
    "    for idx in range(1, len(df)):\n",
    "        now = df.iloc[idx]\n",
    "        prev = df.iloc[idx - 1]\n",
    "\n",
    "        if not in_break and prev['break_pivot_high'] == 0 and now['break_pivot_high'] == 1:\n",
    "            in_break = True\n",
    "            break_level = now['pivothigh']\n",
    "\n",
    "        if in_break:\n",
    "            \n",
    "            if not dropped and now['Close'] < break_level:\n",
    "                dropped = True\n",
    "            \n",
    "            if dropped and now['Close'] > break_level:\n",
    "                df.loc[df.index[idx], 'rebreak_high'] = 1\n",
    "                \n",
    "                in_break = False\n",
    "                dropped = False\n",
    "                break_level = None\n",
    "\n",
    "    return df\n",
    "\n",
    "def add_rebreak_low(df):\n",
    "    df['rebreak_low'] = 0\n",
    "\n",
    "    in_break = False\n",
    "    break_level = None\n",
    "    dropped = False\n",
    "\n",
    "    for idx in range(1, len(df)):\n",
    "        now = df.iloc[idx]\n",
    "        prev = df.iloc[idx - 1]\n",
    "\n",
    "        if not in_break and prev['break_pivot_low'] == 0 and now['break_pivot_low'] == 1:\n",
    "            in_break = True\n",
    "            break_level = now['pivotlow']\n",
    "\n",
    "        if in_break:\n",
    "            if not dropped and now['Close'] > break_level:\n",
    "                dropped = True\n",
    "\n",
    "            if dropped and now['Close'] < break_level:\n",
    "                df.loc[df.index[idx], 'rebreak_low'] = 1\n",
    "                in_break = False\n",
    "                dropped = False\n",
    "                break_level = None\n",
    "\n",
    "    return df"
   ]
  },
  {
   "cell_type": "code",
   "execution_count": 20,
   "metadata": {},
   "outputs": [
    {
     "name": "stderr",
     "output_type": "stream",
     "text": [
      "/var/folders/4g/c6vylbjj0gl07x_f6l921r980000gn/T/ipykernel_20863/1655679920.py:9: FutureWarning:\n",
      "\n",
      "Series.__getitem__ treating keys as positions is deprecated. In a future version, integer keys will always be treated as labels (consistent with DataFrame behavior). To access a value by position, use `ser.iloc[pos]`\n",
      "\n",
      "/var/folders/4g/c6vylbjj0gl07x_f6l921r980000gn/T/ipykernel_20863/1655679920.py:32: FutureWarning:\n",
      "\n",
      "Series.__getitem__ treating keys as positions is deprecated. In a future version, integer keys will always be treated as labels (consistent with DataFrame behavior). To access a value by position, use `ser.iloc[pos]`\n",
      "\n"
     ]
    }
   ],
   "source": [
    "df['pivothigh'] = pivothigh(df['Close'], left=10, right=10, distance=18)\n",
    "df['pivotlow'] = pivotlow(df['Close'], left=5, right=5, distance=18)\n",
    "df['break_pivot_high'] = np.where(df['Close'] > df['pivothigh'], 1, 0)\n",
    "df['break_pivot_low'] = np.where(df['Close'] < df['pivotlow'], 1, 0)\n",
    "df = add_pivot_high_change_column(df)\n",
    "df = add_pivot_low_change_column(df)\n",
    "df = add_rebreak_high(df)\n",
    "df = add_rebreak_low(df)"
   ]
  },
  {
   "cell_type": "code",
   "execution_count": null,
   "metadata": {},
   "outputs": [
    {
     "name": "stderr",
     "output_type": "stream",
     "text": [
      "/var/folders/4g/c6vylbjj0gl07x_f6l921r980000gn/T/ipykernel_20863/2957562227.py:46: FutureWarning:\n",
      "\n",
      "Setting an item of incompatible dtype is deprecated and will raise an error in a future version of pandas. Value '102304.96077' has dtype incompatible with int64, please explicitly cast to a compatible dtype first.\n",
      "\n"
     ]
    }
   ],
   "source": [
    "\n",
    "fee_rate = 0.0005\n",
    "initial_capital = 100000\n",
    "\n",
    "def backtest_and_update_df(df):\n",
    "    trades = []\n",
    "    position = None\n",
    "    entry_price = 0\n",
    "    entry_time = None\n",
    "    equity = initial_capital\n",
    "\n",
    "    df['Equity'] = initial_capital\n",
    "\n",
    "    for i in range(len(df)):\n",
    "        row = df.iloc[i]\n",
    "\n",
    "        if position is None and row['rebreak_high'] == 1:\n",
    "            position = 'long'\n",
    "            entry_price = row['Close']\n",
    "            entry_time = row.name\n",
    "\n",
    "        elif position is None and row['rebreak_low'] == 1:\n",
    "            position = 'short'\n",
    "            entry_price = row['Close']\n",
    "            entry_time = row.name\n",
    "\n",
    "        elif position == 'long':\n",
    "            if row['pivot_high_change'] == 1 or row['break_pivot_low'] == 1:\n",
    "                exit_price = row['Close']\n",
    "                exit_time = row.name\n",
    "                fee = (entry_price + exit_price) * fee_rate\n",
    "                pnl = (exit_price - entry_price) - fee\n",
    "                equity += pnl\n",
    "                trades.append([entry_time, exit_time, entry_price, exit_price, fee, pnl])\n",
    "                position = None\n",
    "\n",
    "        elif position == 'short':\n",
    "            if row['pivot_low_change'] == 1 or row['break_pivot_high'] == 1:\n",
    "                exit_price = row['Close']\n",
    "                exit_time = row.name\n",
    "                fee = (entry_price + exit_price) * fee_rate\n",
    "                pnl = (entry_price - exit_price) - fee\n",
    "                equity += pnl\n",
    "                trades.append([entry_time, exit_time, entry_price, exit_price, fee, pnl])\n",
    "                position = None\n",
    "\n",
    "        df.at[row.name, 'Equity'] = equity\n",
    "\n",
    "    trades_df = pd.DataFrame(trades, columns=['Entry_Time', 'Exit_Time', 'Entry_Price', 'Exit_Price', 'Fee', 'PnL'])\n",
    "    return trades_df, df\n",
    "\n",
    "trades_df, updated_df = backtest_and_update_df(df)\n",
    "\n",
    "trades_df.to_csv('trade_details.csv', index=False)\n",
    "updated_df.to_csv('df_with_pivots.csv')"
   ]
  },
  {
   "cell_type": "code",
   "execution_count": 22,
   "metadata": {},
   "outputs": [
    {
     "data": {
      "text/html": [
       "<h4>Performance Metrics</h4>"
      ],
      "text/plain": [
       "<IPython.core.display.HTML object>"
      ]
     },
     "metadata": {},
     "output_type": "display_data"
    },
    {
     "name": "stdout",
     "output_type": "stream",
     "text": [
      "                    Strategy\n",
      "------------------  ----------\n",
      "Start Period        2021-01-01\n",
      "End Period          2025-04-17\n",
      "Risk-Free Rate      0.0%\n",
      "Time in Market      1.0%\n",
      "\n",
      "Cumulative Return   35.89%\n",
      "CAGR﹪              5.06%\n",
      "\n",
      "Sharpe              0.37\n",
      "Prob. Sharpe Ratio  99.98%\n",
      "Sortino             1.47\n",
      "Sortino/√2          1.04\n",
      "Omega               3.79\n",
      "\n",
      "Max Drawdown        -3.88%\n",
      "Longest DD Days     399\n",
      "\n",
      "Gain/Pain Ratio     2.79\n",
      "Gain/Pain (1M)      5.82\n",
      "\n",
      "Payoff Ratio        3.79\n",
      "Profit Factor       3.79\n",
      "Common Sense Ratio  -\n",
      "CPC Index           7.19\n",
      "Tail Ratio          -\n",
      "Outlier Win Ratio   0.0\n",
      "Outlier Loss Ratio  -0.0\n",
      "\n",
      "MTD                 0.0%\n",
      "3M                  0.0%\n",
      "6M                  -0.26%\n",
      "YTD                 0.0%\n",
      "1Y                  0.04%\n",
      "3Y (ann.)           5.88%\n",
      "5Y (ann.)           5.06%\n",
      "10Y (ann.)          5.06%\n",
      "All-time (ann.)     5.06%\n",
      "\n",
      "Avg. Drawdown       -1.51%\n",
      "Avg. Drawdown Days  163\n",
      "Recovery Factor     8.15\n",
      "Ulcer Index         0.02\n",
      "Serenity Index      0.88\n"
     ]
    },
    {
     "data": {
      "text/html": [
       "<h4>Strategy Visualization</h4>"
      ],
      "text/plain": [
       "<IPython.core.display.HTML object>"
      ]
     },
     "metadata": {},
     "output_type": "display_data"
    },
    {
     "data": {
      "image/png": "[encoded data removed]",
      "text/plain": [
       "<Figure size 800x800 with 3 Axes>"
      ]
     },
     "metadata": {},
     "output_type": "display_data"
    },
    {
     "data": {
      "image/png": "[encoded data removed]",
      "text/plain": [
       "<Figure size 840.8x400 with 2 Axes>"
      ]
     },
     "metadata": {},
     "output_type": "display_data"
    }
   ],
   "source": [
    "import quantstats as qs\n",
    "\n",
    "updated_df['Equity'] = updated_df['Equity'].astype(float)\n",
    "returns = updated_df['Equity'].pct_change().dropna()\n",
    "qs.reports.basic(returns)"
   ]
  },
  {
   "cell_type": "code",
   "execution_count": null,
   "metadata": {},
   "outputs": [
    {
     "data": {
      "text/html": [
       "    <style>\n",
       "        .bk-notebook-logo {\n",
       "            display: block;\n",
       "            width: 20px;\n",
       "            height: 20px;\n",
       "            background-image: url(data:image/png;base64,iVBORw0KGgoAAAANSUhEUgAAABQAAAAUCAYAAACNiR0NAAAABHNCSVQICAgIfAhkiAAAAAlwSFlzAAALEgAACxIB0t1+/AAAABx0RVh0U29mdHdhcmUAQWRvYmUgRmlyZXdvcmtzIENTNui8sowAAAOkSURBVDiNjZRtaJVlGMd/1/08zzln5zjP1LWcU9N0NkN8m2CYjpgQYQXqSs0I84OLIC0hkEKoPtiH3gmKoiJDU7QpLgoLjLIQCpEsNJ1vqUOdO7ppbuec5+V+rj4ctwzd8IIbbi6u+8f1539dt3A78eXC7QizUF7gyV1fD1Yqg4JWz84yffhm0qkFqBogB9rM8tZdtwVsPUhWhGcFJngGeWrPzHm5oaMmkfEg1usvLFyc8jLRqDOMru7AyC8saQr7GG7f5fvDeH7Ej8CM66nIF+8yngt6HWaKh7k49Soy9nXurCi1o3qUbS3zWfrYeQDTB/Qj6kX6Ybhw4B+bOYoLKCC9H3Nu/leUTZ1JdRWkkn2ldcCamzrcf47KKXdAJllSlxAOkRgyHsGC/zRday5Qld9DyoM4/q/rUoy/CXh3jzOu3bHUVZeU+DEn8FInkPBFlu3+nW3Nw0mk6vCDiWg8CeJaxEwuHS3+z5RgY+YBR6V1Z1nxSOfoaPa4LASWxxdNp+VWTk7+4vzaou8v8PN+xo+KY2xsw6une2frhw05CTYOmQvsEhjhWjn0bmXPjpE1+kplmmkP3suftwTubK9Vq22qKmrBhpY4jvd5afdRA3wGjFAgcnTK2s4hY0/GPNIb0nErGMCRxWOOX64Z8RAC4oCXdklmEvcL8o0BfkNK4lUg9HTl+oPlQxdNo3Mg4Nv175e/1LDGzZen30MEjRUtmXSfiTVu1kK8W4txyV6BMKlbgk3lMwYCiusNy9fVfvvwMxv8Ynl6vxoByANLTWplvuj/nF9m2+PDtt1eiHPBr1oIfhCChQMBw6Aw0UulqTKZdfVvfG7VcfIqLG9bcldL/+pdWTLxLUy8Qq38heUIjh4XlzZxzQm19lLFlr8vdQ97rjZVOLf8nclzckbcD4wxXMidpX30sFd37Fv/GtwwhzhxGVAprjbg0gCAEeIgwCZyTV2Z1REEW8O4py0wsjeloKoMr6iCY6dP92H6Vw/oTyICIthibxjm/DfN9lVz8IqtqKYLUXfoKVMVQVVJOElGjrnnUt9T9wbgp8AyYKaGlqingHZU/uG2NTZSVqwHQTWkx9hxjkpWDaCg6Ckj5qebgBVbT3V3NNXMSiWSDdGV3hrtzla7J+duwPOToIg42ChPQOQjspnSlp1V+Gjdged7+8UN5CRAV7a5EdFNwCjEaBR27b3W890TE7g24NAP/mMDXRWrGoFPQI9ls/MWO2dWFAar/xcOIImbbpA3zgAAAABJRU5ErkJggg==);\n",
       "        }\n",
       "    </style>\n",
       "    <div>\n",
       "        <a href=\"https://bokeh.org\" target=\"_blank\" class=\"bk-notebook-logo\"></a>\n",
       "        <span id=\"ac084efa-2a86-4b2f-9549-9d452d223069\">Loading BokehJS ...</span>\n",
       "    </div>\n"
      ]
     },
     "metadata": {},
     "output_type": "display_data"
    },
    {
     "data": {
      "application/javascript": "'use strict';\n(function(root) {\n  function now() {\n    return new Date();\n  }\n\n  const force = true;\n\n  if (typeof root._bokeh_onload_callbacks === \"undefined\" || force === true) {\n    root._bokeh_onload_callbacks = [];\n    root._bokeh_is_loading = undefined;\n  }\n\nconst JS_MIME_TYPE = 'application/javascript';\n  const HTML_MIME_TYPE = 'text/html';\n  const EXEC_MIME_TYPE = 'application/vnd.bokehjs_exec.v0+json';\n  const CLASS_NAME = 'output_bokeh rendered_html';\n\n  /**\n   * Render data to the DOM node\n   */\n  function render(props, node) {\n    const script = document.createElement(\"script\");\n    node.appendChild(script);\n  }\n\n  /**\n   * Handle when an output is cleared or removed\n   */\n  function handleClearOutput(event, handle) {\n    function drop(id) {\n      const view = Bokeh.index.get_by_id(id)\n      if (view != null) {\n        view.model.document.clear()\n        Bokeh.index.delete(view)\n      }\n    }\n\n    const cell = handle.cell;\n\n    const id = cell.output_area._bokeh_element_id;\n    const server_id = cell.output_area._bokeh_server_id;\n\n    // Clean up Bokeh references\n    if (id != null) {\n      drop(id)\n    }\n\n    if (server_id !== undefined) {\n      // Clean up Bokeh references\n      const cmd_clean = \"from bokeh.io.state import curstate; print(curstate().uuid_to_server['\" + server_id + \"'].get_sessions()[0].document.roots[0]._id)\";\n      cell.notebook.kernel.execute(cmd_clean, {\n        iopub: {\n          output: function(msg) {\n            const id = msg.content.text.trim()\n            drop(id)\n          }\n        }\n      });\n      // Destroy server and session\n      const cmd_destroy = \"import bokeh.io.notebook as ion; ion.destroy_server('\" + server_id + \"')\";\n      cell.notebook.kernel.execute(cmd_destroy);\n    }\n  }\n\n  /**\n   * Handle when a new output is added\n   */\n  function handleAddOutput(event, handle) {\n    const output_area = handle.output_area;\n    const output = handle.output;\n\n    // limit handleAddOutput to display_data with EXEC_MIME_TYPE content only\n    if ((output.output_type != \"display_data\") || (!Object.prototype.hasOwnProperty.call(output.data, EXEC_MIME_TYPE))) {\n      return\n    }\n\n    const toinsert = output_area.element.find(\".\" + CLASS_NAME.split(' ')[0]);\n\n    if (output.metadata[EXEC_MIME_TYPE][\"id\"] !== undefined) {\n      toinsert[toinsert.length - 1].firstChild.textContent = output.data[JS_MIME_TYPE];\n      // store reference to embed id on output_area\n      output_area._bokeh_element_id = output.metadata[EXEC_MIME_TYPE][\"id\"];\n    }\n    if (output.metadata[EXEC_MIME_TYPE][\"server_id\"] !== undefined) {\n      const bk_div = document.createElement(\"div\");\n      bk_div.innerHTML = output.data[HTML_MIME_TYPE];\n      const script_attrs = bk_div.children[0].attributes;\n      for (let i = 0; i < script_attrs.length; i++) {\n        toinsert[toinsert.length - 1].firstChild.setAttribute(script_attrs[i].name, script_attrs[i].value);\n        toinsert[toinsert.length - 1].firstChild.textContent = bk_div.children[0].textContent\n      }\n      // store reference to server id on output_area\n      output_area._bokeh_server_id = output.metadata[EXEC_MIME_TYPE][\"server_id\"];\n    }\n  }\n\n  function register_renderer(events, OutputArea) {\n\n    function append_mime(data, metadata, element) {\n      // create a DOM node to render to\n      const toinsert = this.create_output_subarea(\n        metadata,\n        CLASS_NAME,\n        EXEC_MIME_TYPE\n      );\n      this.keyboard_manager.register_events(toinsert);\n      // Render to node\n      const props = {data: data, metadata: metadata[EXEC_MIME_TYPE]};\n      render(props, toinsert[toinsert.length - 1]);\n      element.append(toinsert);\n      return toinsert\n    }\n\n    /* Handle when an output is cleared or removed */\n    events.on('clear_output.CodeCell', handleClearOutput);\n    events.on('delete.Cell', handleClearOutput);\n\n    /* Handle when a new output is added */\n    events.on('output_added.OutputArea', handleAddOutput);\n\n    /**\n     * Register the mime type and append_mime function with output_area\n     */\n    OutputArea.prototype.register_mime_type(EXEC_MIME_TYPE, append_mime, {\n      /* Is output safe? */\n      safe: true,\n      /* Index of renderer in `output_area.display_order` */\n      index: 0\n    });\n  }\n\n  // register the mime type if in Jupyter Notebook environment and previously unregistered\n  if (root.Jupyter !== undefined) {\n    const events = require('base/js/events');\n    const OutputArea = require('notebook/js/outputarea').OutputArea;\n\n    if (OutputArea.prototype.mime_types().indexOf(EXEC_MIME_TYPE) == -1) {\n      register_renderer(events, OutputArea);\n    }\n  }\n  if (typeof (root._bokeh_timeout) === \"undefined\" || force === true) {\n    root._bokeh_timeout = Date.now() + 5000;\n    root._bokeh_failed_load = false;\n  }\n\n  const NB_LOAD_WARNING = {'data': {'text/html':\n     \"<div style='background-color: #fdd'>\\n\"+\n     \"<p>\\n\"+\n     \"BokehJS does not appear to have successfully loaded. If loading BokehJS from CDN, this \\n\"+\n     \"may be due to a slow or bad network connection. Possible fixes:\\n\"+\n     \"</p>\\n\"+\n     \"<ul>\\n\"+\n     \"<li>re-rerun `output_notebook()` to attempt to load from CDN again, or</li>\\n\"+\n     \"<li>use INLINE resources instead, as so:</li>\\n\"+\n     \"</ul>\\n\"+\n     \"<code>\\n\"+\n     \"from bokeh.resources import INLINE\\n\"+\n     \"output_notebook(resources=INLINE)\\n\"+\n     \"</code>\\n\"+\n     \"</div>\"}};\n\n  function display_loaded(error = null) {\n    const el = document.getElementById(\"ac084efa-2a86-4b2f-9549-9d452d223069\");\n    if (el != null) {\n      const html = (() => {\n        if (typeof root.Bokeh === \"undefined\") {\n          if (error == null) {\n            return \"BokehJS is loading ...\";\n          } else {\n            return \"BokehJS failed to load.\";\n          }\n        } else {\n          const prefix = `BokehJS ${root.Bokeh.version}`;\n          if (error == null) {\n            return `${prefix} successfully loaded.`;\n          } else {\n            return `${prefix} <b>encountered errors</b> while loading and may not function as expected.`;\n          }\n        }\n      })();\n      el.innerHTML = html;\n\n      if (error != null) {\n        const wrapper = document.createElement(\"div\");\n        wrapper.style.overflow = \"auto\";\n        wrapper.style.height = \"5em\";\n        wrapper.style.resize = \"vertical\";\n        const content = document.createElement(\"div\");\n        content.style.fontFamily = \"monospace\";\n        content.style.whiteSpace = \"pre-wrap\";\n        content.style.backgroundColor = \"rgb(255, 221, 221)\";\n        content.textContent = error.stack ?? error.toString();\n        wrapper.append(content);\n        el.append(wrapper);\n      }\n    } else if (Date.now() < root._bokeh_timeout) {\n      setTimeout(() => display_loaded(error), 100);\n    }\n  }\n\n  function run_callbacks() {\n    try {\n      root._bokeh_onload_callbacks.forEach(function(callback) {\n        if (callback != null)\n          callback();\n      });\n    } finally {\n      delete root._bokeh_onload_callbacks\n    }\n    console.debug(\"Bokeh: all callbacks have finished\");\n  }\n\n  function load_libs(css_urls, js_urls, callback) {\n    if (css_urls == null) css_urls = [];\n    if (js_urls == null) js_urls = [];\n\n    root._bokeh_onload_callbacks.push(callback);\n    if (root._bokeh_is_loading > 0) {\n      console.debug(\"Bokeh: BokehJS is being loaded, scheduling callback at\", now());\n      return null;\n    }\n    if (js_urls == null || js_urls.length === 0) {\n      run_callbacks();\n      return null;\n    }\n    console.debug(\"Bokeh: BokehJS not loaded, scheduling load and callback at\", now());\n    root._bokeh_is_loading = css_urls.length + js_urls.length;\n\n    function on_load() {\n      root._bokeh_is_loading--;\n      if (root._bokeh_is_loading === 0) {\n        console.debug(\"Bokeh: all BokehJS libraries/stylesheets loaded\");\n        run_callbacks()\n      }\n    }\n\n    function on_error(url) {\n      console.error(\"failed to load \" + url);\n    }\n\n    for (let i = 0; i < css_urls.length; i++) {\n      const url = css_urls[i];\n      const element = document.createElement(\"link\");\n      element.onload = on_load;\n      element.onerror = on_error.bind(null, url);\n      element.rel = \"stylesheet\";\n      element.type = \"text/css\";\n      element.href = url;\n      console.debug(\"Bokeh: injecting link tag for BokehJS stylesheet: \", url);\n      document.body.appendChild(element);\n    }\n\n    for (let i = 0; i < js_urls.length; i++) {\n      const url = js_urls[i];\n      const element = document.createElement('script');\n      element.onload = on_load;\n      element.onerror = on_error.bind(null, url);\n      element.async = false;\n      element.src = url;\n      console.debug(\"Bokeh: injecting script tag for BokehJS library: \", url);\n      document.head.appendChild(element);\n    }\n  };\n\n  function inject_raw_css(css) {\n    const element = document.createElement(\"style\");\n    element.appendChild(document.createTextNode(css));\n    document.body.appendChild(element);\n  }\n\n  const js_urls = [\"https://cdn.bokeh.org/bokeh/release/bokeh-3.7.0.min.js\", \"https://cdn.bokeh.org/bokeh/release/bokeh-gl-3.7.0.min.js\", \"https://cdn.bokeh.org/bokeh/release/bokeh-widgets-3.7.0.min.js\", \"https://cdn.bokeh.org/bokeh/release/bokeh-tables-3.7.0.min.js\", \"https://cdn.bokeh.org/bokeh/release/bokeh-mathjax-3.7.0.min.js\"];\n  const css_urls = [];\n\n  const inline_js = [    function(Bokeh) {\n      Bokeh.set_log_level(\"info\");\n    },\nfunction(Bokeh) {\n    }\n  ];\n\n  function run_inline_js() {\n    if (root.Bokeh !== undefined || force === true) {\n      try {\n            for (let i = 0; i < inline_js.length; i++) {\n      inline_js[i].call(root, root.Bokeh);\n    }\n\n      } catch (error) {display_loaded(error);throw error;\n      }if (force === true) {\n        display_loaded();\n      }} else if (Date.now() < root._bokeh_timeout) {\n      setTimeout(run_inline_js, 100);\n    } else if (!root._bokeh_failed_load) {\n      console.log(\"Bokeh: BokehJS failed to load within specified timeout.\");\n      root._bokeh_failed_load = true;\n    } else if (force !== true) {\n      const cell = $(document.getElementById(\"ac084efa-2a86-4b2f-9549-9d452d223069\")).parents('.cell').data().cell;\n      cell.output_area.append_execute_result(NB_LOAD_WARNING)\n    }\n  }\n\n  if (root._bokeh_is_loading === 0) {\n    console.debug(\"Bokeh: BokehJS loaded, going straight to plotting\");\n    run_inline_js();\n  } else {\n    load_libs(css_urls, js_urls, function() {\n      console.debug(\"Bokeh: BokehJS plotting callback run at\", now());\n      run_inline_js();\n    });\n  }\n}(window));",
      "application/vnd.bokehjs_load.v0+json": ""
     },
     "metadata": {},
     "output_type": "display_data"
    },
    {
     "data": {
      "text/html": [
       "\n",
       "  <div id=\"cf7ffec5-1b3e-4038-bf2f-47a39f26dc4f\" data-root-id=\"p1004\" style=\"display: contents;\"></div>\n"
      ]
     },
     "metadata": {},
     "output_type": "display_data"
    },
    {
     "data": {
      "application/javascript": "(function(root) {\n  function embed_document(root) {\n  const docs_json = {\"fe2af09c-5d07-487f-8a8d-8c55151f1107\":{\"version\":\"3.7.0\",\"title\":\"Bokeh Application\",\"roots\":[{\"type\":\"object\",\"name\":\"Figure\",\"id\":\"p1004\",\"attributes\":{\"x_range\":{\"type\":\"object\",\"name\":\"DataRange1d\",\"id\":\"p1005\"},\"y_range\":{\"type\":\"object\",\"name\":\"DataRange1d\",\"id\":\"p1006\"},\"x_scale\":{\"type\":\"object\",\"name\":\"LinearScale\",\"id\":\"p1014\"},\"y_scale\":{\"type\":\"object\",\"name\":\"LinearScale\",\"id\":\"p1015\"},\"title\":{\"type\":\"object\",\"name\":\"Title\",\"id\":\"p1007\",\"attributes\":{\"text\":\"Close, Pivot High/Low, and Events (2021-05-20 00:00:00 ~ 2021-06-21 23:59:59)\"}},\"renderers\":[{\"type\":\"object\",\"name\":\"GlyphRenderer\",\"id\":\"p1058\",\"attributes\":{\"data_source\":{\"type\":\"object\",\"name\":\"ColumnDataSource\",\"id\":\"p1001\",\"attributes\":{\"selected\":{\"type\":\"object\",\"name\":\"Selection\",\"id\":\"p1002\",\"attributes\":{\"indices\":[],\"line_indices\":[]}},\"selection_policy\":{\"type\":\"object\",\"name\":\"UnionRenderers\",\"id\":\"p1003\"},\"data\":{\"type\":\"map\",\"entries\":[[\"index\",{\"type\":\"ndarray\",\"array\":{\"type\":\"bytes\",\"data\":\"AAAAAAEAAAACAAAAAwAAAAQAAAAFAAAABgAAAAcAAAAIAAAACQAAAAoAAAALAAAADAAAAA0AAAAOAAAADwAAABAAAAARAAAAEgAAABMAAAAUAAAAFQAAABYAAAAXAAAAGAAAABkAAAAaAAAAGwAAABwAAAAdAAAAHgAAAB8AAAAgAAAAIQAAACIAAAAjAAAAJAAAACUAAAAmAAAAJwAAACgAAAApAAAAKgAAACsAAAAsAAAALQAAAC4AAAAvAAAAMAAAADEAAAAyAAAAMwAAADQAAAA1AAAANgAAADcAAAA4AAAAOQAAADoAAAA7AAAAPAAAAD0AAAA+AAAAPwAAAEAAAABBAAAAQgAAAEMAAABEAAAARQAAAEYAAABHAAAASAAAAEkAAABKAAAASwAAAEwAAABNAAAATgAAAE8AAABQAAAAUQAAAFIAAABTAAAAVAAAAFUAAABWAAAAVwAAAFgAAABZAAAAWgAAAFsAAABcAAAAXQAAAF4AAABfAAAAYAAAAGEAAABiAAAAYwAAAGQAAABlAAAAZgAAAGcAAABoAAAAaQAAAGoAAABrAAAAbAAAAG0AAABuAAAAbwAAAHAAAABxAAAAcgAAAHMAAAB0AAAAdQAAAHYAAAB3AAAAeAAAAHkAAAB6AAAAewAAAHwAAAB9AAAAfgAAAH8AAACAAAAAgQAAAIIAAACDAAAAhAAAAIUAAACGAAAAhwAAAIgAAACJAAAAigAAAIsAAACMAAAAjQAAAI4AAACPAAAAkAAAAJEAAACSAAAAkwAAAJQAAACVAAAAlgAAAJcAAACYAAAAmQAAAJoAAACbAAAAnAAAAJ0AAACeAAAAnwAAAKAAAAChAAAAogAAAKMAAACkAAAApQAAAKYAAACnAAAAqAAAAKkAAACqAAAAqwAAAKwAAACtAAAArgAAAK8AAACwAAAAsQAAALIAAACzAAAAtAAAALUAAAC2AAAAtwAAALgAAAC5AAAAugAAALsAAAC8AAAAvQAAAL4AAAC/AAAAwAAAAMEAAADCAAAAwwAAAMQAAADFAAAA\"},\"shape\":[198],\"dtype\":\"int32\",\"order\":\"little\"}],[\"datetime\",{\"type\":\"ndarray\",\"array\":{\"type\":\"bytes\",\"data\":\"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\"},\"shape\":[198],\"dtype\":\"float64\",\"order\":\"little\"}],[\"Open\",{\"type\":\"ndarray\",\"array\":{\"type\":\"bytes\",\"data\":\"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\"},\"shape\":[198],\"dtype\":\"float64\",\"order\":\"little\"}],[\"High\",{\"type\":\"ndarray\",\"array\":{\"type\":\"bytes\",\"data\":\"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\"},\"shape\":[198],\"dtype\":\"float64\",\"order\":\"little\"}],[\"Low\",{\"type\":\"ndarray\",\"array\":{\"type\":\"bytes\",\"data\":\"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\"},\"shape\":[198],\"dtype\":\"float64\",\"order\":\"little\"}],[\"Close\",{\"type\":\"ndarray\",\"array\":{\"type\":\"bytes\",\"data\":\"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\"},\"shape\":[198],\"dtype\":\"float64\",\"order\":\"little\"}],[\"Volume\",{\"type\":\"ndarray\",\"array\":{\"type\":\"bytes\",\"data\":\"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\"},\"shape\":[198],\"dtype\":\"float64\",\"order\":\"little\"}],[\"quote_asset_volume\",{\"type\":\"ndarray\",\"array\":{\"type\":\"bytes\",\"data\":\"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\"},\"shape\":[198],\"dtype\":\"float64\",\"order\":\"little\"}],[\"number_of_trades\",{\"type\":\"ndarray\",\"array\":{\"type\":\"bytes\",\"data\":\"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\"},\"shape\":[198],\"dtype\":\"float64\",\"order\":\"little\"}],[\"taker_buy_base_asset_volume\",{\"type\":\"ndarray\",\"array\":{\"type\":\"bytes\",\"data\":\"WmQ73x+h9EAX2c73n5PqQFg5tMhWdupAfT81Xgwh8UBQjZdumCf1QBSuR+HmieVAJzEIrNRr4UCF61G4vg3nQMl2vp/un+lAI9v5fsZkAEEUrkfhYor5QN0kBoEBQPdAy6FFtjN05UAbL90k9u/sQAIrhxZddexACKwcWhRA8EBmZmZmhgLlQI/C9Sgcy9lAd76fGtcG4EAj2/l+3t/lQPT91HilBvxA16NwPWQoAEHdJAaBXCEAQdv5fmpsUOhAke18PwWo5UCLbOf7yenpQHWTGAReyO5ADAIrh2Ap9EBaZDvf54HwQOxRuB4ZT+hAi2zn+xH+5kBeukkMxonlQBkEVg5dyu9ADi2ynZt+80AOLbKd18LgQFTjpZtk1NtAzczMzDjq4UDLoUW2B6zmQKwcWmST2+dATDeJQZhH70CwcmiRveXrQMP1KFz/hNxAGy/dJOKo5kBqvHSTcJvjQPp+arxgXepAbxKDwF7O6kC6SQwC10bkQMUgsHIM8uBAxSCwcnSm40AMAiuH1mHwQIXrUbhYqvRACtejcLd+80DpJjEIIJTyQC2yne8Teu9A7nw/NW525EDZzvdTD03qQNejcD2wRvFAtMh2vn/j9UBzaJHtoHjwQPp+arygYeVAvp8aL5V16ECamZmZlfDpQFK4HoWjzeRADAIrhyL56EAUrkfh+pLgQLpJDALjEtpAhxbZzj8r6kC8dJMYIATtQIcW2c6XJ/FA/tR46Xa070DJdr6fIjHlQLgehethOd1Aj8L1KJxa5kCcxCCwBtjhQFK4HoUrw+lAdZMYBKgk9ECamZmZjSrlQA4tsp1nHN5A4XoUrm/n30CkcD0KM0fjQOxRuB5lweNAsp3vp6qX6kAfhetRcCPeQDm0yHbuctlAd76fGo/R3ECwcmiRUWHrQOxRuB5plOlAVOOlm+CA7ED+1HjpHnXdQKrx0k06wdtA6SYxCJSJ7kB/arx063TxQOf7qfEuoepA16NwPcI790Cq8dJN6m7fQOkmMQhUvNxAfT81Xirq5EC0yHa+l0zdQPYoXI9uh/JAexSuR8HI8kBaZDvfY/TgQPyp8dJNjOpA/tR46Zb84UCJQWDlUNngQF66SQz6huFATDeJQZw060B3vp8aN07YQPYoXI8mTeFADAIrh9YF6UDP91PjVWTeQCGwcmgdBOJAXrpJDJ5g60AQWDm0nJ/oQE5iEFjzw/RA7nw/Nfw/9kDD9ShcSw/0QNEi2/mkpvBAexSuR4eE/ECsHFpkXUbzQJ7vp8bXtO1AsHJokc2w7kC0yHa+F+z0QGDl0CJddvVAN4lBYN2JAkGWQ4tsD9P2QC2yne//F+tArkfhelA+6EAxCKwcZnLmQC2yne8tCvpArkfheiT79UD0/dR4ldPuQGZmZmZ6/edAXI/C9bTW6UBt5/up8erpQH0/NV5iqepAVOOlm0it50C0yHa+GzPnQDm0yHZKKeNA46WbxJz68EBQjZduqvHrQIXrUbhkNvJAAAAAADiR6UASg8DKKc7cQOf7qfHi5dlAnMQgsMJP40BeukkMYsDjQJHtfD+R0OdAGQRWDnE85kBzaJHtlMzzQAIrhxav+/NAbef7qcWz60DD9Shc9+TnQPYoXI/qouRAf2q8dEW++UBxPQrXl7ftQLTIdr4f9uNAy6FFtq+X5kCyne+nMofgQDEIrBzGnOxAjZduEqum6kDsUbgeI5TzQIcW2c6b+uNAXrpJDCY74ECDwMqhgWrkQG8Sg8COqupAjZduEqMP8ECgGi/dvg35QI/C9SgsbeBAzczMzAwQ4EBeukkM/nrkQGZmZmbuMuVAO99PjW/s7EBxPQrXcdXyQOF6FK57IORA2c73Ux8c5kCTGARWPjDkQLgehevfZPBA7FG4HsUN9kB3vp8a4x31QLKd76fSgepAukkMAit67kBoke18n9zsQKabxCA0I+dAc2iR7bo48kCTGARWUoXmQJhuEoPgY+FADi2ynbvv40AxCKwcPinhQESLbOezKflAjZduElcf+0ASg8DKvdzwQPp+arzoHOtA9ihcj0It6UA9CtejIBIEQVYOLbIHQwdBx0s3iUuQ+0CJQWDlGgn0QG3n+6kp/PZA\"},\"shape\":[198],\"dtype\":\"float64\",\"order\":\"little\"}],[\"taker_buy_quote_asset_volume\",{\"type\":\"ndarray\",\"array\":{\"type\":\"bytes\",\"data\":\"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\"},\"shape\":[198],\"dtype\":\"float64\",\"order\":\"little\"}],[\"ignore\",{\"type\":\"ndarray\",\"array\":{\"type\":\"bytes\",\"data\":\"AAAAAAAAAAAAAAAAAAAAAAAAAAAAAAAAAAAAAAAAAAAAAAAAAAAAAAAAAAAAAAAAAAAAAAAAAAAAAAAAAAAAAAAAAAAAAAAAAAAAAAAAAAAAAAAAAAAAAAAAAAAAAAAAAAAAAAAAAAAAAAAAAAAAAAAAAAAAAAAAAAAAAAAAAAAAAAAAAAAAAAAAAAAAAAAAAAAAAAAAAAAAAAAAAAAAAAAAAAAAAAAAAAAAAAAAAAAAAAAAAAAAAAAAAAAAAAAAAAAAAAAAAAAAAAAAAAAAAAAAAAAAAAAAAAAAAAAAAAAAAAAAAAAAAAAAAAAAAAAAAAAAAAAAAAAAAAAAAAAAAAAAAAAAAAAAAAAAAAAAAAAAAAAAAAAAAAAAAAAAAAAAAAAAAAAAAAAAAAAAAAAAAAAAAAAAAAAAAAAAAAAAAAAAAAAAAAAAAAAAAAAAAAAAAAAAAAAAAAAAAAAAAAAAAAAAAAAAAAAAAAAAAAAAAAAAAAAAAAAAAAAAAAAAAAAAAAAAAAAAAAAAAAAAAAAAAAAAAAAAAAAAAAAAAAAAAAAAAAAAAAAAAAAAAAAAAAAAAAAAAAAAAAAAAAAAAAAAAAAAAAAAAAAAAAAAAAAAAAAAAAAAAAAAAAAAAAAAAAAAAAAAAAAAAAAAAAAAAAAAAAAAAAAAAAAAAAAAAAAAAAAAAAAAAAAAAAAAAAAAAAAAAAAAAAAAAAAAAAAAAAAAAAAAAAAAAAAAAAAAAAAAAAAAAAAAAAAAAAAAAAAAAAAAAAAAAAAAAAAAAAAAAAAAAAAAAAAAAAAAAAAAAAAAAAAAAAAAAAAAAAAAAAAAAAAAAAAAAAAAAAAAAAAAAAAAAAAAAAAAAAAAAAAAAAAAAAAAAAAAAAAAAAAAAAAAAAAAAAAAAAAAAAAAAAAAAAAAAAAAAAAAAAAAAAAAAAAAAAAAAAAAAAAAAAAAAAAAAAAAAAAAAAAAAAAAAAAAAAAAAAAAAAAAAAAAAAAAAAAAAAAAAAAAAAAAAAAAAAAAAAAAAAAAAAAAAAAAAAAAAAAAAAAAAAAAAAAA\"},\"shape\":[198],\"dtype\":\"int32\",\"order\":\"little\"}],[\"pivothigh\",{\"type\":\"ndarray\",\"array\":{\"type\":\"bytes\",\"data\":\"XI/C9eCN70Bcj8L14I3vQFyPwvXgje9AXI/C9eCN70Bcj8L14I3vQFyPwvXgje9AXI/C9eCN70Bcj8L14I3vQFyPwvXgje9AXI/C9eCN70Bcj8L14I3vQFyPwvXgje9AXI/C9eCN70Bcj8L14I3vQFyPwvXgje9AXI/C9eCN70Bcj8L14I3vQFyPwvXgje9AXI/C9eCN70Bcj8L14I3vQFyPwvXgje9AXI/C9eCN70Bcj8L14I3vQFyPwvXgje9AXI/C9eCN70Bcj8L14I3vQFyPwvXgje9AXI/C9eCN70Bcj8L14I3vQFyPwvXgje9AXI/C9eCN70Bcj8L14I3vQFyPwvXgje9AXI/C9eCN70Bcj8L14I3vQFyPwvXgje9AXI/C9eCN70Bcj8L14I3vQFyPwvXgje9AXI/C9eCN70Bcj8L14I3vQFyPwvXgje9AXI/C9eCN70Bcj8L14I3vQFyPwvXgje9AXI/C9eCN70Bcj8L14I3vQFyPwvXgje9AXI/C9eCN70Bcj8L14I3vQFyPwvXgje9AXI/C9eCN70Bcj8L14I3vQFyPwvXgje9AXI/C9eCN70Bcj8L14I3vQFyPwvXgje9AXI/C9eCN70Bcj8L14I3vQFyPwvXgje9AXI/C9eCN70Bcj8L14I3vQFyPwvXgje9AXI/C9eCN70Bcj8L14I3vQFyPwvXgje9AXI/C9eCN70Bcj8L14I3vQFyPwvXgje9AXI/C9eCN70Bcj8L14I3vQFyPwvXgje9AXI/C9eCN70Bcj8L14I3vQFyPwvXgje9AXI/C9eCN70Bcj8L14I3vQFyPwvXgje9AXI/C9eCN70Bcj8L14I3vQFyPwvXgje9AXI/C9eCN70Bcj8L14I3vQFyPwvXgje9AXI/C9eCN70Bcj8L14I3vQFyPwvXgje9AXI/C9eCN70Bcj8L14I3vQFyPwvXgje9AXI/C9eCN70Bcj8L14I3vQFyPwvXgje9AXI/C9eCN70Bcj8L14I3vQFyPwvXgje9AXI/C9eCN70Bcj8L14I3vQFyPwvXgje9AXI/C9eCN70Bcj8L14I3vQFyPwvXgje9AXI/C9eCN70Bcj8L14I3vQFyPwvXgje9AXI/C9eCN70Bcj8L14I3vQFyPwvXgje9AXI/C9eCN70Bcj8L14I3vQFyPwvXgje9AXI/C9eCN70Bcj8L14I3vQFyPwvXgje9AXI/C9eCN70Bcj8L14I3vQFyPwvXgje9AXI/C9eCN70Bcj8L14I3vQFyPwvXgje9AXI/C9eCN70Bcj8L14I3vQFyPwvXgje9AXI/C9eCN70Bcj8L14I3vQFyPwvXgje9AXI/C9eCN70Bcj8L14I3vQFyPwvXgje9AXI/C9eCN70Bcj8L14I3vQFyPwvXgje9AXI/C9eCN70Bcj8L14I3vQFyPwvXgje9AXI/C9eCN70Bcj8L14I3vQFyPwvXgje9AXI/C9eCN70Bcj8L14I3vQFyPwvXgje9AXI/C9eCN70Bcj8L14I3vQFyPwvXgje9AXI/C9eCN70Bcj8L14I3vQFyPwvXgje9AXI/C9eCN70Bcj8L14I3vQFyPwvXgje9AXI/C9eCN70Bcj8L14I3vQFyPwvXgje9AXI/C9eCN70Bcj8L14I3vQFyPwvXgje9AXI/C9eCN70Bcj8L14I3vQFyPwvXgje9AXI/C9eCN70Bcj8L14I3vQFyPwvXgje9AXI/C9eCN70Bcj8L14I3vQFyPwvXgje9AXI/C9eCN70Bcj8L14I3vQFyPwvXgje9AXI/C9eCN70Bcj8L14I3vQFyPwvXgje9AXI/C9eCN70Bcj8L14I3vQFyPwvXgje9AXI/C9eCN70Bcj8L14I3vQFyPwvXgje9AXI/C9eCN70Bcj8L14I3vQFyPwvXgje9AXI/C9eCN70Bcj8L14I3vQFyPwvXgje9AXI/C9eCN70Bcj8L14I3vQFyPwvXgje9AXI/C9eCN70Bcj8L14I3vQFyPwvXgje9AXI/C9eCN70Bcj8L14I3vQFyPwvXgje9AXI/C9eCN70Bcj8L14I3vQFyPwvXgje9AXI/C9eCN70Bcj8L14I3vQFyPwvXgje9A\"},\"shape\":[198],\"dtype\":\"float64\",\"order\":\"little\"}],[\"pivotlow\",{\"type\":\"ndarray\",\"array\":{\"type\":\"bytes\",\"data\":\"H4XrUaib3UAfhetRqJvdQB+F61Gom91AH4XrUaib3UAfhetRqJvdQB+F61Gom91AH4XrUaib3UAfhetRqJvdQB+F61Gom91AH4XrUaib3UAfhetRqJvdQB+F61Gom91AH4XrUaib3UAfhetRqJvdQB+F61Gom91AH4XrUaib3UAfhetRqJvdQB+F61Gom91AH4XrUaib3UAfhetRqJvdQB+F61Gom91AH4XrUaib3UAfhetRqJvdQB+F61Gom91AH4XrUaib3UAfhetRqJvdQB+F61Gom91AH4XrUaib3UAfhetRqJvdQB+F61Gom91AH4XrUaib3UAfhetRqJvdQB+F61Gom91AH4XrUaib3UAfhetRqJvdQB+F61Gom91AH4XrUaib3UAfhetRqJvdQB+F61Gom91AH4XrUaib3UAfhetRqJvdQB+F61Gom91AH4XrUaib3UAfhetRqJvdQB+F61Gom91AH4XrUaib3UAfhetRqJvdQB+F61Gom91AH4XrUaib3UAfhetRqJvdQB+F61Gom91AH4XrUaib3UAfhetRqJvdQB+F61Gom91AH4XrUaib3UAfhetRqJvdQB+F61Gom91AH4XrUaib3UAfhetRqJvdQB+F61Gom91AH4XrUaib3UAfhetRqJvdQB+F61Gom91AH4XrUaib3UAfhetRqJvdQB+F61Gom91AH4XrUaib3UAfhetRqJvdQB+F61Gom91AH4XrUaib3UAfhetRqJvdQB+F61Gom91AH4XrUaib3UAfhetRqJvdQB+F61Gom91AH4XrUaib3UAfhetRqJvdQB+F61Gom91AH4XrUaib3UAfhetRqJvdQB+F61Gom91AH4XrUaib3UAfhetRqJvdQB+F61Gom91AH4XrUaib3UAfhetRqJvdQB+F61Gom91AH4XrUaib3UAfhetRqJvdQB+F61Gom91AH4XrUaib3UAfhetRqJvdQB+F61Gom91AH4XrUaib3UAfhetRqJvdQB+F61Gom91AH4XrUaib3UAfhetRqJvdQB+F61Gom91AH4XrUaib3UAfhetRqJvdQB+F61Gom91AH4XrUaib3UAfhetRqJvdQB+F61Gom91AH4XrUaib3UAfhetRqJvdQB+F61Gom91AH4XrUaib3UAfhetRqJvdQB+F61Gom91AH4XrUaib3UAfhetRqJvdQB+F61Gom91AH4XrUaib3UAfhetRqJvdQB+F61Gom91AH4XrUaib3UAfhetRqJvdQB+F61Gom91AH4XrUaib3UAfhetRqJvdQB+F61Gom91AH4XrUaib3UAfhetRqJvdQB+F61Gom91AH4XrUaib3UAfhetRqJvdQB+F61Gom91AH4XrUaib3UAfhetRqJvdQB+F61Gom91AH4XrUaib3UAfhetRqJvdQB+F61Gom91AH4XrUaib3UAfhetRqJvdQI/C9Si88d5Aj8L1KLzx3kCPwvUovPHeQI/C9Si88d5Aj8L1KLzx3kCPwvUovPHeQI/C9Si88d5Aj8L1KLzx3kCPwvUovPHeQI/C9Si88d5Aj8L1KLzx3kCPwvUovPHeQI/C9Si88d5Aj8L1KLzx3kCPwvUovPHeQI/C9Si88d5Aj8L1KLzx3kCPwvUovPHeQI/C9Si88d5Aj8L1KLzx3kCPwvUovPHeQI/C9Si88d5Aj8L1KLzx3kCPwvUovPHeQI/C9Si88d5Aj8L1KLzx3kCPwvUovPHeQI/C9Si88d5Aj8L1KLzx3kCPwvUovPHeQI/C9Si88d5Aj8L1KLzx3kCPwvUovPHeQI/C9Si88d5Aj8L1KLzx3kCPwvUovPHeQI/C9Si88d5Aj8L1KLzx3kCPwvUovPHeQI/C9Si88d5Aj8L1KLzx3kCPwvUovPHeQI/C9Si88d5Aj8L1KLzx3kCPwvUovPHeQI/C9Si88d5Aj8L1KLzx3kCPwvUovPHeQI/C9Si88d5Aj8L1KLzx3kCPwvUovPHeQI/C9Si88d5Aj8L1KLzx3kCPwvUovPHeQI/C9Si88d5Aj8L1KLzx3kCPwvUovPHeQI/C9Si88d5Aj8L1KLzx3kCPwvUovPHeQI/C9Si88d5A\"},\"shape\":[198],\"dtype\":\"float64\",\"order\":\"little\"}],[\"break_pivot_high\",{\"type\":\"ndarray\",\"array\":{\"type\":\"bytes\",\"data\":\"AAAAAAAAAAAAAAAAAAAAAAAAAAAAAAAAAAAAAAAAAAAAAAAAAAAAAAAAAAAAAAAAAAAAAAAAAAAAAAAAAAAAAAAAAAAAAAAAAAAAAAAAAAAAAAAAAAAAAAAAAAAAAAAAAAAAAAAAAAAAAAAAAAAAAAAAAAAAAAAAAAAAAAAAAAAAAAAAAAAAAAAAAAAAAAAAAAAAAAAAAAAAAAAAAAAAAAAAAAAAAAAAAAAAAAAAAAAAAAAAAAAAAAAAAAAAAAAAAAAAAAAAAAAAAAAAAAAAAAAAAAAAAAAAAAAAAAAAAAAAAAAAAAAAAAAAAAAAAAAAAAAAAAAAAAAAAAAAAAAAAAAAAAAAAAAAAAAAAAAAAAAAAAAAAAAAAAAAAAAAAAAAAAAAAAAAAAAAAAAAAAAAAAAAAAAAAAAAAAAAAAAAAAAAAAAAAAAAAAAAAAAAAAAAAAAAAAAAAAAAAAAAAAAAAAAAAAAAAAAAAAAAAAAAAAAAAAAAAAAAAAAAAAAAAAAAAAAAAAAAAAAAAAAAAAAAAAAAAAAAAAAAAAAAAAAAAAAAAAAAAAAAAAAAAAAAAAAAAAAAAAAAAAAAAAAAAAAAAAAAAAAAAAAAAAAAAAAAAAAAAAAAAAAAAAAAAAAAAAAAAAAAAAAAAAAAAAAAAAAAAAAAAAAAAAAAAAAAAAAAAAAAAAAAAAAAAAAAAAAAAAAAAAAAAAAAAAAAAAAAAAAAAAAAAAAAAAAAAAAAAAAAAAAAAAAAAAAAAAAAAAAAAAAAAAAAAAAAAAAAAAAAAAAAAAAAAAAAAAAAAAAAAAAAAAAAAAAAAAAAAAAAAAAAAAAAAAAAAAAAAAAAAAAAAAAAAAAAAAAAAAAAAAAAAAAAAAAAAAAAAAAAAAAAAAAAAAAAAAAAAAAAAAAAAAAAAAAAAAAAAAAAAAAAAAAAAAAAAAAAAAAAAAAAAAAAAAAAAAAAAAAAAAAAAAAAAAAAAAAAAAAAAAAAAAAAAAAAAAAAAAAAAAAAAAAAAAAAAAAAAAAAAAAAAAAAAAAAAAAAAAAAAAAAAAAAAAAA\"},\"shape\":[198],\"dtype\":\"int32\",\"order\":\"little\"}],[\"break_pivot_low\",{\"type\":\"ndarray\",\"array\":{\"type\":\"bytes\",\"data\":\"AAAAAAAAAAAAAAAAAAAAAAAAAAAAAAAAAAAAAAAAAAAAAAAAAAAAAAAAAAAAAAAAAAAAAAAAAAAAAAAAAAAAAAAAAAAAAAAAAAAAAAAAAAAAAAAAAAAAAAAAAAAAAAAAAAAAAAAAAAAAAAAAAAAAAAAAAAAAAAAAAAAAAAAAAAAAAAAAAAAAAAAAAAAAAAAAAAAAAAAAAAAAAAAAAAAAAAAAAAAAAAAAAAAAAAAAAAAAAAAAAAAAAAAAAAAAAAAAAAAAAAAAAAAAAAAAAAAAAAAAAAAAAAAAAAAAAAAAAAAAAAAAAAAAAAAAAAAAAAAAAAAAAAAAAAAAAAAAAAAAAAAAAAAAAAAAAAAAAAAAAAAAAAAAAAAAAAAAAAAAAAAAAAAAAAAAAAAAAAAAAAAAAAAAAAAAAAAAAAAAAAAAAAAAAAAAAAAAAAAAAAAAAAAAAAAAAAAAAAAAAAAAAAAAAAAAAAAAAAAAAAAAAAAAAAAAAAAAAAAAAAAAAAAAAAAAAAAAAAAAAAAAAAAAAAAAAAAAAAAAAAAAAAAAAAAAAAAAAAAAAAAAAAAAAAAAAAAAAAAAAAAAAAAAAAAAAAAAAAAAAAAAAAAAAAAAAAAAAAAAAAAAAAAAAAAAAAAAAAAAAAAAAAAAAAAAAAAAAAAAAAAAAAAAAAAAAAAAAAAAAAAAAAAAAAAAAAAAAAAAAAAAAAAAAAAAAAAAAAAAAAAAAAAAAAAAAAAAAAAAAAAAAAAAAAAAAAAAAAAAAAAAAAAAAAAAAAAAAAAAAAAAAAAAAAAAAAAAAAAAAAAAAAAAAAAAAAAAAAAAAAAAAAAAAAAAAAAAAAAAAAAAAAAAAAAAAAAAAAAAAAAAAAAAAAAAAAAAAAAAAAAAAAAAAAAAAAAAAAAAAAAAAAAAAAAAAAAAAAAAAAAAAAAAAAAAAAAAAAAAAAAAAAAAAAAAAAAAAAAAAAAAAAAAAAAAAAAAAAAAAAAAAAAAAAAAAAAAAAAAAAAAAAAAAAAAAAAAAAAAAAAAAAAAAAAAAAAAAAAAAAAAAAAAAAABAAAA\"},\"shape\":[198],\"dtype\":\"int32\",\"order\":\"little\"}],[\"pivot_high_change\",{\"type\":\"ndarray\",\"array\":{\"type\":\"bytes\",\"data\":\"AAAAAAAAAAAAAAAAAAAAAAAAAAAAAAAAAAAAAAAAAAAAAAAAAAAAAAAAAAAAAAAAAAAAAAAAAAAAAAAAAAAAAAAAAAAAAAAAAAAAAAAAAAAAAAAAAAAAAAAAAAAAAAAAAAAAAAAAAAAAAAAAAAAAAAAAAAAAAAAAAAAAAAAAAAAAAAAAAAAAAAAAAAAAAAAAAAAAAAAAAAAAAAAAAAAAAAAAAAAAAAAAAAAAAAAAAAAAAAAAAAAAAAAAAAAAAAAAAAAAAAAAAAAAAAAAAAAAAAAAAAAAAAAAAAAAAAAAAAAAAAAAAAAAAAAAAAAAAAAAAAAAAAAAAAAAAAAAAAAAAAAAAAAAAAAAAAAAAAAAAAAAAAAAAAAAAAAAAAAAAAAAAAAAAAAAAAAAAAAAAAAAAAAAAAAAAAAAAAAAAAAAAAAAAAAAAAAAAAAAAAAAAAAAAAAAAAAAAAAAAAAAAAAAAAAAAAAAAAAAAAAAAAAAAAAAAAAAAAAAAAAAAAAAAAAAAAAAAAAAAAAAAAAAAAAAAAAAAAAAAAAAAAAAAAAAAAAAAAAAAAAAAAAAAAAAAAAAAAAAAAAAAAAAAAAAAAAAAAAAAAAAAAAAAAAAAAAAAAAAAAAAAAAAAAAAAAAAAAAAAAAAAAAAAAAAAAAAAAAAAAAAAAAAAAAAAAAAAAAAAAAAAAAAAAAAAAAAAAAAAAAAAAAAAAAAAAAAAAAAAAAAAAAAAAAAAAAAAAAAAAAAAAAAAAAAAAAAAAAAAAAAAAAAAAAAAAAAAAAAAAAAAAAAAAAAAAAAAAAAAAAAAAAAAAAAAAAAAAAAAAAAAAAAAAAAAAAAAAAAAAAAAAAAAAAAAAAAAAAAAAAAAAAAAAAAAAAAAAAAAAAAAAAAAAAAAAAAAAAAAAAAAAAAAAAAAAAAAAAAAAAAAAAAAAAAAAAAAAAAAAAAAAAAAAAAAAAAAAAAAAAAAAAAAAAAAAAAAAAAAAAAAAAAAAAAAAAAAAAAAAAAAAAAAAAAAAAAAAAAAAAAAAAAAAAAAAAAAAAAAAAAAAAAAAAAAAAA\"},\"shape\":[198],\"dtype\":\"int32\",\"order\":\"little\"}],[\"pivot_low_change\",{\"type\":\"ndarray\",\"array\":{\"type\":\"bytes\",\"data\":\"AAAAAAAAAAAAAAAAAAAAAAAAAAAAAAAAAAAAAAAAAAAAAAAAAAAAAAAAAAAAAAAAAAAAAAAAAAAAAAAAAAAAAAAAAAAAAAAAAAAAAAAAAAAAAAAAAAAAAAAAAAAAAAAAAAAAAAAAAAAAAAAAAAAAAAAAAAAAAAAAAAAAAAAAAAAAAAAAAAAAAAAAAAAAAAAAAAAAAAAAAAAAAAAAAAAAAAAAAAAAAAAAAAAAAAAAAAAAAAAAAAAAAAAAAAAAAAAAAAAAAAAAAAAAAAAAAAAAAAAAAAAAAAAAAAAAAAAAAAAAAAAAAAAAAAAAAAAAAAAAAAAAAAAAAAAAAAAAAAAAAAAAAAAAAAAAAAAAAAAAAAAAAAAAAAAAAAAAAAAAAAAAAAAAAAAAAAAAAAAAAAAAAAAAAAAAAAAAAAAAAAAAAAAAAAAAAAAAAAAAAAAAAAAAAAAAAAAAAAAAAAAAAAAAAAAAAAAAAAAAAAAAAAAAAAAAAAAAAAAAAAAAAAAAAAAAAAAAAAAAAAAAAAAAAAAAAAAAAAAAAAAAAAAAAAAAAAAAAAAAAAAAAAAAAAAAAAAAAAAAAAAAAAAAAAAAAAAAAAAAAAAAAAAAAAAAAAAAAAAAAAAAAAAAAAAAAAAAAAAAAAAAAAAAAAAAAAAAAAAAAAAAAAAAAAAAAAAAAAAAAAAAAAAAAAAAAAAAAAAAAAAAAAAAAAAAAAAAAAAAAAAAAAAAAAABAAAAAAAAAAAAAAAAAAAAAAAAAAAAAAAAAAAAAAAAAAAAAAAAAAAAAAAAAAAAAAAAAAAAAAAAAAAAAAAAAAAAAAAAAAAAAAAAAAAAAAAAAAAAAAAAAAAAAAAAAAAAAAAAAAAAAAAAAAAAAAAAAAAAAAAAAAAAAAAAAAAAAAAAAAAAAAAAAAAAAAAAAAAAAAAAAAAAAAAAAAAAAAAAAAAAAAAAAAAAAAAAAAAAAAAAAAAAAAAAAAAAAAAAAAAAAAAAAAAAAAAAAAAAAAAAAAAAAAAAAAAAAAAAAAAAAAAAAAAAAAAAAAAAAAAAAAAAAAAAAAAA\"},\"shape\":[198],\"dtype\":\"int32\",\"order\":\"little\"}],[\"rebreak_high\",{\"type\":\"ndarray\",\"array\":{\"type\":\"bytes\",\"data\":\"AAAAAAAAAAAAAAAAAAAAAAAAAAAAAAAAAAAAAAAAAAAAAAAAAAAAAAAAAAAAAAAAAAAAAAAAAAAAAAAAAAAAAAAAAAAAAAAAAAAAAAAAAAAAAAAAAAAAAAAAAAAAAAAAAAAAAAAAAAAAAAAAAAAAAAAAAAAAAAAAAAAAAAAAAAAAAAAAAAAAAAAAAAAAAAAAAAAAAAAAAAAAAAAAAAAAAAAAAAAAAAAAAAAAAAAAAAAAAAAAAAAAAAAAAAAAAAAAAAAAAAAAAAAAAAAAAAAAAAAAAAAAAAAAAAAAAAAAAAAAAAAAAAAAAAAAAAAAAAAAAAAAAAAAAAAAAAAAAAAAAAAAAAAAAAAAAAAAAAAAAAAAAAAAAAAAAAAAAAAAAAAAAAAAAAAAAAAAAAAAAAAAAAAAAAAAAAAAAAAAAAAAAAAAAAAAAAAAAAAAAAAAAAAAAAAAAAAAAAAAAAAAAAAAAAAAAAAAAAAAAAAAAAAAAAAAAAAAAAAAAAAAAAAAAAAAAAAAAAAAAAAAAAAAAAAAAAAAAAAAAAAAAAAAAAAAAAAAAAAAAAAAAAAAAAAAAAAAAAAAAAAAAAAAAAAAAAAAAAAAAAAAAAAAAAAAAAAAAAAAAAAAAAAAAAAAAAAAAAAAAAAAAAAAAAAAAAAAAAAAAAAAAAAAAAAAAAAAAAAAAAAAAAAAAAAAAAAAAAAAAAAAAAAAAAAAAAAAAAAAAAAAAAAAAAAAAAAAAAAAAAAAAAAAAAAAAAAAAAAAAAAAAAAAAAAAAAAAAAAAAAAAAAAAAAAAAAAAAAAAAAAAAAAAAAAAAAAAAAAAAAAAAAAAAAAAAAAAAAAAAAAAAAAAAAAAAAAAAAAAAAAAAAAAAAAAAAAAAAAAAAAAAAAAAAAAAAAAAAAAAAAAAAAAAAAAAAAAAAAAAAAAAAAAAAAAAAAAAAAAAAAAAAAAAAAAAAAAAAAAAAAAAAAAAAAAAAAAAAAAAAAAAAAAAAAAAAAAAAAAAAAAAAAAAAAAAAAAAAAAAAAAAAAAAAAAAAAAAAAAAAAAAAAAAAAAAAAA\"},\"shape\":[198],\"dtype\":\"int32\",\"order\":\"little\"}],[\"rebreak_low\",{\"type\":\"ndarray\",\"array\":{\"type\":\"bytes\",\"data\":\"AAAAAAAAAAAAAAAAAAAAAAAAAAAAAAAAAAAAAAAAAAAAAAAAAAAAAAAAAAAAAAAAAAAAAAAAAAAAAAAAAAAAAAAAAAAAAAAAAAAAAAAAAAAAAAAAAAAAAAAAAAAAAAAAAAAAAAAAAAAAAAAAAAAAAAAAAAAAAAAAAAAAAAAAAAAAAAAAAAAAAAAAAAAAAAAAAAAAAAAAAAAAAAAAAAAAAAAAAAAAAAAAAAAAAAAAAAAAAAAAAAAAAAAAAAAAAAAAAAAAAAAAAAAAAAAAAAAAAAAAAAAAAAAAAAAAAAAAAAAAAAAAAAAAAAAAAAAAAAAAAAAAAAAAAAAAAAAAAAAAAAAAAAAAAAAAAAAAAAAAAAAAAAAAAAAAAAAAAAAAAAAAAAAAAAAAAAAAAAAAAAAAAAAAAAAAAAAAAAAAAAAAAAAAAAAAAAAAAAAAAAAAAAAAAAAAAAAAAAAAAAAAAAAAAAAAAAAAAAAAAAAAAAAAAAAAAAAAAAAAAAAAAAAAAAAAAAAAAAAAAAAAAAAAAAAAAAAAAAAAAAAAAAAAAAAAAAAAAAAAAAAAAAAAAAAAAAAAAAAAAAAAAAAAAAAAAAAAAAAAAAAAAAAAAAAAAAAAAAAAAAAAAAAAAAAAAAAAAAAAAAAAAAAAAAAAAAAAAAAAAAAAAAAAAAAAAAAAAAAAAAAAAAAAAAAAAAAAAAAAAAAAAAAAAAAAAAAAAAAAAAAAAAAAAAAAAAAAAAAAAAAAAAAAAAAAAAAAAAAAAAAAAAAAAAAAAAAAAAAAAAAAAAAAAAAAAAAAAAAAAAAAAAAAAAAAAAAAAAAAAAAAAAAAAAAAAAAAAAAAAAAAAAAAAAAAAAAAAAAAAAAAAAAAAAAAAAAAAAAAAAAAAAAAAAAAAAAAAAAAAAAAAAAAAAAAAAAAAAAAAAAAAAAAAAAAAAAAAAAAAAAAAAAAAAAAAAAAAAAAAAAAAAAAAAAAAAAAAAAAAAAAAAAAAAAAAAAAAAAAAAAAAAAAAAAAAAAAAAAAAAAAAAAAAAAAAAAAAAAAAAAAAAAAAAAAAAAA\"},\"shape\":[198],\"dtype\":\"int32\",\"order\":\"little\"}],[\"Equity\",{\"type\":\"ndarray\",\"array\":{\"type\":\"bytes\",\"data\":\"HbtENc5G9kAdu0Q1zkb2QB27RDXORvZAHbtENc5G9kAdu0Q1zkb2QB27RDXORvZAHbtENc5G9kAdu0Q1zkb2QB27RDXORvZAHbtENc5G9kAdu0Q1zkb2QB27RDXORvZAHbtENc5G9kAdu0Q1zkb2QB27RDXORvZAHbtENc5G9kAdu0Q1zkb2QB27RDXORvZAHbtENc5G9kAdu0Q1zkb2QB27RDXORvZAHbtENc5G9kAdu0Q1zkb2QB27RDXORvZAHbtENc5G9kAdu0Q1zkb2QB27RDXORvZAHbtENc5G9kAdu0Q1zkb2QB27RDXORvZAHbtENc5G9kAdu0Q1zkb2QB27RDXORvZAHbtENc5G9kAdu0Q1zkb2QB27RDXORvZAHbtENc5G9kAdu0Q1zkb2QB27RDXORvZAHbtENc5G9kAdu0Q1zkb2QB27RDXORvZAHbtENc5G9kAdu0Q1zkb2QB27RDXORvZAHbtENc5G9kAdu0Q1zkb2QB27RDXORvZAHbtENc5G9kAdu0Q1zkb2QB27RDXORvZAHbtENc5G9kAdu0Q1zkb2QB27RDXORvZAHbtENc5G9kAdu0Q1zkb2QB27RDXORvZAHbtENc5G9kAdu0Q1zkb2QB27RDXORvZAHbtENc5G9kAdu0Q1zkb2QB27RDXORvZAHbtENc5G9kAdu0Q1zkb2QB27RDXORvZAHbtENc5G9kAdu0Q1zkb2QB27RDXORvZAHbtENc5G9kAdu0Q1zkb2QB27RDXORvZAHbtENc5G9kAdu0Q1zkb2QB27RDXORvZAHbtENc5G9kAdu0Q1zkb2QB27RDXORvZAHbtENc5G9kAdu0Q1zkb2QB27RDXORvZAHbtENc5G9kAdu0Q1zkb2QB27RDXORvZAHbtENc5G9kAdu0Q1zkb2QB27RDXORvZAHbtENc5G9kAdu0Q1zkb2QB27RDXORvZAHbtENc5G9kAdu0Q1zkb2QB27RDXORvZAHbtENc5G9kAdu0Q1zkb2QB27RDXORvZAHbtENc5G9kAdu0Q1zkb2QB27RDXORvZAHbtENc5G9kAdu0Q1zkb2QB27RDXORvZAHbtENc5G9kAdu0Q1zkb2QB27RDXORvZAHbtENc5G9kAdu0Q1zkb2QB27RDXORvZAHbtENc5G9kAdu0Q1zkb2QB27RDXORvZAHbtENc5G9kAdu0Q1zkb2QB27RDXORvZAHbtENc5G9kAdu0Q1zkb2QB27RDXORvZAHbtENc5G9kAdu0Q1zkb2QB27RDXORvZAHbtENc5G9kAdu0Q1zkb2QB27RDXORvZAHbtENc5G9kAdu0Q1zkb2QB27RDXORvZAHbtENc5G9kAdu0Q1zkb2QB27RDXORvZAHbtENc5G9kAdu0Q1zkb2QB27RDXORvZAHbtENc5G9kAdu0Q1zkb2QB27RDXORvZAHbtENc5G9kAdu0Q1zkb2QB27RDXORvZAHbtENc5G9kAdu0Q1zkb2QB27RDXORvZAHbtENc5G9kAdu0Q1zkb2QB27RDXORvZAHbtENc5G9kAdu0Q1zkb2QB27RDXORvZAHbtENc5G9kAdu0Q1zkb2QB27RDXORvZAHbtENc5G9kAdu0Q1zkb2QB27RDXORvZAHbtENc5G9kAdu0Q1zkb2QB27RDXORvZAHbtENc5G9kAdu0Q1zkb2QB27RDXORvZAHbtENc5G9kAdu0Q1zkb2QB27RDXORvZAHbtENc5G9kAdu0Q1zkb2QB27RDXORvZAHbtENc5G9kAdu0Q1zkb2QB27RDXORvZAHbtENc5G9kAdu0Q1zkb2QB27RDXORvZAHbtENc5G9kAdu0Q1zkb2QB27RDXORvZAHbtENc5G9kAdu0Q1zkb2QB27RDXORvZAHbtENc5G9kAdu0Q1zkb2QB27RDXORvZAHbtENc5G9kAdu0Q1zkb2QB27RDXORvZAHbtENc5G9kAdu0Q1zkb2QB27RDXORvZAHbtENc5G9kAdu0Q1zkb2QB27RDXORvZAHbtENc5G9kAdu0Q1zkb2QB27RDXORvZAHbtENc5G9kAdu0Q1zkb2QB27RDXORvZAHbtENc5G9kAdu0Q1zkb2QB27RDXORvZA\"},\"shape\":[198],\"dtype\":\"float64\",\"order\":\"little\"}]]}}},\"view\":{\"type\":\"object\",\"name\":\"CDSView\",\"id\":\"p1059\",\"attributes\":{\"filter\":{\"type\":\"object\",\"name\":\"AllIndices\",\"id\":\"p1060\"}}},\"glyph\":{\"type\":\"object\",\"name\":\"Line\",\"id\":\"p1055\",\"attributes\":{\"x\":{\"type\":\"field\",\"field\":\"datetime\"},\"y\":{\"type\":\"field\",\"field\":\"Close\"},\"line_width\":2}},\"nonselection_glyph\":{\"type\":\"object\",\"name\":\"Line\",\"id\":\"p1056\",\"attributes\":{\"x\":{\"type\":\"field\",\"field\":\"datetime\"},\"y\":{\"type\":\"field\",\"field\":\"Close\"},\"line_alpha\":0.1,\"line_width\":2}},\"muted_glyph\":{\"type\":\"object\",\"name\":\"Line\",\"id\":\"p1057\",\"attributes\":{\"x\":{\"type\":\"field\",\"field\":\"datetime\"},\"y\":{\"type\":\"field\",\"field\":\"Close\"},\"line_alpha\":0.2,\"line_width\":2}}}},{\"type\":\"object\",\"name\":\"GlyphRenderer\",\"id\":\"p1069\",\"attributes\":{\"data_source\":{\"id\":\"p1001\"},\"view\":{\"type\":\"object\",\"name\":\"CDSView\",\"id\":\"p1070\",\"attributes\":{\"filter\":{\"type\":\"object\",\"name\":\"AllIndices\",\"id\":\"p1071\"}}},\"glyph\":{\"type\":\"object\",\"name\":\"Line\",\"id\":\"p1066\",\"attributes\":{\"x\":{\"type\":\"field\",\"field\":\"datetime\"},\"y\":{\"type\":\"field\",\"field\":\"pivothigh\"},\"line_color\":\"red\",\"line_width\":2,\"line_dash\":[6]}},\"nonselection_glyph\":{\"type\":\"object\",\"name\":\"Line\",\"id\":\"p1067\",\"attributes\":{\"x\":{\"type\":\"field\",\"field\":\"datetime\"},\"y\":{\"type\":\"field\",\"field\":\"pivothigh\"},\"line_color\":\"red\",\"line_alpha\":0.1,\"line_width\":2,\"line_dash\":[6]}},\"muted_glyph\":{\"type\":\"object\",\"name\":\"Line\",\"id\":\"p1068\",\"attributes\":{\"x\":{\"type\":\"field\",\"field\":\"datetime\"},\"y\":{\"type\":\"field\",\"field\":\"pivothigh\"},\"line_color\":\"red\",\"line_alpha\":0.2,\"line_width\":2,\"line_dash\":[6]}}}},{\"type\":\"object\",\"name\":\"GlyphRenderer\",\"id\":\"p1079\",\"attributes\":{\"data_source\":{\"id\":\"p1001\"},\"view\":{\"type\":\"object\",\"name\":\"CDSView\",\"id\":\"p1080\",\"attributes\":{\"filter\":{\"type\":\"object\",\"name\":\"AllIndices\",\"id\":\"p1081\"}}},\"glyph\":{\"type\":\"object\",\"name\":\"Line\",\"id\":\"p1076\",\"attributes\":{\"x\":{\"type\":\"field\",\"field\":\"datetime\"},\"y\":{\"type\":\"field\",\"field\":\"pivotlow\"},\"line_color\":\"blue\",\"line_width\":2,\"line_dash\":[6]}},\"nonselection_glyph\":{\"type\":\"object\",\"name\":\"Line\",\"id\":\"p1077\",\"attributes\":{\"x\":{\"type\":\"field\",\"field\":\"datetime\"},\"y\":{\"type\":\"field\",\"field\":\"pivotlow\"},\"line_color\":\"blue\",\"line_alpha\":0.1,\"line_width\":2,\"line_dash\":[6]}},\"muted_glyph\":{\"type\":\"object\",\"name\":\"Line\",\"id\":\"p1078\",\"attributes\":{\"x\":{\"type\":\"field\",\"field\":\"datetime\"},\"y\":{\"type\":\"field\",\"field\":\"pivotlow\"},\"line_color\":\"blue\",\"line_alpha\":0.2,\"line_width\":2,\"line_dash\":[6]}}}},{\"type\":\"object\",\"name\":\"GlyphRenderer\",\"id\":\"p1089\",\"attributes\":{\"data_source\":{\"type\":\"object\",\"name\":\"ColumnDataSource\",\"id\":\"p1083\",\"attributes\":{\"selected\":{\"type\":\"object\",\"name\":\"Selection\",\"id\":\"p1084\",\"attributes\":{\"indices\":[],\"line_indices\":[]}},\"selection_policy\":{\"type\":\"object\",\"name\":\"UnionRenderers\",\"id\":\"p1085\"},\"data\":{\"type\":\"map\",\"entries\":[[\"x\",{\"type\":\"ndarray\",\"array\":{\"type\":\"bytes\",\"data\":\"AADgjsqfd0I=\"},\"shape\":[1],\"dtype\":\"float64\",\"order\":\"little\"}],[\"y\",{\"type\":\"ndarray\",\"array\":{\"type\":\"bytes\",\"data\":\"CtejcI024kA=\"},\"shape\":[1],\"dtype\":\"float64\",\"order\":\"little\"}]]}}},\"view\":{\"type\":\"object\",\"name\":\"CDSView\",\"id\":\"p1090\",\"attributes\":{\"filter\":{\"type\":\"object\",\"name\":\"AllIndices\",\"id\":\"p1091\"}}},\"glyph\":{\"type\":\"object\",\"name\":\"Scatter\",\"id\":\"p1086\",\"attributes\":{\"x\":{\"type\":\"field\",\"field\":\"x\"},\"y\":{\"type\":\"field\",\"field\":\"y\"},\"size\":{\"type\":\"value\",\"value\":10},\"line_color\":{\"type\":\"value\",\"value\":\"red\"},\"fill_color\":{\"type\":\"value\",\"value\":\"red\"},\"hatch_color\":{\"type\":\"value\",\"value\":\"red\"},\"marker\":{\"type\":\"value\",\"value\":\"inverted_triangle\"}}},\"nonselection_glyph\":{\"type\":\"object\",\"name\":\"Scatter\",\"id\":\"p1087\",\"attributes\":{\"x\":{\"type\":\"field\",\"field\":\"x\"},\"y\":{\"type\":\"field\",\"field\":\"y\"},\"size\":{\"type\":\"value\",\"value\":10},\"line_color\":{\"type\":\"value\",\"value\":\"red\"},\"line_alpha\":{\"type\":\"value\",\"value\":0.1},\"fill_color\":{\"type\":\"value\",\"value\":\"red\"},\"fill_alpha\":{\"type\":\"value\",\"value\":0.1},\"hatch_color\":{\"type\":\"value\",\"value\":\"red\"},\"hatch_alpha\":{\"type\":\"value\",\"value\":0.1},\"marker\":{\"type\":\"value\",\"value\":\"inverted_triangle\"}}},\"muted_glyph\":{\"type\":\"object\",\"name\":\"Scatter\",\"id\":\"p1088\",\"attributes\":{\"x\":{\"type\":\"field\",\"field\":\"x\"},\"y\":{\"type\":\"field\",\"field\":\"y\"},\"size\":{\"type\":\"value\",\"value\":10},\"line_color\":{\"type\":\"value\",\"value\":\"red\"},\"line_alpha\":{\"type\":\"value\",\"value\":0.2},\"fill_color\":{\"type\":\"value\",\"value\":\"red\"},\"fill_alpha\":{\"type\":\"value\",\"value\":0.2},\"hatch_color\":{\"type\":\"value\",\"value\":\"red\"},\"hatch_alpha\":{\"type\":\"value\",\"value\":0.2},\"marker\":{\"type\":\"value\",\"value\":\"inverted_triangle\"}}}}}],\"toolbar\":{\"type\":\"object\",\"name\":\"Toolbar\",\"id\":\"p1013\",\"attributes\":{\"tools\":[{\"type\":\"object\",\"name\":\"PanTool\",\"id\":\"p1040\"},{\"type\":\"object\",\"name\":\"WheelZoomTool\",\"id\":\"p1041\",\"attributes\":{\"renderers\":\"auto\"}},{\"type\":\"object\",\"name\":\"BoxZoomTool\",\"id\":\"p1042\",\"attributes\":{\"dimensions\":\"both\",\"overlay\":{\"type\":\"object\",\"name\":\"BoxAnnotation\",\"id\":\"p1043\",\"attributes\":{\"syncable\":false,\"line_color\":\"black\",\"line_alpha\":1.0,\"line_width\":2,\"line_dash\":[4,4],\"fill_color\":\"lightgrey\",\"fill_alpha\":0.5,\"level\":\"overlay\",\"visible\":false,\"left\":{\"type\":\"number\",\"value\":\"nan\"},\"right\":{\"type\":\"number\",\"value\":\"nan\"},\"top\":{\"type\":\"number\",\"value\":\"nan\"},\"bottom\":{\"type\":\"number\",\"value\":\"nan\"},\"left_units\":\"canvas\",\"right_units\":\"canvas\",\"top_units\":\"canvas\",\"bottom_units\":\"canvas\",\"handles\":{\"type\":\"object\",\"name\":\"BoxInteractionHandles\",\"id\":\"p1049\",\"attributes\":{\"all\":{\"type\":\"object\",\"name\":\"AreaVisuals\",\"id\":\"p1048\",\"attributes\":{\"fill_color\":\"white\",\"hover_fill_color\":\"lightgray\"}}}}}}}},{\"type\":\"object\",\"name\":\"ResetTool\",\"id\":\"p1050\"},{\"type\":\"object\",\"name\":\"SaveTool\",\"id\":\"p1051\"},{\"type\":\"object\",\"name\":\"HoverTool\",\"id\":\"p1093\",\"attributes\":{\"renderers\":\"auto\",\"tooltips\":[[\"Datetime\",\"@datetime{%F %T}\"],[\"Close\",\"@Close\"],[\"Pivot High\",\"@pivothigh\"],[\"Pivot Low\",\"@pivotlow\"]],\"formatters\":{\"type\":\"map\",\"entries\":[[\"@datetime\",\"datetime\"]]}}}]}},\"left\":[{\"type\":\"object\",\"name\":\"LinearAxis\",\"id\":\"p1035\",\"attributes\":{\"ticker\":{\"type\":\"object\",\"name\":\"BasicTicker\",\"id\":\"p1036\",\"attributes\":{\"mantissas\":[1,2,5]}},\"formatter\":{\"type\":\"object\",\"name\":\"BasicTickFormatter\",\"id\":\"p1037\"},\"axis_label\":\"Price\",\"major_label_policy\":{\"type\":\"object\",\"name\":\"AllLabels\",\"id\":\"p1038\"}}}],\"below\":[{\"type\":\"object\",\"name\":\"DatetimeAxis\",\"id\":\"p1016\",\"attributes\":{\"ticker\":{\"type\":\"object\",\"name\":\"DatetimeTicker\",\"id\":\"p1017\",\"attributes\":{\"num_minor_ticks\":5,\"tickers\":[{\"type\":\"object\",\"name\":\"AdaptiveTicker\",\"id\":\"p1018\",\"attributes\":{\"num_minor_ticks\":0,\"mantissas\":[1,2,5],\"max_interval\":500.0}},{\"type\":\"object\",\"name\":\"AdaptiveTicker\",\"id\":\"p1019\",\"attributes\":{\"num_minor_ticks\":0,\"base\":60,\"mantissas\":[1,2,5,10,15,20,30],\"min_interval\":1000.0,\"max_interval\":1800000.0}},{\"type\":\"object\",\"name\":\"AdaptiveTicker\",\"id\":\"p1020\",\"attributes\":{\"num_minor_ticks\":0,\"base\":24,\"mantissas\":[1,2,4,6,8,12],\"min_interval\":3600000.0,\"max_interval\":43200000.0}},{\"type\":\"object\",\"name\":\"DaysTicker\",\"id\":\"p1021\",\"attributes\":{\"days\":[1,2,3,4,5,6,7,8,9,10,11,12,13,14,15,16,17,18,19,20,21,22,23,24,25,26,27,28,29,30,31]}},{\"type\":\"object\",\"name\":\"DaysTicker\",\"id\":\"p1022\",\"attributes\":{\"days\":[1,4,7,10,13,16,19,22,25,28]}},{\"type\":\"object\",\"name\":\"DaysTicker\",\"id\":\"p1023\",\"attributes\":{\"days\":[1,8,15,22]}},{\"type\":\"object\",\"name\":\"DaysTicker\",\"id\":\"p1024\",\"attributes\":{\"days\":[1,15]}},{\"type\":\"object\",\"name\":\"MonthsTicker\",\"id\":\"p1025\",\"attributes\":{\"months\":[0,1,2,3,4,5,6,7,8,9,10,11]}},{\"type\":\"object\",\"name\":\"MonthsTicker\",\"id\":\"p1026\",\"attributes\":{\"months\":[0,2,4,6,8,10]}},{\"type\":\"object\",\"name\":\"MonthsTicker\",\"id\":\"p1027\",\"attributes\":{\"months\":[0,4,8]}},{\"type\":\"object\",\"name\":\"MonthsTicker\",\"id\":\"p1028\",\"attributes\":{\"months\":[0,6]}},{\"type\":\"object\",\"name\":\"YearsTicker\",\"id\":\"p1029\"}]}},\"formatter\":{\"type\":\"object\",\"name\":\"DatetimeTickFormatter\",\"id\":\"p1032\",\"attributes\":{\"seconds\":\"%T\",\"minsec\":\"%T\",\"minutes\":\"%H:%M\",\"hours\":\"%H:%M\",\"days\":\"%b %d\",\"months\":\"%b %Y\",\"strip_leading_zeros\":[\"microseconds\",\"milliseconds\",\"seconds\"],\"boundary_scaling\":false,\"context\":{\"type\":\"object\",\"name\":\"DatetimeTickFormatter\",\"id\":\"p1031\",\"attributes\":{\"microseconds\":\"%T\",\"milliseconds\":\"%T\",\"seconds\":\"%b %d, %Y\",\"minsec\":\"%b %d, %Y\",\"minutes\":\"%b %d, %Y\",\"hourmin\":\"%b %d, %Y\",\"hours\":\"%b %d, %Y\",\"days\":\"%Y\",\"months\":\"\",\"years\":\"\",\"boundary_scaling\":false,\"hide_repeats\":true,\"context\":{\"type\":\"object\",\"name\":\"DatetimeTickFormatter\",\"id\":\"p1030\",\"attributes\":{\"microseconds\":\"%b %d, %Y\",\"milliseconds\":\"%b %d, %Y\",\"seconds\":\"\",\"minsec\":\"\",\"minutes\":\"\",\"hourmin\":\"\",\"hours\":\"\",\"days\":\"\",\"months\":\"\",\"years\":\"\",\"boundary_scaling\":false,\"hide_repeats\":true}},\"context_which\":\"all\"}},\"context_which\":\"all\"}},\"axis_label\":\"Datetime\",\"major_label_policy\":{\"type\":\"object\",\"name\":\"AllLabels\",\"id\":\"p1033\"}}}],\"center\":[{\"type\":\"object\",\"name\":\"Grid\",\"id\":\"p1034\",\"attributes\":{\"axis\":{\"id\":\"p1016\"}}},{\"type\":\"object\",\"name\":\"Grid\",\"id\":\"p1039\",\"attributes\":{\"dimension\":1,\"axis\":{\"id\":\"p1035\"}}},{\"type\":\"object\",\"name\":\"Legend\",\"id\":\"p1061\",\"attributes\":{\"location\":\"top_left\",\"click_policy\":\"hide\",\"items\":[{\"type\":\"object\",\"name\":\"LegendItem\",\"id\":\"p1062\",\"attributes\":{\"label\":{\"type\":\"value\",\"value\":\"Close\"},\"renderers\":[{\"id\":\"p1058\"}]}},{\"type\":\"object\",\"name\":\"LegendItem\",\"id\":\"p1072\",\"attributes\":{\"label\":{\"type\":\"value\",\"value\":\"Pivot High\"},\"renderers\":[{\"id\":\"p1069\"}]}},{\"type\":\"object\",\"name\":\"LegendItem\",\"id\":\"p1082\",\"attributes\":{\"label\":{\"type\":\"value\",\"value\":\"Pivot Low\"},\"renderers\":[{\"id\":\"p1079\"}]}},{\"type\":\"object\",\"name\":\"LegendItem\",\"id\":\"p1092\",\"attributes\":{\"label\":{\"type\":\"value\",\"value\":\"pivot_low_change\"},\"renderers\":[{\"id\":\"p1089\"}]}}]}}]}}]}};\n  const render_items = [{\"docid\":\"fe2af09c-5d07-487f-8a8d-8c55151f1107\",\"roots\":{\"p1004\":\"cf7ffec5-1b3e-4038-bf2f-47a39f26dc4f\"},\"root_ids\":[\"p1004\"]}];\n  void root.Bokeh.embed.embed_items_notebook(docs_json, render_items);\n  }\n  if (root.Bokeh !== undefined) {\n    embed_document(root);\n  } else {\n    let attempts = 0;\n    const timer = setInterval(function(root) {\n      if (root.Bokeh !== undefined) {\n        clearInterval(timer);\n        embed_document(root);\n      } else {\n        attempts++;\n        if (attempts > 100) {\n          clearInterval(timer);\n          console.log(\"Bokeh: ERROR: Unable to run BokehJS code because BokehJS library is missing\");\n        }\n      }\n    }, 10, root)\n  }\n})(window);",
      "application/vnd.bokehjs_exec.v0+json": ""
     },
     "metadata": {
      "application/vnd.bokehjs_exec.v0+json": {
       "id": "p1004"
      }
     },
     "output_type": "display_data"
    }
   ],
   "source": [
    "from bokeh.plotting import figure, show, output_notebook\n",
    "from bokeh.models import ColumnDataSource, HoverTool\n",
    "from bokeh.layouts import column\n",
    "\n",
    "output_notebook()\n",
    "\n",
    "def plot_close_with_pivot_and_events(df, start_datetime, end_datetime):\n",
    "    start_datetime = pd.to_datetime(start_datetime)\n",
    "    end_datetime = pd.to_datetime(end_datetime)\n",
    "\n",
    "    mask = (df.index >= start_datetime) & (df.index <= end_datetime)\n",
    "    filtered_df = df.loc[mask].copy()\n",
    "\n",
    "    if 'close_time' in filtered_df.columns:\n",
    "        filtered_df = filtered_df.drop(columns=['close_time'])\n",
    "\n",
    "    filtered_df = filtered_df.reset_index().rename(columns={'index': 'datetime'})\n",
    "\n",
    "    source = ColumnDataSource(filtered_df)\n",
    "\n",
    "    p = figure(\n",
    "        title=f\"Close, Pivot High/Low, and Events ({start_datetime} ~ {end_datetime})\",\n",
    "        x_axis_type='datetime',\n",
    "        x_axis_label='Datetime', y_axis_label='Price',\n",
    "        outer_width=1200, outer_height=700,\n",
    "        tools=\"pan,wheel_zoom,box_zoom,reset,save\"\n",
    "    )\n",
    "\n",
    "    p.line('datetime', 'Close', source=source, line_width=2, color='black', legend_label=\"Close\")\n",
    "\n",
    "    p.line('datetime', 'pivothigh', source=source, line_width=2, color='red', legend_label=\"Pivot High\", line_dash=\"dashed\")\n",
    "    p.line('datetime', 'pivotlow', source=source, line_width=2, color='blue', legend_label=\"Pivot Low\", line_dash=\"dashed\")\n",
    "\n",
    "    event_mapping = {\n",
    "        #'break_pivot_high': ('green', 'square'),\n",
    "        #'break_pivot_low': ('red', 'square'),\n",
    "        'pivot_high_change': ('green', 'inverted_triangle'),\n",
    "        'pivot_low_change': ('red', 'inverted_triangle'),\n",
    "        'rebreak_high': ('green', 'triangle'),\n",
    "        'rebreak_low': ('red', 'triangle')\n",
    "    }\n",
    "\n",
    "    for event, (color, marker) in event_mapping.items():\n",
    "        event_df = filtered_df[filtered_df[event] == 1]\n",
    "        if not event_df.empty:\n",
    "            p.scatter(event_df['datetime'], event_df['Close'],\n",
    "                      size=10, marker=marker, color=color,\n",
    "                      legend_label=event)\n",
    "\n",
    "    # Hover\n",
    "    p.add_tools(HoverTool(tooltips=[\n",
    "        (\"Datetime\", \"@datetime{%F %T}\"),\n",
    "        (\"Close\", \"@Close\"),\n",
    "        (\"Pivot High\", \"@pivothigh\"),\n",
    "        (\"Pivot Low\", \"@pivotlow\"),\n",
    "    ], formatters={'@datetime': 'datetime'}))\n",
    "\n",
    "    p.legend.location = \"top_left\"\n",
    "    p.legend.click_policy = \"hide\"\n",
    "\n",
    "    show(p)\n",
    "\n",
    "plot_close_with_pivot_and_events(df, '2021-05-20 00:00:00', '2021-06-21 23:59:59')"
   ]
  },
  {
   "cell_type": "code",
   "execution_count": 15,
   "metadata": {},
   "outputs": [],
   "source": [
    "import optuna\n",
    "\n",
    "def objective(trial):\n",
    "    \n",
    "    highBars = trial.suggest_int('highBars', 5, 30)\n",
    "    lowBars = trial.suggest_int('lowBars', 3, 20)\n",
    "    distance = trial.suggest_int('distance', 10, 30)\n",
    "\n",
    "    df= pd.read_csv('/Users/coconut/Backtest/data/BTCUSDT_futures_4h_from_20210101.csv', index_col=0, parse_dates=True)\n",
    "    df['pivothigh'] = pivothigh(df['Close'], left=highBars, right=highBars, distance=distance)\n",
    "    df['pivotlow'] = pivotlow(df['Close'], left=lowBars, right=lowBars, distance=distance)\n",
    "    df['break_pivot_high'] = np.where(df['Close'] > df['pivothigh'], 1, 0)\n",
    "    df['break_pivot_low'] = np.where(df['Close'] < df['pivotlow'], 1, 0)\n",
    "    df = add_pivot_high_change_column(df)\n",
    "    df = add_pivot_low_change_column(df)\n",
    "    df = add_rebreak_high(df)\n",
    "    df = add_rebreak_low(df)\n",
    "\n",
    "    trades_df, updated_df = backtest_and_update_df(df)\n",
    "    updated_df['Equity'] = updated_df['Equity'].astype(float)\n",
    "    returns = updated_df['Equity'].pct_change().dropna()\n",
    "    sharpe_ratio = qs.stats.sharpe(returns)\n",
    "\n",
    "    return sharpe_ratio"
   ]
  },
  {
   "cell_type": "code",
   "execution_count": 16,
   "metadata": {},
   "outputs": [
    {
     "name": "stderr",
     "output_type": "stream",
     "text": [
      "[I 2025-04-20 13:31:47,611] A new study created in memory with name: no-name-de53fff2-dbb5-4768-b3a8-32e91a0a7d05\n",
      "/var/folders/4g/c6vylbjj0gl07x_f6l921r980000gn/T/ipykernel_20863/1655679920.py:9: FutureWarning:\n",
      "\n",
      "Series.__getitem__ treating keys as positions is deprecated. In a future version, integer keys will always be treated as labels (consistent with DataFrame behavior). To access a value by position, use `ser.iloc[pos]`\n",
      "\n",
      "/var/folders/4g/c6vylbjj0gl07x_f6l921r980000gn/T/ipykernel_20863/1655679920.py:32: FutureWarning:\n",
      "\n",
      "Series.__getitem__ treating keys as positions is deprecated. In a future version, integer keys will always be treated as labels (consistent with DataFrame behavior). To access a value by position, use `ser.iloc[pos]`\n",
      "\n",
      "/var/folders/4g/c6vylbjj0gl07x_f6l921r980000gn/T/ipykernel_20863/2957562227.py:46: FutureWarning:\n",
      "\n",
      "Setting an item of incompatible dtype is deprecated and will raise an error in a future version of pandas. Value '101356.757325' has dtype incompatible with int64, please explicitly cast to a compatible dtype first.\n",
      "\n",
      "[I 2025-04-20 13:31:49,561] Trial 0 finished with value: 0.0525046909300311 and parameters: {'highBars': 21, 'lowBars': 19, 'distance': 22}. Best is trial 0 with value: 0.0525046909300311.\n",
      "/var/folders/4g/c6vylbjj0gl07x_f6l921r980000gn/T/ipykernel_20863/1655679920.py:9: FutureWarning:\n",
      "\n",
      "Series.__getitem__ treating keys as positions is deprecated. In a future version, integer keys will always be treated as labels (consistent with DataFrame behavior). To access a value by position, use `ser.iloc[pos]`\n",
      "\n",
      "/var/folders/4g/c6vylbjj0gl07x_f6l921r980000gn/T/ipykernel_20863/1655679920.py:32: FutureWarning:\n",
      "\n",
      "Series.__getitem__ treating keys as positions is deprecated. In a future version, integer keys will always be treated as labels (consistent with DataFrame behavior). To access a value by position, use `ser.iloc[pos]`\n",
      "\n",
      "/var/folders/4g/c6vylbjj0gl07x_f6l921r980000gn/T/ipykernel_20863/2957562227.py:46: FutureWarning:\n",
      "\n",
      "Setting an item of incompatible dtype is deprecated and will raise an error in a future version of pandas. Value '102068.868875' has dtype incompatible with int64, please explicitly cast to a compatible dtype first.\n",
      "\n",
      "[I 2025-04-20 13:31:51,372] Trial 1 finished with value: -0.07036559723985605 and parameters: {'highBars': 11, 'lowBars': 9, 'distance': 11}. Best is trial 0 with value: 0.0525046909300311.\n",
      "/var/folders/4g/c6vylbjj0gl07x_f6l921r980000gn/T/ipykernel_20863/1655679920.py:9: FutureWarning:\n",
      "\n",
      "Series.__getitem__ treating keys as positions is deprecated. In a future version, integer keys will always be treated as labels (consistent with DataFrame behavior). To access a value by position, use `ser.iloc[pos]`\n",
      "\n",
      "/var/folders/4g/c6vylbjj0gl07x_f6l921r980000gn/T/ipykernel_20863/1655679920.py:32: FutureWarning:\n",
      "\n",
      "Series.__getitem__ treating keys as positions is deprecated. In a future version, integer keys will always be treated as labels (consistent with DataFrame behavior). To access a value by position, use `ser.iloc[pos]`\n",
      "\n",
      "/var/folders/4g/c6vylbjj0gl07x_f6l921r980000gn/T/ipykernel_20863/2957562227.py:46: FutureWarning:\n",
      "\n",
      "Setting an item of incompatible dtype is deprecated and will raise an error in a future version of pandas. Value '102304.96077' has dtype incompatible with int64, please explicitly cast to a compatible dtype first.\n",
      "\n",
      "[I 2025-04-20 13:31:53,220] Trial 2 finished with value: 0.07813011024019278 and parameters: {'highBars': 10, 'lowBars': 7, 'distance': 12}. Best is trial 2 with value: 0.07813011024019278.\n",
      "/var/folders/4g/c6vylbjj0gl07x_f6l921r980000gn/T/ipykernel_20863/1655679920.py:9: FutureWarning:\n",
      "\n",
      "Series.__getitem__ treating keys as positions is deprecated. In a future version, integer keys will always be treated as labels (consistent with DataFrame behavior). To access a value by position, use `ser.iloc[pos]`\n",
      "\n",
      "/var/folders/4g/c6vylbjj0gl07x_f6l921r980000gn/T/ipykernel_20863/1655679920.py:32: FutureWarning:\n",
      "\n",
      "Series.__getitem__ treating keys as positions is deprecated. In a future version, integer keys will always be treated as labels (consistent with DataFrame behavior). To access a value by position, use `ser.iloc[pos]`\n",
      "\n",
      "/var/folders/4g/c6vylbjj0gl07x_f6l921r980000gn/T/ipykernel_20863/2957562227.py:46: FutureWarning:\n",
      "\n",
      "Setting an item of incompatible dtype is deprecated and will raise an error in a future version of pandas. Value '99575.58614' has dtype incompatible with int64, please explicitly cast to a compatible dtype first.\n",
      "\n",
      "[I 2025-04-20 13:31:55,051] Trial 3 finished with value: 0.2680965692004116 and parameters: {'highBars': 6, 'lowBars': 16, 'distance': 24}. Best is trial 3 with value: 0.2680965692004116.\n",
      "/var/folders/4g/c6vylbjj0gl07x_f6l921r980000gn/T/ipykernel_20863/1655679920.py:9: FutureWarning:\n",
      "\n",
      "Series.__getitem__ treating keys as positions is deprecated. In a future version, integer keys will always be treated as labels (consistent with DataFrame behavior). To access a value by position, use `ser.iloc[pos]`\n",
      "\n",
      "/var/folders/4g/c6vylbjj0gl07x_f6l921r980000gn/T/ipykernel_20863/1655679920.py:32: FutureWarning:\n",
      "\n",
      "Series.__getitem__ treating keys as positions is deprecated. In a future version, integer keys will always be treated as labels (consistent with DataFrame behavior). To access a value by position, use `ser.iloc[pos]`\n",
      "\n",
      "/var/folders/4g/c6vylbjj0gl07x_f6l921r980000gn/T/ipykernel_20863/2957562227.py:46: FutureWarning:\n",
      "\n",
      "Setting an item of incompatible dtype is deprecated and will raise an error in a future version of pandas. Value '98664.031665' has dtype incompatible with int64, please explicitly cast to a compatible dtype first.\n",
      "\n",
      "[I 2025-04-20 13:31:56,868] Trial 4 finished with value: 0.15034482263269533 and parameters: {'highBars': 22, 'lowBars': 8, 'distance': 19}. Best is trial 3 with value: 0.2680965692004116.\n",
      "/var/folders/4g/c6vylbjj0gl07x_f6l921r980000gn/T/ipykernel_20863/1655679920.py:9: FutureWarning:\n",
      "\n",
      "Series.__getitem__ treating keys as positions is deprecated. In a future version, integer keys will always be treated as labels (consistent with DataFrame behavior). To access a value by position, use `ser.iloc[pos]`\n",
      "\n",
      "/var/folders/4g/c6vylbjj0gl07x_f6l921r980000gn/T/ipykernel_20863/1655679920.py:32: FutureWarning:\n",
      "\n",
      "Series.__getitem__ treating keys as positions is deprecated. In a future version, integer keys will always be treated as labels (consistent with DataFrame behavior). To access a value by position, use `ser.iloc[pos]`\n",
      "\n",
      "/var/folders/4g/c6vylbjj0gl07x_f6l921r980000gn/T/ipykernel_20863/2957562227.py:46: FutureWarning:\n",
      "\n",
      "Setting an item of incompatible dtype is deprecated and will raise an error in a future version of pandas. Value '100973.90599500001' has dtype incompatible with int64, please explicitly cast to a compatible dtype first.\n",
      "\n",
      "[I 2025-04-20 13:31:58,717] Trial 5 finished with value: 0.0819465458458038 and parameters: {'highBars': 22, 'lowBars': 17, 'distance': 19}. Best is trial 3 with value: 0.2680965692004116.\n",
      "/var/folders/4g/c6vylbjj0gl07x_f6l921r980000gn/T/ipykernel_20863/1655679920.py:9: FutureWarning:\n",
      "\n",
      "Series.__getitem__ treating keys as positions is deprecated. In a future version, integer keys will always be treated as labels (consistent with DataFrame behavior). To access a value by position, use `ser.iloc[pos]`\n",
      "\n",
      "/var/folders/4g/c6vylbjj0gl07x_f6l921r980000gn/T/ipykernel_20863/1655679920.py:32: FutureWarning:\n",
      "\n",
      "Series.__getitem__ treating keys as positions is deprecated. In a future version, integer keys will always be treated as labels (consistent with DataFrame behavior). To access a value by position, use `ser.iloc[pos]`\n",
      "\n",
      "/var/folders/4g/c6vylbjj0gl07x_f6l921r980000gn/T/ipykernel_20863/2957562227.py:46: FutureWarning:\n",
      "\n",
      "Setting an item of incompatible dtype is deprecated and will raise an error in a future version of pandas. Value '103281.38916' has dtype incompatible with int64, please explicitly cast to a compatible dtype first.\n",
      "\n",
      "[I 2025-04-20 13:32:00,529] Trial 6 finished with value: 0.004535159522355821 and parameters: {'highBars': 20, 'lowBars': 15, 'distance': 14}. Best is trial 3 with value: 0.2680965692004116.\n",
      "/var/folders/4g/c6vylbjj0gl07x_f6l921r980000gn/T/ipykernel_20863/1655679920.py:9: FutureWarning:\n",
      "\n",
      "Series.__getitem__ treating keys as positions is deprecated. In a future version, integer keys will always be treated as labels (consistent with DataFrame behavior). To access a value by position, use `ser.iloc[pos]`\n",
      "\n",
      "/var/folders/4g/c6vylbjj0gl07x_f6l921r980000gn/T/ipykernel_20863/1655679920.py:32: FutureWarning:\n",
      "\n",
      "Series.__getitem__ treating keys as positions is deprecated. In a future version, integer keys will always be treated as labels (consistent with DataFrame behavior). To access a value by position, use `ser.iloc[pos]`\n",
      "\n",
      "/var/folders/4g/c6vylbjj0gl07x_f6l921r980000gn/T/ipykernel_20863/2957562227.py:46: FutureWarning:\n",
      "\n",
      "Setting an item of incompatible dtype is deprecated and will raise an error in a future version of pandas. Value '98984.66175' has dtype incompatible with int64, please explicitly cast to a compatible dtype first.\n",
      "\n",
      "[I 2025-04-20 13:32:02,358] Trial 7 finished with value: -0.07241763999790093 and parameters: {'highBars': 7, 'lowBars': 19, 'distance': 26}. Best is trial 3 with value: 0.2680965692004116.\n",
      "/var/folders/4g/c6vylbjj0gl07x_f6l921r980000gn/T/ipykernel_20863/1655679920.py:9: FutureWarning:\n",
      "\n",
      "Series.__getitem__ treating keys as positions is deprecated. In a future version, integer keys will always be treated as labels (consistent with DataFrame behavior). To access a value by position, use `ser.iloc[pos]`\n",
      "\n",
      "/var/folders/4g/c6vylbjj0gl07x_f6l921r980000gn/T/ipykernel_20863/1655679920.py:32: FutureWarning:\n",
      "\n",
      "Series.__getitem__ treating keys as positions is deprecated. In a future version, integer keys will always be treated as labels (consistent with DataFrame behavior). To access a value by position, use `ser.iloc[pos]`\n",
      "\n",
      "/var/folders/4g/c6vylbjj0gl07x_f6l921r980000gn/T/ipykernel_20863/2957562227.py:46: FutureWarning:\n",
      "\n",
      "Setting an item of incompatible dtype is deprecated and will raise an error in a future version of pandas. Value '96565.170755' has dtype incompatible with int64, please explicitly cast to a compatible dtype first.\n",
      "\n",
      "[I 2025-04-20 13:32:04,230] Trial 8 finished with value: 0.01254155907171536 and parameters: {'highBars': 25, 'lowBars': 3, 'distance': 23}. Best is trial 3 with value: 0.2680965692004116.\n",
      "/var/folders/4g/c6vylbjj0gl07x_f6l921r980000gn/T/ipykernel_20863/1655679920.py:9: FutureWarning:\n",
      "\n",
      "Series.__getitem__ treating keys as positions is deprecated. In a future version, integer keys will always be treated as labels (consistent with DataFrame behavior). To access a value by position, use `ser.iloc[pos]`\n",
      "\n",
      "/var/folders/4g/c6vylbjj0gl07x_f6l921r980000gn/T/ipykernel_20863/1655679920.py:32: FutureWarning:\n",
      "\n",
      "Series.__getitem__ treating keys as positions is deprecated. In a future version, integer keys will always be treated as labels (consistent with DataFrame behavior). To access a value by position, use `ser.iloc[pos]`\n",
      "\n",
      "/var/folders/4g/c6vylbjj0gl07x_f6l921r980000gn/T/ipykernel_20863/2957562227.py:46: FutureWarning:\n",
      "\n",
      "Setting an item of incompatible dtype is deprecated and will raise an error in a future version of pandas. Value '98399.404525' has dtype incompatible with int64, please explicitly cast to a compatible dtype first.\n",
      "\n",
      "[I 2025-04-20 13:32:06,106] Trial 9 finished with value: 0.07345664241861435 and parameters: {'highBars': 5, 'lowBars': 10, 'distance': 18}. Best is trial 3 with value: 0.2680965692004116.\n",
      "/var/folders/4g/c6vylbjj0gl07x_f6l921r980000gn/T/ipykernel_20863/1655679920.py:9: FutureWarning:\n",
      "\n",
      "Series.__getitem__ treating keys as positions is deprecated. In a future version, integer keys will always be treated as labels (consistent with DataFrame behavior). To access a value by position, use `ser.iloc[pos]`\n",
      "\n",
      "/var/folders/4g/c6vylbjj0gl07x_f6l921r980000gn/T/ipykernel_20863/1655679920.py:32: FutureWarning:\n",
      "\n",
      "Series.__getitem__ treating keys as positions is deprecated. In a future version, integer keys will always be treated as labels (consistent with DataFrame behavior). To access a value by position, use `ser.iloc[pos]`\n",
      "\n",
      "/var/folders/4g/c6vylbjj0gl07x_f6l921r980000gn/T/ipykernel_20863/2957562227.py:46: FutureWarning:\n",
      "\n",
      "Setting an item of incompatible dtype is deprecated and will raise an error in a future version of pandas. Value '102607.222245' has dtype incompatible with int64, please explicitly cast to a compatible dtype first.\n",
      "\n",
      "[I 2025-04-20 13:32:07,927] Trial 10 finished with value: 0.07308609881744332 and parameters: {'highBars': 15, 'lowBars': 14, 'distance': 30}. Best is trial 3 with value: 0.2680965692004116.\n",
      "/var/folders/4g/c6vylbjj0gl07x_f6l921r980000gn/T/ipykernel_20863/1655679920.py:9: FutureWarning:\n",
      "\n",
      "Series.__getitem__ treating keys as positions is deprecated. In a future version, integer keys will always be treated as labels (consistent with DataFrame behavior). To access a value by position, use `ser.iloc[pos]`\n",
      "\n",
      "/var/folders/4g/c6vylbjj0gl07x_f6l921r980000gn/T/ipykernel_20863/1655679920.py:32: FutureWarning:\n",
      "\n",
      "Series.__getitem__ treating keys as positions is deprecated. In a future version, integer keys will always be treated as labels (consistent with DataFrame behavior). To access a value by position, use `ser.iloc[pos]`\n",
      "\n",
      "/var/folders/4g/c6vylbjj0gl07x_f6l921r980000gn/T/ipykernel_20863/2957562227.py:46: FutureWarning:\n",
      "\n",
      "Setting an item of incompatible dtype is deprecated and will raise an error in a future version of pandas. Value '101707.40256' has dtype incompatible with int64, please explicitly cast to a compatible dtype first.\n",
      "\n",
      "[I 2025-04-20 13:32:09,739] Trial 11 finished with value: 0.021455198842295867 and parameters: {'highBars': 30, 'lowBars': 13, 'distance': 26}. Best is trial 3 with value: 0.2680965692004116.\n",
      "/var/folders/4g/c6vylbjj0gl07x_f6l921r980000gn/T/ipykernel_20863/1655679920.py:9: FutureWarning:\n",
      "\n",
      "Series.__getitem__ treating keys as positions is deprecated. In a future version, integer keys will always be treated as labels (consistent with DataFrame behavior). To access a value by position, use `ser.iloc[pos]`\n",
      "\n",
      "/var/folders/4g/c6vylbjj0gl07x_f6l921r980000gn/T/ipykernel_20863/1655679920.py:32: FutureWarning:\n",
      "\n",
      "Series.__getitem__ treating keys as positions is deprecated. In a future version, integer keys will always be treated as labels (consistent with DataFrame behavior). To access a value by position, use `ser.iloc[pos]`\n",
      "\n",
      "/var/folders/4g/c6vylbjj0gl07x_f6l921r980000gn/T/ipykernel_20863/2957562227.py:46: FutureWarning:\n",
      "\n",
      "Setting an item of incompatible dtype is deprecated and will raise an error in a future version of pandas. Value '102867.252225' has dtype incompatible with int64, please explicitly cast to a compatible dtype first.\n",
      "\n",
      "[I 2025-04-20 13:32:11,578] Trial 12 finished with value: 0.27523752758395137 and parameters: {'highBars': 16, 'lowBars': 5, 'distance': 16}. Best is trial 12 with value: 0.27523752758395137.\n",
      "/var/folders/4g/c6vylbjj0gl07x_f6l921r980000gn/T/ipykernel_20863/1655679920.py:9: FutureWarning:\n",
      "\n",
      "Series.__getitem__ treating keys as positions is deprecated. In a future version, integer keys will always be treated as labels (consistent with DataFrame behavior). To access a value by position, use `ser.iloc[pos]`\n",
      "\n",
      "/var/folders/4g/c6vylbjj0gl07x_f6l921r980000gn/T/ipykernel_20863/1655679920.py:32: FutureWarning:\n",
      "\n",
      "Series.__getitem__ treating keys as positions is deprecated. In a future version, integer keys will always be treated as labels (consistent with DataFrame behavior). To access a value by position, use `ser.iloc[pos]`\n",
      "\n",
      "/var/folders/4g/c6vylbjj0gl07x_f6l921r980000gn/T/ipykernel_20863/2957562227.py:46: FutureWarning:\n",
      "\n",
      "Setting an item of incompatible dtype is deprecated and will raise an error in a future version of pandas. Value '99123.941505' has dtype incompatible with int64, please explicitly cast to a compatible dtype first.\n",
      "\n",
      "[I 2025-04-20 13:32:13,449] Trial 13 finished with value: 0.06014153893059042 and parameters: {'highBars': 14, 'lowBars': 4, 'distance': 15}. Best is trial 12 with value: 0.27523752758395137.\n",
      "/var/folders/4g/c6vylbjj0gl07x_f6l921r980000gn/T/ipykernel_20863/1655679920.py:9: FutureWarning:\n",
      "\n",
      "Series.__getitem__ treating keys as positions is deprecated. In a future version, integer keys will always be treated as labels (consistent with DataFrame behavior). To access a value by position, use `ser.iloc[pos]`\n",
      "\n",
      "/var/folders/4g/c6vylbjj0gl07x_f6l921r980000gn/T/ipykernel_20863/1655679920.py:32: FutureWarning:\n",
      "\n",
      "Series.__getitem__ treating keys as positions is deprecated. In a future version, integer keys will always be treated as labels (consistent with DataFrame behavior). To access a value by position, use `ser.iloc[pos]`\n",
      "\n",
      "/var/folders/4g/c6vylbjj0gl07x_f6l921r980000gn/T/ipykernel_20863/2957562227.py:46: FutureWarning:\n",
      "\n",
      "Setting an item of incompatible dtype is deprecated and will raise an error in a future version of pandas. Value '102867.252225' has dtype incompatible with int64, please explicitly cast to a compatible dtype first.\n",
      "\n",
      "[I 2025-04-20 13:32:15,285] Trial 14 finished with value: 0.27523752758395137 and parameters: {'highBars': 16, 'lowBars': 5, 'distance': 16}. Best is trial 12 with value: 0.27523752758395137.\n",
      "/var/folders/4g/c6vylbjj0gl07x_f6l921r980000gn/T/ipykernel_20863/1655679920.py:9: FutureWarning:\n",
      "\n",
      "Series.__getitem__ treating keys as positions is deprecated. In a future version, integer keys will always be treated as labels (consistent with DataFrame behavior). To access a value by position, use `ser.iloc[pos]`\n",
      "\n",
      "/var/folders/4g/c6vylbjj0gl07x_f6l921r980000gn/T/ipykernel_20863/1655679920.py:32: FutureWarning:\n",
      "\n",
      "Series.__getitem__ treating keys as positions is deprecated. In a future version, integer keys will always be treated as labels (consistent with DataFrame behavior). To access a value by position, use `ser.iloc[pos]`\n",
      "\n",
      "/var/folders/4g/c6vylbjj0gl07x_f6l921r980000gn/T/ipykernel_20863/2957562227.py:46: FutureWarning:\n",
      "\n",
      "Setting an item of incompatible dtype is deprecated and will raise an error in a future version of pandas. Value '98973.486315' has dtype incompatible with int64, please explicitly cast to a compatible dtype first.\n",
      "\n",
      "[I 2025-04-20 13:32:17,118] Trial 15 finished with value: 0.29801121834347793 and parameters: {'highBars': 17, 'lowBars': 6, 'distance': 16}. Best is trial 15 with value: 0.29801121834347793.\n",
      "/var/folders/4g/c6vylbjj0gl07x_f6l921r980000gn/T/ipykernel_20863/1655679920.py:9: FutureWarning:\n",
      "\n",
      "Series.__getitem__ treating keys as positions is deprecated. In a future version, integer keys will always be treated as labels (consistent with DataFrame behavior). To access a value by position, use `ser.iloc[pos]`\n",
      "\n",
      "/var/folders/4g/c6vylbjj0gl07x_f6l921r980000gn/T/ipykernel_20863/1655679920.py:32: FutureWarning:\n",
      "\n",
      "Series.__getitem__ treating keys as positions is deprecated. In a future version, integer keys will always be treated as labels (consistent with DataFrame behavior). To access a value by position, use `ser.iloc[pos]`\n",
      "\n",
      "/var/folders/4g/c6vylbjj0gl07x_f6l921r980000gn/T/ipykernel_20863/2957562227.py:46: FutureWarning:\n",
      "\n",
      "Setting an item of incompatible dtype is deprecated and will raise an error in a future version of pandas. Value '98973.486315' has dtype incompatible with int64, please explicitly cast to a compatible dtype first.\n",
      "\n",
      "[I 2025-04-20 13:32:18,968] Trial 16 finished with value: 0.28561673373184654 and parameters: {'highBars': 18, 'lowBars': 6, 'distance': 17}. Best is trial 15 with value: 0.29801121834347793.\n",
      "/var/folders/4g/c6vylbjj0gl07x_f6l921r980000gn/T/ipykernel_20863/1655679920.py:9: FutureWarning:\n",
      "\n",
      "Series.__getitem__ treating keys as positions is deprecated. In a future version, integer keys will always be treated as labels (consistent with DataFrame behavior). To access a value by position, use `ser.iloc[pos]`\n",
      "\n",
      "/var/folders/4g/c6vylbjj0gl07x_f6l921r980000gn/T/ipykernel_20863/1655679920.py:32: FutureWarning:\n",
      "\n",
      "Series.__getitem__ treating keys as positions is deprecated. In a future version, integer keys will always be treated as labels (consistent with DataFrame behavior). To access a value by position, use `ser.iloc[pos]`\n",
      "\n",
      "/var/folders/4g/c6vylbjj0gl07x_f6l921r980000gn/T/ipykernel_20863/2957562227.py:46: FutureWarning:\n",
      "\n",
      "Setting an item of incompatible dtype is deprecated and will raise an error in a future version of pandas. Value '98354.253' has dtype incompatible with int64, please explicitly cast to a compatible dtype first.\n",
      "\n",
      "[I 2025-04-20 13:32:20,837] Trial 17 finished with value: -0.19791758970880619 and parameters: {'highBars': 26, 'lowBars': 11, 'distance': 10}. Best is trial 15 with value: 0.29801121834347793.\n",
      "/var/folders/4g/c6vylbjj0gl07x_f6l921r980000gn/T/ipykernel_20863/1655679920.py:9: FutureWarning:\n",
      "\n",
      "Series.__getitem__ treating keys as positions is deprecated. In a future version, integer keys will always be treated as labels (consistent with DataFrame behavior). To access a value by position, use `ser.iloc[pos]`\n",
      "\n",
      "/var/folders/4g/c6vylbjj0gl07x_f6l921r980000gn/T/ipykernel_20863/1655679920.py:32: FutureWarning:\n",
      "\n",
      "Series.__getitem__ treating keys as positions is deprecated. In a future version, integer keys will always be treated as labels (consistent with DataFrame behavior). To access a value by position, use `ser.iloc[pos]`\n",
      "\n",
      "/var/folders/4g/c6vylbjj0gl07x_f6l921r980000gn/T/ipykernel_20863/2957562227.py:46: FutureWarning:\n",
      "\n",
      "Setting an item of incompatible dtype is deprecated and will raise an error in a future version of pandas. Value '98613.106215' has dtype incompatible with int64, please explicitly cast to a compatible dtype first.\n",
      "\n",
      "[I 2025-04-20 13:32:22,667] Trial 18 finished with value: 0.0912612443965634 and parameters: {'highBars': 18, 'lowBars': 7, 'distance': 13}. Best is trial 15 with value: 0.29801121834347793.\n",
      "/var/folders/4g/c6vylbjj0gl07x_f6l921r980000gn/T/ipykernel_20863/1655679920.py:9: FutureWarning:\n",
      "\n",
      "Series.__getitem__ treating keys as positions is deprecated. In a future version, integer keys will always be treated as labels (consistent with DataFrame behavior). To access a value by position, use `ser.iloc[pos]`\n",
      "\n",
      "/var/folders/4g/c6vylbjj0gl07x_f6l921r980000gn/T/ipykernel_20863/1655679920.py:32: FutureWarning:\n",
      "\n",
      "Series.__getitem__ treating keys as positions is deprecated. In a future version, integer keys will always be treated as labels (consistent with DataFrame behavior). To access a value by position, use `ser.iloc[pos]`\n",
      "\n",
      "/var/folders/4g/c6vylbjj0gl07x_f6l921r980000gn/T/ipykernel_20863/2957562227.py:46: FutureWarning:\n",
      "\n",
      "Setting an item of incompatible dtype is deprecated and will raise an error in a future version of pandas. Value '102068.868875' has dtype incompatible with int64, please explicitly cast to a compatible dtype first.\n",
      "\n",
      "[I 2025-04-20 13:32:24,511] Trial 19 finished with value: 0.3176743455176316 and parameters: {'highBars': 11, 'lowBars': 6, 'distance': 21}. Best is trial 19 with value: 0.3176743455176316.\n",
      "/var/folders/4g/c6vylbjj0gl07x_f6l921r980000gn/T/ipykernel_20863/1655679920.py:9: FutureWarning:\n",
      "\n",
      "Series.__getitem__ treating keys as positions is deprecated. In a future version, integer keys will always be treated as labels (consistent with DataFrame behavior). To access a value by position, use `ser.iloc[pos]`\n",
      "\n",
      "/var/folders/4g/c6vylbjj0gl07x_f6l921r980000gn/T/ipykernel_20863/1655679920.py:32: FutureWarning:\n",
      "\n",
      "Series.__getitem__ treating keys as positions is deprecated. In a future version, integer keys will always be treated as labels (consistent with DataFrame behavior). To access a value by position, use `ser.iloc[pos]`\n",
      "\n",
      "/var/folders/4g/c6vylbjj0gl07x_f6l921r980000gn/T/ipykernel_20863/2957562227.py:46: FutureWarning:\n",
      "\n",
      "Setting an item of incompatible dtype is deprecated and will raise an error in a future version of pandas. Value '102068.868875' has dtype incompatible with int64, please explicitly cast to a compatible dtype first.\n",
      "\n",
      "[I 2025-04-20 13:32:26,343] Trial 20 finished with value: 0.08728461542495117 and parameters: {'highBars': 11, 'lowBars': 12, 'distance': 20}. Best is trial 19 with value: 0.3176743455176316.\n",
      "/var/folders/4g/c6vylbjj0gl07x_f6l921r980000gn/T/ipykernel_20863/1655679920.py:9: FutureWarning:\n",
      "\n",
      "Series.__getitem__ treating keys as positions is deprecated. In a future version, integer keys will always be treated as labels (consistent with DataFrame behavior). To access a value by position, use `ser.iloc[pos]`\n",
      "\n",
      "/var/folders/4g/c6vylbjj0gl07x_f6l921r980000gn/T/ipykernel_20863/1655679920.py:32: FutureWarning:\n",
      "\n",
      "Series.__getitem__ treating keys as positions is deprecated. In a future version, integer keys will always be treated as labels (consistent with DataFrame behavior). To access a value by position, use `ser.iloc[pos]`\n",
      "\n",
      "/var/folders/4g/c6vylbjj0gl07x_f6l921r980000gn/T/ipykernel_20863/2957562227.py:46: FutureWarning:\n",
      "\n",
      "Setting an item of incompatible dtype is deprecated and will raise an error in a future version of pandas. Value '100581.48294' has dtype incompatible with int64, please explicitly cast to a compatible dtype first.\n",
      "\n",
      "[I 2025-04-20 13:32:28,207] Trial 21 finished with value: 0.2286672306736915 and parameters: {'highBars': 13, 'lowBars': 6, 'distance': 17}. Best is trial 19 with value: 0.3176743455176316.\n",
      "/var/folders/4g/c6vylbjj0gl07x_f6l921r980000gn/T/ipykernel_20863/1655679920.py:9: FutureWarning:\n",
      "\n",
      "Series.__getitem__ treating keys as positions is deprecated. In a future version, integer keys will always be treated as labels (consistent with DataFrame behavior). To access a value by position, use `ser.iloc[pos]`\n",
      "\n",
      "/var/folders/4g/c6vylbjj0gl07x_f6l921r980000gn/T/ipykernel_20863/1655679920.py:32: FutureWarning:\n",
      "\n",
      "Series.__getitem__ treating keys as positions is deprecated. In a future version, integer keys will always be treated as labels (consistent with DataFrame behavior). To access a value by position, use `ser.iloc[pos]`\n",
      "\n",
      "/var/folders/4g/c6vylbjj0gl07x_f6l921r980000gn/T/ipykernel_20863/2957562227.py:46: FutureWarning:\n",
      "\n",
      "Setting an item of incompatible dtype is deprecated and will raise an error in a future version of pandas. Value '96565.170755' has dtype incompatible with int64, please explicitly cast to a compatible dtype first.\n",
      "\n",
      "[I 2025-04-20 13:32:30,039] Trial 22 finished with value: 0.20740940741925484 and parameters: {'highBars': 18, 'lowBars': 3, 'distance': 21}. Best is trial 19 with value: 0.3176743455176316.\n",
      "/var/folders/4g/c6vylbjj0gl07x_f6l921r980000gn/T/ipykernel_20863/1655679920.py:9: FutureWarning:\n",
      "\n",
      "Series.__getitem__ treating keys as positions is deprecated. In a future version, integer keys will always be treated as labels (consistent with DataFrame behavior). To access a value by position, use `ser.iloc[pos]`\n",
      "\n",
      "/var/folders/4g/c6vylbjj0gl07x_f6l921r980000gn/T/ipykernel_20863/1655679920.py:32: FutureWarning:\n",
      "\n",
      "Series.__getitem__ treating keys as positions is deprecated. In a future version, integer keys will always be treated as labels (consistent with DataFrame behavior). To access a value by position, use `ser.iloc[pos]`\n",
      "\n",
      "/var/folders/4g/c6vylbjj0gl07x_f6l921r980000gn/T/ipykernel_20863/2957562227.py:46: FutureWarning:\n",
      "\n",
      "Setting an item of incompatible dtype is deprecated and will raise an error in a future version of pandas. Value '101155.21593' has dtype incompatible with int64, please explicitly cast to a compatible dtype first.\n",
      "\n",
      "[I 2025-04-20 13:32:31,854] Trial 23 finished with value: 0.0544898759929037 and parameters: {'highBars': 9, 'lowBars': 9, 'distance': 18}. Best is trial 19 with value: 0.3176743455176316.\n",
      "/var/folders/4g/c6vylbjj0gl07x_f6l921r980000gn/T/ipykernel_20863/1655679920.py:9: FutureWarning:\n",
      "\n",
      "Series.__getitem__ treating keys as positions is deprecated. In a future version, integer keys will always be treated as labels (consistent with DataFrame behavior). To access a value by position, use `ser.iloc[pos]`\n",
      "\n",
      "/var/folders/4g/c6vylbjj0gl07x_f6l921r980000gn/T/ipykernel_20863/1655679920.py:32: FutureWarning:\n",
      "\n",
      "Series.__getitem__ treating keys as positions is deprecated. In a future version, integer keys will always be treated as labels (consistent with DataFrame behavior). To access a value by position, use `ser.iloc[pos]`\n",
      "\n",
      "/var/folders/4g/c6vylbjj0gl07x_f6l921r980000gn/T/ipykernel_20863/2957562227.py:46: FutureWarning:\n",
      "\n",
      "Setting an item of incompatible dtype is deprecated and will raise an error in a future version of pandas. Value '100581.48294' has dtype incompatible with int64, please explicitly cast to a compatible dtype first.\n",
      "\n",
      "[I 2025-04-20 13:32:33,645] Trial 24 finished with value: 0.2573605370667914 and parameters: {'highBars': 13, 'lowBars': 6, 'distance': 14}. Best is trial 19 with value: 0.3176743455176316.\n",
      "/var/folders/4g/c6vylbjj0gl07x_f6l921r980000gn/T/ipykernel_20863/1655679920.py:9: FutureWarning:\n",
      "\n",
      "Series.__getitem__ treating keys as positions is deprecated. In a future version, integer keys will always be treated as labels (consistent with DataFrame behavior). To access a value by position, use `ser.iloc[pos]`\n",
      "\n",
      "/var/folders/4g/c6vylbjj0gl07x_f6l921r980000gn/T/ipykernel_20863/1655679920.py:32: FutureWarning:\n",
      "\n",
      "Series.__getitem__ treating keys as positions is deprecated. In a future version, integer keys will always be treated as labels (consistent with DataFrame behavior). To access a value by position, use `ser.iloc[pos]`\n",
      "\n",
      "/var/folders/4g/c6vylbjj0gl07x_f6l921r980000gn/T/ipykernel_20863/2957562227.py:46: FutureWarning:\n",
      "\n",
      "Setting an item of incompatible dtype is deprecated and will raise an error in a future version of pandas. Value '101120.363365' has dtype incompatible with int64, please explicitly cast to a compatible dtype first.\n",
      "\n",
      "[I 2025-04-20 13:32:35,459] Trial 25 finished with value: 0.08467941471005298 and parameters: {'highBars': 8, 'lowBars': 8, 'distance': 25}. Best is trial 19 with value: 0.3176743455176316.\n",
      "/var/folders/4g/c6vylbjj0gl07x_f6l921r980000gn/T/ipykernel_20863/1655679920.py:9: FutureWarning:\n",
      "\n",
      "Series.__getitem__ treating keys as positions is deprecated. In a future version, integer keys will always be treated as labels (consistent with DataFrame behavior). To access a value by position, use `ser.iloc[pos]`\n",
      "\n",
      "/var/folders/4g/c6vylbjj0gl07x_f6l921r980000gn/T/ipykernel_20863/1655679920.py:32: FutureWarning:\n",
      "\n",
      "Series.__getitem__ treating keys as positions is deprecated. In a future version, integer keys will always be treated as labels (consistent with DataFrame behavior). To access a value by position, use `ser.iloc[pos]`\n",
      "\n",
      "/var/folders/4g/c6vylbjj0gl07x_f6l921r980000gn/T/ipykernel_20863/2957562227.py:46: FutureWarning:\n",
      "\n",
      "Setting an item of incompatible dtype is deprecated and will raise an error in a future version of pandas. Value '102867.252225' has dtype incompatible with int64, please explicitly cast to a compatible dtype first.\n",
      "\n",
      "[I 2025-04-20 13:32:37,308] Trial 26 finished with value: 0.23882812954971175 and parameters: {'highBars': 24, 'lowBars': 5, 'distance': 21}. Best is trial 19 with value: 0.3176743455176316.\n",
      "/var/folders/4g/c6vylbjj0gl07x_f6l921r980000gn/T/ipykernel_20863/1655679920.py:9: FutureWarning:\n",
      "\n",
      "Series.__getitem__ treating keys as positions is deprecated. In a future version, integer keys will always be treated as labels (consistent with DataFrame behavior). To access a value by position, use `ser.iloc[pos]`\n",
      "\n",
      "/var/folders/4g/c6vylbjj0gl07x_f6l921r980000gn/T/ipykernel_20863/1655679920.py:32: FutureWarning:\n",
      "\n",
      "Series.__getitem__ treating keys as positions is deprecated. In a future version, integer keys will always be treated as labels (consistent with DataFrame behavior). To access a value by position, use `ser.iloc[pos]`\n",
      "\n",
      "/var/folders/4g/c6vylbjj0gl07x_f6l921r980000gn/T/ipykernel_20863/2957562227.py:46: FutureWarning:\n",
      "\n",
      "Setting an item of incompatible dtype is deprecated and will raise an error in a future version of pandas. Value '102488.182755' has dtype incompatible with int64, please explicitly cast to a compatible dtype first.\n",
      "\n",
      "[I 2025-04-20 13:32:39,144] Trial 27 finished with value: 0.09490466082794627 and parameters: {'highBars': 18, 'lowBars': 10, 'distance': 30}. Best is trial 19 with value: 0.3176743455176316.\n",
      "/var/folders/4g/c6vylbjj0gl07x_f6l921r980000gn/T/ipykernel_20863/1655679920.py:9: FutureWarning:\n",
      "\n",
      "Series.__getitem__ treating keys as positions is deprecated. In a future version, integer keys will always be treated as labels (consistent with DataFrame behavior). To access a value by position, use `ser.iloc[pos]`\n",
      "\n",
      "/var/folders/4g/c6vylbjj0gl07x_f6l921r980000gn/T/ipykernel_20863/1655679920.py:32: FutureWarning:\n",
      "\n",
      "Series.__getitem__ treating keys as positions is deprecated. In a future version, integer keys will always be treated as labels (consistent with DataFrame behavior). To access a value by position, use `ser.iloc[pos]`\n",
      "\n",
      "/var/folders/4g/c6vylbjj0gl07x_f6l921r980000gn/T/ipykernel_20863/2957562227.py:46: FutureWarning:\n",
      "\n",
      "Setting an item of incompatible dtype is deprecated and will raise an error in a future version of pandas. Value '100976.12552' has dtype incompatible with int64, please explicitly cast to a compatible dtype first.\n",
      "\n",
      "[I 2025-04-20 13:32:41,019] Trial 28 finished with value: 0.15214662242051766 and parameters: {'highBars': 12, 'lowBars': 7, 'distance': 16}. Best is trial 19 with value: 0.3176743455176316.\n",
      "/var/folders/4g/c6vylbjj0gl07x_f6l921r980000gn/T/ipykernel_20863/1655679920.py:9: FutureWarning:\n",
      "\n",
      "Series.__getitem__ treating keys as positions is deprecated. In a future version, integer keys will always be treated as labels (consistent with DataFrame behavior). To access a value by position, use `ser.iloc[pos]`\n",
      "\n",
      "/var/folders/4g/c6vylbjj0gl07x_f6l921r980000gn/T/ipykernel_20863/1655679920.py:32: FutureWarning:\n",
      "\n",
      "Series.__getitem__ treating keys as positions is deprecated. In a future version, integer keys will always be treated as labels (consistent with DataFrame behavior). To access a value by position, use `ser.iloc[pos]`\n",
      "\n",
      "/var/folders/4g/c6vylbjj0gl07x_f6l921r980000gn/T/ipykernel_20863/2957562227.py:46: FutureWarning:\n",
      "\n",
      "Setting an item of incompatible dtype is deprecated and will raise an error in a future version of pandas. Value '99123.941505' has dtype incompatible with int64, please explicitly cast to a compatible dtype first.\n",
      "\n",
      "[I 2025-04-20 13:32:42,884] Trial 29 finished with value: 0.06274771520518553 and parameters: {'highBars': 20, 'lowBars': 4, 'distance': 22}. Best is trial 19 with value: 0.3176743455176316.\n",
      "/var/folders/4g/c6vylbjj0gl07x_f6l921r980000gn/T/ipykernel_20863/1655679920.py:9: FutureWarning:\n",
      "\n",
      "Series.__getitem__ treating keys as positions is deprecated. In a future version, integer keys will always be treated as labels (consistent with DataFrame behavior). To access a value by position, use `ser.iloc[pos]`\n",
      "\n",
      "/var/folders/4g/c6vylbjj0gl07x_f6l921r980000gn/T/ipykernel_20863/1655679920.py:32: FutureWarning:\n",
      "\n",
      "Series.__getitem__ treating keys as positions is deprecated. In a future version, integer keys will always be treated as labels (consistent with DataFrame behavior). To access a value by position, use `ser.iloc[pos]`\n",
      "\n",
      "/var/folders/4g/c6vylbjj0gl07x_f6l921r980000gn/T/ipykernel_20863/2957562227.py:46: FutureWarning:\n",
      "\n",
      "Setting an item of incompatible dtype is deprecated and will raise an error in a future version of pandas. Value '98973.486315' has dtype incompatible with int64, please explicitly cast to a compatible dtype first.\n",
      "\n",
      "[I 2025-04-20 13:32:44,831] Trial 30 finished with value: 0.17432775419084245 and parameters: {'highBars': 28, 'lowBars': 6, 'distance': 18}. Best is trial 19 with value: 0.3176743455176316.\n",
      "/var/folders/4g/c6vylbjj0gl07x_f6l921r980000gn/T/ipykernel_20863/1655679920.py:9: FutureWarning:\n",
      "\n",
      "Series.__getitem__ treating keys as positions is deprecated. In a future version, integer keys will always be treated as labels (consistent with DataFrame behavior). To access a value by position, use `ser.iloc[pos]`\n",
      "\n",
      "/var/folders/4g/c6vylbjj0gl07x_f6l921r980000gn/T/ipykernel_20863/1655679920.py:32: FutureWarning:\n",
      "\n",
      "Series.__getitem__ treating keys as positions is deprecated. In a future version, integer keys will always be treated as labels (consistent with DataFrame behavior). To access a value by position, use `ser.iloc[pos]`\n",
      "\n",
      "/var/folders/4g/c6vylbjj0gl07x_f6l921r980000gn/T/ipykernel_20863/2957562227.py:46: FutureWarning:\n",
      "\n",
      "Setting an item of incompatible dtype is deprecated and will raise an error in a future version of pandas. Value '102867.252225' has dtype incompatible with int64, please explicitly cast to a compatible dtype first.\n",
      "\n",
      "[I 2025-04-20 13:32:46,640] Trial 31 finished with value: 0.27523752758395137 and parameters: {'highBars': 16, 'lowBars': 5, 'distance': 16}. Best is trial 19 with value: 0.3176743455176316.\n",
      "/var/folders/4g/c6vylbjj0gl07x_f6l921r980000gn/T/ipykernel_20863/1655679920.py:9: FutureWarning:\n",
      "\n",
      "Series.__getitem__ treating keys as positions is deprecated. In a future version, integer keys will always be treated as labels (consistent with DataFrame behavior). To access a value by position, use `ser.iloc[pos]`\n",
      "\n",
      "/var/folders/4g/c6vylbjj0gl07x_f6l921r980000gn/T/ipykernel_20863/1655679920.py:32: FutureWarning:\n",
      "\n",
      "Series.__getitem__ treating keys as positions is deprecated. In a future version, integer keys will always be treated as labels (consistent with DataFrame behavior). To access a value by position, use `ser.iloc[pos]`\n",
      "\n",
      "/var/folders/4g/c6vylbjj0gl07x_f6l921r980000gn/T/ipykernel_20863/2957562227.py:46: FutureWarning:\n",
      "\n",
      "Setting an item of incompatible dtype is deprecated and will raise an error in a future version of pandas. Value '99123.941505' has dtype incompatible with int64, please explicitly cast to a compatible dtype first.\n",
      "\n",
      "[I 2025-04-20 13:32:48,508] Trial 32 finished with value: 0.16173861855066063 and parameters: {'highBars': 16, 'lowBars': 4, 'distance': 14}. Best is trial 19 with value: 0.3176743455176316.\n",
      "/var/folders/4g/c6vylbjj0gl07x_f6l921r980000gn/T/ipykernel_20863/1655679920.py:9: FutureWarning:\n",
      "\n",
      "Series.__getitem__ treating keys as positions is deprecated. In a future version, integer keys will always be treated as labels (consistent with DataFrame behavior). To access a value by position, use `ser.iloc[pos]`\n",
      "\n",
      "/var/folders/4g/c6vylbjj0gl07x_f6l921r980000gn/T/ipykernel_20863/1655679920.py:32: FutureWarning:\n",
      "\n",
      "Series.__getitem__ treating keys as positions is deprecated. In a future version, integer keys will always be treated as labels (consistent with DataFrame behavior). To access a value by position, use `ser.iloc[pos]`\n",
      "\n",
      "/var/folders/4g/c6vylbjj0gl07x_f6l921r980000gn/T/ipykernel_20863/2957562227.py:46: FutureWarning:\n",
      "\n",
      "Setting an item of incompatible dtype is deprecated and will raise an error in a future version of pandas. Value '98664.031665' has dtype incompatible with int64, please explicitly cast to a compatible dtype first.\n",
      "\n",
      "[I 2025-04-20 13:32:50,340] Trial 33 finished with value: 0.09988642957454599 and parameters: {'highBars': 20, 'lowBars': 8, 'distance': 17}. Best is trial 19 with value: 0.3176743455176316.\n",
      "/var/folders/4g/c6vylbjj0gl07x_f6l921r980000gn/T/ipykernel_20863/1655679920.py:9: FutureWarning:\n",
      "\n",
      "Series.__getitem__ treating keys as positions is deprecated. In a future version, integer keys will always be treated as labels (consistent with DataFrame behavior). To access a value by position, use `ser.iloc[pos]`\n",
      "\n",
      "/var/folders/4g/c6vylbjj0gl07x_f6l921r980000gn/T/ipykernel_20863/1655679920.py:32: FutureWarning:\n",
      "\n",
      "Series.__getitem__ treating keys as positions is deprecated. In a future version, integer keys will always be treated as labels (consistent with DataFrame behavior). To access a value by position, use `ser.iloc[pos]`\n",
      "\n",
      "/var/folders/4g/c6vylbjj0gl07x_f6l921r980000gn/T/ipykernel_20863/2957562227.py:46: FutureWarning:\n",
      "\n",
      "Setting an item of incompatible dtype is deprecated and will raise an error in a future version of pandas. Value '99123.941505' has dtype incompatible with int64, please explicitly cast to a compatible dtype first.\n",
      "\n",
      "[I 2025-04-20 13:32:52,172] Trial 34 finished with value: 0.010741705581762384 and parameters: {'highBars': 17, 'lowBars': 9, 'distance': 12}. Best is trial 19 with value: 0.3176743455176316.\n",
      "/var/folders/4g/c6vylbjj0gl07x_f6l921r980000gn/T/ipykernel_20863/1655679920.py:9: FutureWarning:\n",
      "\n",
      "Series.__getitem__ treating keys as positions is deprecated. In a future version, integer keys will always be treated as labels (consistent with DataFrame behavior). To access a value by position, use `ser.iloc[pos]`\n",
      "\n",
      "/var/folders/4g/c6vylbjj0gl07x_f6l921r980000gn/T/ipykernel_20863/1655679920.py:32: FutureWarning:\n",
      "\n",
      "Series.__getitem__ treating keys as positions is deprecated. In a future version, integer keys will always be treated as labels (consistent with DataFrame behavior). To access a value by position, use `ser.iloc[pos]`\n",
      "\n",
      "/var/folders/4g/c6vylbjj0gl07x_f6l921r980000gn/T/ipykernel_20863/2957562227.py:46: FutureWarning:\n",
      "\n",
      "Setting an item of incompatible dtype is deprecated and will raise an error in a future version of pandas. Value '102304.96077' has dtype incompatible with int64, please explicitly cast to a compatible dtype first.\n",
      "\n",
      "[I 2025-04-20 13:32:54,060] Trial 35 finished with value: 0.3489165088327174 and parameters: {'highBars': 10, 'lowBars': 7, 'distance': 20}. Best is trial 35 with value: 0.3489165088327174.\n",
      "/var/folders/4g/c6vylbjj0gl07x_f6l921r980000gn/T/ipykernel_20863/1655679920.py:9: FutureWarning:\n",
      "\n",
      "Series.__getitem__ treating keys as positions is deprecated. In a future version, integer keys will always be treated as labels (consistent with DataFrame behavior). To access a value by position, use `ser.iloc[pos]`\n",
      "\n",
      "/var/folders/4g/c6vylbjj0gl07x_f6l921r980000gn/T/ipykernel_20863/1655679920.py:32: FutureWarning:\n",
      "\n",
      "Series.__getitem__ treating keys as positions is deprecated. In a future version, integer keys will always be treated as labels (consistent with DataFrame behavior). To access a value by position, use `ser.iloc[pos]`\n",
      "\n",
      "/var/folders/4g/c6vylbjj0gl07x_f6l921r980000gn/T/ipykernel_20863/2957562227.py:46: FutureWarning:\n",
      "\n",
      "Setting an item of incompatible dtype is deprecated and will raise an error in a future version of pandas. Value '102304.96077' has dtype incompatible with int64, please explicitly cast to a compatible dtype first.\n",
      "\n",
      "[I 2025-04-20 13:32:55,900] Trial 36 finished with value: 0.24378271071315014 and parameters: {'highBars': 10, 'lowBars': 7, 'distance': 21}. Best is trial 35 with value: 0.3489165088327174.\n",
      "/var/folders/4g/c6vylbjj0gl07x_f6l921r980000gn/T/ipykernel_20863/1655679920.py:9: FutureWarning:\n",
      "\n",
      "Series.__getitem__ treating keys as positions is deprecated. In a future version, integer keys will always be treated as labels (consistent with DataFrame behavior). To access a value by position, use `ser.iloc[pos]`\n",
      "\n",
      "/var/folders/4g/c6vylbjj0gl07x_f6l921r980000gn/T/ipykernel_20863/1655679920.py:32: FutureWarning:\n",
      "\n",
      "Series.__getitem__ treating keys as positions is deprecated. In a future version, integer keys will always be treated as labels (consistent with DataFrame behavior). To access a value by position, use `ser.iloc[pos]`\n",
      "\n",
      "/var/folders/4g/c6vylbjj0gl07x_f6l921r980000gn/T/ipykernel_20863/2957562227.py:46: FutureWarning:\n",
      "\n",
      "Setting an item of incompatible dtype is deprecated and will raise an error in a future version of pandas. Value '102068.868875' has dtype incompatible with int64, please explicitly cast to a compatible dtype first.\n",
      "\n",
      "[I 2025-04-20 13:32:57,719] Trial 37 finished with value: 0.24606162267908746 and parameters: {'highBars': 11, 'lowBars': 8, 'distance': 20}. Best is trial 35 with value: 0.3489165088327174.\n",
      "/var/folders/4g/c6vylbjj0gl07x_f6l921r980000gn/T/ipykernel_20863/1655679920.py:9: FutureWarning:\n",
      "\n",
      "Series.__getitem__ treating keys as positions is deprecated. In a future version, integer keys will always be treated as labels (consistent with DataFrame behavior). To access a value by position, use `ser.iloc[pos]`\n",
      "\n",
      "/var/folders/4g/c6vylbjj0gl07x_f6l921r980000gn/T/ipykernel_20863/1655679920.py:32: FutureWarning:\n",
      "\n",
      "Series.__getitem__ treating keys as positions is deprecated. In a future version, integer keys will always be treated as labels (consistent with DataFrame behavior). To access a value by position, use `ser.iloc[pos]`\n",
      "\n",
      "/var/folders/4g/c6vylbjj0gl07x_f6l921r980000gn/T/ipykernel_20863/2957562227.py:46: FutureWarning:\n",
      "\n",
      "Setting an item of incompatible dtype is deprecated and will raise an error in a future version of pandas. Value '98984.66175' has dtype incompatible with int64, please explicitly cast to a compatible dtype first.\n",
      "\n",
      "[I 2025-04-20 13:32:59,563] Trial 38 finished with value: 0.07917149488497534 and parameters: {'highBars': 7, 'lowBars': 6, 'distance': 23}. Best is trial 35 with value: 0.3489165088327174.\n",
      "/var/folders/4g/c6vylbjj0gl07x_f6l921r980000gn/T/ipykernel_20863/1655679920.py:9: FutureWarning:\n",
      "\n",
      "Series.__getitem__ treating keys as positions is deprecated. In a future version, integer keys will always be treated as labels (consistent with DataFrame behavior). To access a value by position, use `ser.iloc[pos]`\n",
      "\n",
      "/var/folders/4g/c6vylbjj0gl07x_f6l921r980000gn/T/ipykernel_20863/1655679920.py:32: FutureWarning:\n",
      "\n",
      "Series.__getitem__ treating keys as positions is deprecated. In a future version, integer keys will always be treated as labels (consistent with DataFrame behavior). To access a value by position, use `ser.iloc[pos]`\n",
      "\n",
      "/var/folders/4g/c6vylbjj0gl07x_f6l921r980000gn/T/ipykernel_20863/2957562227.py:46: FutureWarning:\n",
      "\n",
      "Setting an item of incompatible dtype is deprecated and will raise an error in a future version of pandas. Value '96339.46611000001' has dtype incompatible with int64, please explicitly cast to a compatible dtype first.\n",
      "\n",
      "[I 2025-04-20 13:33:01,390] Trial 39 finished with value: -0.023345843009398518 and parameters: {'highBars': 22, 'lowBars': 20, 'distance': 19}. Best is trial 35 with value: 0.3489165088327174.\n",
      "/var/folders/4g/c6vylbjj0gl07x_f6l921r980000gn/T/ipykernel_20863/1655679920.py:9: FutureWarning:\n",
      "\n",
      "Series.__getitem__ treating keys as positions is deprecated. In a future version, integer keys will always be treated as labels (consistent with DataFrame behavior). To access a value by position, use `ser.iloc[pos]`\n",
      "\n",
      "/var/folders/4g/c6vylbjj0gl07x_f6l921r980000gn/T/ipykernel_20863/1655679920.py:32: FutureWarning:\n",
      "\n",
      "Series.__getitem__ treating keys as positions is deprecated. In a future version, integer keys will always be treated as labels (consistent with DataFrame behavior). To access a value by position, use `ser.iloc[pos]`\n",
      "\n",
      "/var/folders/4g/c6vylbjj0gl07x_f6l921r980000gn/T/ipykernel_20863/2957562227.py:46: FutureWarning:\n",
      "\n",
      "Setting an item of incompatible dtype is deprecated and will raise an error in a future version of pandas. Value '101155.21593' has dtype incompatible with int64, please explicitly cast to a compatible dtype first.\n",
      "\n",
      "[I 2025-04-20 13:33:03,306] Trial 40 finished with value: -0.1234790301444134 and parameters: {'highBars': 9, 'lowBars': 10, 'distance': 23}. Best is trial 35 with value: 0.3489165088327174.\n",
      "/var/folders/4g/c6vylbjj0gl07x_f6l921r980000gn/T/ipykernel_20863/1655679920.py:9: FutureWarning:\n",
      "\n",
      "Series.__getitem__ treating keys as positions is deprecated. In a future version, integer keys will always be treated as labels (consistent with DataFrame behavior). To access a value by position, use `ser.iloc[pos]`\n",
      "\n",
      "/var/folders/4g/c6vylbjj0gl07x_f6l921r980000gn/T/ipykernel_20863/1655679920.py:32: FutureWarning:\n",
      "\n",
      "Series.__getitem__ treating keys as positions is deprecated. In a future version, integer keys will always be treated as labels (consistent with DataFrame behavior). To access a value by position, use `ser.iloc[pos]`\n",
      "\n",
      "/var/folders/4g/c6vylbjj0gl07x_f6l921r980000gn/T/ipykernel_20863/2957562227.py:46: FutureWarning:\n",
      "\n",
      "Setting an item of incompatible dtype is deprecated and will raise an error in a future version of pandas. Value '99123.941505' has dtype incompatible with int64, please explicitly cast to a compatible dtype first.\n",
      "\n",
      "[I 2025-04-20 13:33:05,209] Trial 41 finished with value: 0.13200290476044502 and parameters: {'highBars': 14, 'lowBars': 4, 'distance': 17}. Best is trial 35 with value: 0.3489165088327174.\n",
      "/var/folders/4g/c6vylbjj0gl07x_f6l921r980000gn/T/ipykernel_20863/1655679920.py:9: FutureWarning:\n",
      "\n",
      "Series.__getitem__ treating keys as positions is deprecated. In a future version, integer keys will always be treated as labels (consistent with DataFrame behavior). To access a value by position, use `ser.iloc[pos]`\n",
      "\n",
      "/var/folders/4g/c6vylbjj0gl07x_f6l921r980000gn/T/ipykernel_20863/1655679920.py:32: FutureWarning:\n",
      "\n",
      "Series.__getitem__ treating keys as positions is deprecated. In a future version, integer keys will always be treated as labels (consistent with DataFrame behavior). To access a value by position, use `ser.iloc[pos]`\n",
      "\n",
      "/var/folders/4g/c6vylbjj0gl07x_f6l921r980000gn/T/ipykernel_20863/2957562227.py:46: FutureWarning:\n",
      "\n",
      "Setting an item of incompatible dtype is deprecated and will raise an error in a future version of pandas. Value '102867.252225' has dtype incompatible with int64, please explicitly cast to a compatible dtype first.\n",
      "\n",
      "[I 2025-04-20 13:33:07,116] Trial 42 finished with value: 0.3173521679012302 and parameters: {'highBars': 19, 'lowBars': 5, 'distance': 19}. Best is trial 35 with value: 0.3489165088327174.\n",
      "/var/folders/4g/c6vylbjj0gl07x_f6l921r980000gn/T/ipykernel_20863/1655679920.py:9: FutureWarning:\n",
      "\n",
      "Series.__getitem__ treating keys as positions is deprecated. In a future version, integer keys will always be treated as labels (consistent with DataFrame behavior). To access a value by position, use `ser.iloc[pos]`\n",
      "\n",
      "/var/folders/4g/c6vylbjj0gl07x_f6l921r980000gn/T/ipykernel_20863/1655679920.py:32: FutureWarning:\n",
      "\n",
      "Series.__getitem__ treating keys as positions is deprecated. In a future version, integer keys will always be treated as labels (consistent with DataFrame behavior). To access a value by position, use `ser.iloc[pos]`\n",
      "\n",
      "/var/folders/4g/c6vylbjj0gl07x_f6l921r980000gn/T/ipykernel_20863/2957562227.py:46: FutureWarning:\n",
      "\n",
      "Setting an item of incompatible dtype is deprecated and will raise an error in a future version of pandas. Value '96565.170755' has dtype incompatible with int64, please explicitly cast to a compatible dtype first.\n",
      "\n",
      "[I 2025-04-20 13:33:08,989] Trial 43 finished with value: 0.14667310368638628 and parameters: {'highBars': 19, 'lowBars': 3, 'distance': 19}. Best is trial 35 with value: 0.3489165088327174.\n",
      "/var/folders/4g/c6vylbjj0gl07x_f6l921r980000gn/T/ipykernel_20863/1655679920.py:9: FutureWarning:\n",
      "\n",
      "Series.__getitem__ treating keys as positions is deprecated. In a future version, integer keys will always be treated as labels (consistent with DataFrame behavior). To access a value by position, use `ser.iloc[pos]`\n",
      "\n",
      "/var/folders/4g/c6vylbjj0gl07x_f6l921r980000gn/T/ipykernel_20863/1655679920.py:32: FutureWarning:\n",
      "\n",
      "Series.__getitem__ treating keys as positions is deprecated. In a future version, integer keys will always be treated as labels (consistent with DataFrame behavior). To access a value by position, use `ser.iloc[pos]`\n",
      "\n",
      "/var/folders/4g/c6vylbjj0gl07x_f6l921r980000gn/T/ipykernel_20863/2957562227.py:46: FutureWarning:\n",
      "\n",
      "Setting an item of incompatible dtype is deprecated and will raise an error in a future version of pandas. Value '98613.106215' has dtype incompatible with int64, please explicitly cast to a compatible dtype first.\n",
      "\n",
      "[I 2025-04-20 13:33:10,878] Trial 44 finished with value: 0.15157358672872168 and parameters: {'highBars': 22, 'lowBars': 7, 'distance': 22}. Best is trial 35 with value: 0.3489165088327174.\n",
      "/var/folders/4g/c6vylbjj0gl07x_f6l921r980000gn/T/ipykernel_20863/1655679920.py:9: FutureWarning:\n",
      "\n",
      "Series.__getitem__ treating keys as positions is deprecated. In a future version, integer keys will always be treated as labels (consistent with DataFrame behavior). To access a value by position, use `ser.iloc[pos]`\n",
      "\n",
      "/var/folders/4g/c6vylbjj0gl07x_f6l921r980000gn/T/ipykernel_20863/1655679920.py:32: FutureWarning:\n",
      "\n",
      "Series.__getitem__ treating keys as positions is deprecated. In a future version, integer keys will always be treated as labels (consistent with DataFrame behavior). To access a value by position, use `ser.iloc[pos]`\n",
      "\n",
      "/var/folders/4g/c6vylbjj0gl07x_f6l921r980000gn/T/ipykernel_20863/2957562227.py:46: FutureWarning:\n",
      "\n",
      "Setting an item of incompatible dtype is deprecated and will raise an error in a future version of pandas. Value '98973.486315' has dtype incompatible with int64, please explicitly cast to a compatible dtype first.\n",
      "\n",
      "[I 2025-04-20 13:33:12,762] Trial 45 finished with value: 0.2305783798580687 and parameters: {'highBars': 23, 'lowBars': 6, 'distance': 20}. Best is trial 35 with value: 0.3489165088327174.\n",
      "/var/folders/4g/c6vylbjj0gl07x_f6l921r980000gn/T/ipykernel_20863/1655679920.py:9: FutureWarning:\n",
      "\n",
      "Series.__getitem__ treating keys as positions is deprecated. In a future version, integer keys will always be treated as labels (consistent with DataFrame behavior). To access a value by position, use `ser.iloc[pos]`\n",
      "\n",
      "/var/folders/4g/c6vylbjj0gl07x_f6l921r980000gn/T/ipykernel_20863/1655679920.py:32: FutureWarning:\n",
      "\n",
      "Series.__getitem__ treating keys as positions is deprecated. In a future version, integer keys will always be treated as labels (consistent with DataFrame behavior). To access a value by position, use `ser.iloc[pos]`\n",
      "\n",
      "/var/folders/4g/c6vylbjj0gl07x_f6l921r980000gn/T/ipykernel_20863/2957562227.py:46: FutureWarning:\n",
      "\n",
      "Setting an item of incompatible dtype is deprecated and will raise an error in a future version of pandas. Value '100973.90599500001' has dtype incompatible with int64, please explicitly cast to a compatible dtype first.\n",
      "\n",
      "[I 2025-04-20 13:33:14,696] Trial 46 finished with value: 0.1538221721664341 and parameters: {'highBars': 20, 'lowBars': 17, 'distance': 19}. Best is trial 35 with value: 0.3489165088327174.\n",
      "/var/folders/4g/c6vylbjj0gl07x_f6l921r980000gn/T/ipykernel_20863/1655679920.py:9: FutureWarning:\n",
      "\n",
      "Series.__getitem__ treating keys as positions is deprecated. In a future version, integer keys will always be treated as labels (consistent with DataFrame behavior). To access a value by position, use `ser.iloc[pos]`\n",
      "\n",
      "/var/folders/4g/c6vylbjj0gl07x_f6l921r980000gn/T/ipykernel_20863/1655679920.py:32: FutureWarning:\n",
      "\n",
      "Series.__getitem__ treating keys as positions is deprecated. In a future version, integer keys will always be treated as labels (consistent with DataFrame behavior). To access a value by position, use `ser.iloc[pos]`\n",
      "\n",
      "/var/folders/4g/c6vylbjj0gl07x_f6l921r980000gn/T/ipykernel_20863/2957562227.py:46: FutureWarning:\n",
      "\n",
      "Setting an item of incompatible dtype is deprecated and will raise an error in a future version of pandas. Value '102867.252225' has dtype incompatible with int64, please explicitly cast to a compatible dtype first.\n",
      "\n",
      "[I 2025-04-20 13:33:16,612] Trial 47 finished with value: 0.27655797092262735 and parameters: {'highBars': 14, 'lowBars': 5, 'distance': 15}. Best is trial 35 with value: 0.3489165088327174.\n",
      "/var/folders/4g/c6vylbjj0gl07x_f6l921r980000gn/T/ipykernel_20863/1655679920.py:9: FutureWarning:\n",
      "\n",
      "Series.__getitem__ treating keys as positions is deprecated. In a future version, integer keys will always be treated as labels (consistent with DataFrame behavior). To access a value by position, use `ser.iloc[pos]`\n",
      "\n",
      "/var/folders/4g/c6vylbjj0gl07x_f6l921r980000gn/T/ipykernel_20863/1655679920.py:32: FutureWarning:\n",
      "\n",
      "Series.__getitem__ treating keys as positions is deprecated. In a future version, integer keys will always be treated as labels (consistent with DataFrame behavior). To access a value by position, use `ser.iloc[pos]`\n",
      "\n",
      "/var/folders/4g/c6vylbjj0gl07x_f6l921r980000gn/T/ipykernel_20863/2957562227.py:46: FutureWarning:\n",
      "\n",
      "Setting an item of incompatible dtype is deprecated and will raise an error in a future version of pandas. Value '100976.12552' has dtype incompatible with int64, please explicitly cast to a compatible dtype first.\n",
      "\n",
      "[I 2025-04-20 13:33:18,561] Trial 48 finished with value: 0.2422413429184538 and parameters: {'highBars': 12, 'lowBars': 8, 'distance': 24}. Best is trial 35 with value: 0.3489165088327174.\n",
      "/var/folders/4g/c6vylbjj0gl07x_f6l921r980000gn/T/ipykernel_20863/1655679920.py:9: FutureWarning:\n",
      "\n",
      "Series.__getitem__ treating keys as positions is deprecated. In a future version, integer keys will always be treated as labels (consistent with DataFrame behavior). To access a value by position, use `ser.iloc[pos]`\n",
      "\n",
      "/var/folders/4g/c6vylbjj0gl07x_f6l921r980000gn/T/ipykernel_20863/1655679920.py:32: FutureWarning:\n",
      "\n",
      "Series.__getitem__ treating keys as positions is deprecated. In a future version, integer keys will always be treated as labels (consistent with DataFrame behavior). To access a value by position, use `ser.iloc[pos]`\n",
      "\n",
      "/var/folders/4g/c6vylbjj0gl07x_f6l921r980000gn/T/ipykernel_20863/2957562227.py:46: FutureWarning:\n",
      "\n",
      "Setting an item of incompatible dtype is deprecated and will raise an error in a future version of pandas. Value '98399.404525' has dtype incompatible with int64, please explicitly cast to a compatible dtype first.\n",
      "\n",
      "[I 2025-04-20 13:33:20,496] Trial 49 finished with value: -0.00996537508028946 and parameters: {'highBars': 5, 'lowBars': 9, 'distance': 28}. Best is trial 35 with value: 0.3489165088327174.\n",
      "/var/folders/4g/c6vylbjj0gl07x_f6l921r980000gn/T/ipykernel_20863/1655679920.py:9: FutureWarning:\n",
      "\n",
      "Series.__getitem__ treating keys as positions is deprecated. In a future version, integer keys will always be treated as labels (consistent with DataFrame behavior). To access a value by position, use `ser.iloc[pos]`\n",
      "\n",
      "/var/folders/4g/c6vylbjj0gl07x_f6l921r980000gn/T/ipykernel_20863/1655679920.py:32: FutureWarning:\n",
      "\n",
      "Series.__getitem__ treating keys as positions is deprecated. In a future version, integer keys will always be treated as labels (consistent with DataFrame behavior). To access a value by position, use `ser.iloc[pos]`\n",
      "\n",
      "/var/folders/4g/c6vylbjj0gl07x_f6l921r980000gn/T/ipykernel_20863/2957562227.py:46: FutureWarning:\n",
      "\n",
      "Setting an item of incompatible dtype is deprecated and will raise an error in a future version of pandas. Value '99123.941505' has dtype incompatible with int64, please explicitly cast to a compatible dtype first.\n",
      "\n",
      "[I 2025-04-20 13:33:22,418] Trial 50 finished with value: 0.18388786560608328 and parameters: {'highBars': 17, 'lowBars': 4, 'distance': 18}. Best is trial 35 with value: 0.3489165088327174.\n",
      "/var/folders/4g/c6vylbjj0gl07x_f6l921r980000gn/T/ipykernel_20863/1655679920.py:9: FutureWarning:\n",
      "\n",
      "Series.__getitem__ treating keys as positions is deprecated. In a future version, integer keys will always be treated as labels (consistent with DataFrame behavior). To access a value by position, use `ser.iloc[pos]`\n",
      "\n",
      "/var/folders/4g/c6vylbjj0gl07x_f6l921r980000gn/T/ipykernel_20863/1655679920.py:32: FutureWarning:\n",
      "\n",
      "Series.__getitem__ treating keys as positions is deprecated. In a future version, integer keys will always be treated as labels (consistent with DataFrame behavior). To access a value by position, use `ser.iloc[pos]`\n",
      "\n",
      "/var/folders/4g/c6vylbjj0gl07x_f6l921r980000gn/T/ipykernel_20863/2957562227.py:46: FutureWarning:\n",
      "\n",
      "Setting an item of incompatible dtype is deprecated and will raise an error in a future version of pandas. Value '102867.252225' has dtype incompatible with int64, please explicitly cast to a compatible dtype first.\n",
      "\n",
      "[I 2025-04-20 13:33:24,440] Trial 51 finished with value: 0.25283353115967 and parameters: {'highBars': 15, 'lowBars': 5, 'distance': 15}. Best is trial 35 with value: 0.3489165088327174.\n",
      "/var/folders/4g/c6vylbjj0gl07x_f6l921r980000gn/T/ipykernel_20863/1655679920.py:9: FutureWarning:\n",
      "\n",
      "Series.__getitem__ treating keys as positions is deprecated. In a future version, integer keys will always be treated as labels (consistent with DataFrame behavior). To access a value by position, use `ser.iloc[pos]`\n",
      "\n",
      "/var/folders/4g/c6vylbjj0gl07x_f6l921r980000gn/T/ipykernel_20863/1655679920.py:32: FutureWarning:\n",
      "\n",
      "Series.__getitem__ treating keys as positions is deprecated. In a future version, integer keys will always be treated as labels (consistent with DataFrame behavior). To access a value by position, use `ser.iloc[pos]`\n",
      "\n",
      "/var/folders/4g/c6vylbjj0gl07x_f6l921r980000gn/T/ipykernel_20863/2957562227.py:46: FutureWarning:\n",
      "\n",
      "Setting an item of incompatible dtype is deprecated and will raise an error in a future version of pandas. Value '102867.252225' has dtype incompatible with int64, please explicitly cast to a compatible dtype first.\n",
      "\n",
      "[I 2025-04-20 13:33:26,365] Trial 52 finished with value: 0.32398974270673003 and parameters: {'highBars': 14, 'lowBars': 5, 'distance': 17}. Best is trial 35 with value: 0.3489165088327174.\n",
      "/var/folders/4g/c6vylbjj0gl07x_f6l921r980000gn/T/ipykernel_20863/1655679920.py:9: FutureWarning:\n",
      "\n",
      "Series.__getitem__ treating keys as positions is deprecated. In a future version, integer keys will always be treated as labels (consistent with DataFrame behavior). To access a value by position, use `ser.iloc[pos]`\n",
      "\n",
      "/var/folders/4g/c6vylbjj0gl07x_f6l921r980000gn/T/ipykernel_20863/1655679920.py:32: FutureWarning:\n",
      "\n",
      "Series.__getitem__ treating keys as positions is deprecated. In a future version, integer keys will always be treated as labels (consistent with DataFrame behavior). To access a value by position, use `ser.iloc[pos]`\n",
      "\n",
      "/var/folders/4g/c6vylbjj0gl07x_f6l921r980000gn/T/ipykernel_20863/2957562227.py:46: FutureWarning:\n",
      "\n",
      "Setting an item of incompatible dtype is deprecated and will raise an error in a future version of pandas. Value '96565.170755' has dtype incompatible with int64, please explicitly cast to a compatible dtype first.\n",
      "\n",
      "[I 2025-04-20 13:33:28,230] Trial 53 finished with value: 0.14667310368638628 and parameters: {'highBars': 19, 'lowBars': 3, 'distance': 17}. Best is trial 35 with value: 0.3489165088327174.\n",
      "/var/folders/4g/c6vylbjj0gl07x_f6l921r980000gn/T/ipykernel_20863/1655679920.py:9: FutureWarning:\n",
      "\n",
      "Series.__getitem__ treating keys as positions is deprecated. In a future version, integer keys will always be treated as labels (consistent with DataFrame behavior). To access a value by position, use `ser.iloc[pos]`\n",
      "\n",
      "/var/folders/4g/c6vylbjj0gl07x_f6l921r980000gn/T/ipykernel_20863/1655679920.py:32: FutureWarning:\n",
      "\n",
      "Series.__getitem__ treating keys as positions is deprecated. In a future version, integer keys will always be treated as labels (consistent with DataFrame behavior). To access a value by position, use `ser.iloc[pos]`\n",
      "\n",
      "/var/folders/4g/c6vylbjj0gl07x_f6l921r980000gn/T/ipykernel_20863/2957562227.py:46: FutureWarning:\n",
      "\n",
      "Setting an item of incompatible dtype is deprecated and will raise an error in a future version of pandas. Value '102304.96077' has dtype incompatible with int64, please explicitly cast to a compatible dtype first.\n",
      "\n",
      "[I 2025-04-20 13:33:30,121] Trial 54 finished with value: 0.3489165088327174 and parameters: {'highBars': 10, 'lowBars': 7, 'distance': 20}. Best is trial 35 with value: 0.3489165088327174.\n",
      "/var/folders/4g/c6vylbjj0gl07x_f6l921r980000gn/T/ipykernel_20863/1655679920.py:9: FutureWarning:\n",
      "\n",
      "Series.__getitem__ treating keys as positions is deprecated. In a future version, integer keys will always be treated as labels (consistent with DataFrame behavior). To access a value by position, use `ser.iloc[pos]`\n",
      "\n",
      "/var/folders/4g/c6vylbjj0gl07x_f6l921r980000gn/T/ipykernel_20863/1655679920.py:32: FutureWarning:\n",
      "\n",
      "Series.__getitem__ treating keys as positions is deprecated. In a future version, integer keys will always be treated as labels (consistent with DataFrame behavior). To access a value by position, use `ser.iloc[pos]`\n",
      "\n",
      "/var/folders/4g/c6vylbjj0gl07x_f6l921r980000gn/T/ipykernel_20863/2957562227.py:46: FutureWarning:\n",
      "\n",
      "Setting an item of incompatible dtype is deprecated and will raise an error in a future version of pandas. Value '102304.96077' has dtype incompatible with int64, please explicitly cast to a compatible dtype first.\n",
      "\n",
      "[I 2025-04-20 13:33:31,968] Trial 55 finished with value: 0.24378271071315014 and parameters: {'highBars': 10, 'lowBars': 7, 'distance': 21}. Best is trial 35 with value: 0.3489165088327174.\n",
      "/var/folders/4g/c6vylbjj0gl07x_f6l921r980000gn/T/ipykernel_20863/1655679920.py:9: FutureWarning:\n",
      "\n",
      "Series.__getitem__ treating keys as positions is deprecated. In a future version, integer keys will always be treated as labels (consistent with DataFrame behavior). To access a value by position, use `ser.iloc[pos]`\n",
      "\n",
      "/var/folders/4g/c6vylbjj0gl07x_f6l921r980000gn/T/ipykernel_20863/1655679920.py:32: FutureWarning:\n",
      "\n",
      "Series.__getitem__ treating keys as positions is deprecated. In a future version, integer keys will always be treated as labels (consistent with DataFrame behavior). To access a value by position, use `ser.iloc[pos]`\n",
      "\n",
      "/var/folders/4g/c6vylbjj0gl07x_f6l921r980000gn/T/ipykernel_20863/2957562227.py:46: FutureWarning:\n",
      "\n",
      "Setting an item of incompatible dtype is deprecated and will raise an error in a future version of pandas. Value '100976.12552' has dtype incompatible with int64, please explicitly cast to a compatible dtype first.\n",
      "\n",
      "[I 2025-04-20 13:33:33,887] Trial 56 finished with value: 0.3015261713527069 and parameters: {'highBars': 12, 'lowBars': 6, 'distance': 20}. Best is trial 35 with value: 0.3489165088327174.\n",
      "/var/folders/4g/c6vylbjj0gl07x_f6l921r980000gn/T/ipykernel_20863/1655679920.py:9: FutureWarning:\n",
      "\n",
      "Series.__getitem__ treating keys as positions is deprecated. In a future version, integer keys will always be treated as labels (consistent with DataFrame behavior). To access a value by position, use `ser.iloc[pos]`\n",
      "\n",
      "/var/folders/4g/c6vylbjj0gl07x_f6l921r980000gn/T/ipykernel_20863/1655679920.py:32: FutureWarning:\n",
      "\n",
      "Series.__getitem__ treating keys as positions is deprecated. In a future version, integer keys will always be treated as labels (consistent with DataFrame behavior). To access a value by position, use `ser.iloc[pos]`\n",
      "\n",
      "/var/folders/4g/c6vylbjj0gl07x_f6l921r980000gn/T/ipykernel_20863/2957562227.py:46: FutureWarning:\n",
      "\n",
      "Setting an item of incompatible dtype is deprecated and will raise an error in a future version of pandas. Value '100976.12552' has dtype incompatible with int64, please explicitly cast to a compatible dtype first.\n",
      "\n",
      "[I 2025-04-20 13:33:36,163] Trial 57 finished with value: 0.35897889862088744 and parameters: {'highBars': 12, 'lowBars': 5, 'distance': 20}. Best is trial 57 with value: 0.35897889862088744.\n",
      "/var/folders/4g/c6vylbjj0gl07x_f6l921r980000gn/T/ipykernel_20863/1655679920.py:9: FutureWarning:\n",
      "\n",
      "Series.__getitem__ treating keys as positions is deprecated. In a future version, integer keys will always be treated as labels (consistent with DataFrame behavior). To access a value by position, use `ser.iloc[pos]`\n",
      "\n",
      "/var/folders/4g/c6vylbjj0gl07x_f6l921r980000gn/T/ipykernel_20863/1655679920.py:32: FutureWarning:\n",
      "\n",
      "Series.__getitem__ treating keys as positions is deprecated. In a future version, integer keys will always be treated as labels (consistent with DataFrame behavior). To access a value by position, use `ser.iloc[pos]`\n",
      "\n",
      "/var/folders/4g/c6vylbjj0gl07x_f6l921r980000gn/T/ipykernel_20863/2957562227.py:46: FutureWarning:\n",
      "\n",
      "Setting an item of incompatible dtype is deprecated and will raise an error in a future version of pandas. Value '98984.66175' has dtype incompatible with int64, please explicitly cast to a compatible dtype first.\n",
      "\n",
      "[I 2025-04-20 13:33:38,326] Trial 58 finished with value: -0.11789299195977168 and parameters: {'highBars': 7, 'lowBars': 4, 'distance': 22}. Best is trial 57 with value: 0.35897889862088744.\n",
      "/var/folders/4g/c6vylbjj0gl07x_f6l921r980000gn/T/ipykernel_20863/1655679920.py:9: FutureWarning:\n",
      "\n",
      "Series.__getitem__ treating keys as positions is deprecated. In a future version, integer keys will always be treated as labels (consistent with DataFrame behavior). To access a value by position, use `ser.iloc[pos]`\n",
      "\n",
      "/var/folders/4g/c6vylbjj0gl07x_f6l921r980000gn/T/ipykernel_20863/1655679920.py:32: FutureWarning:\n",
      "\n",
      "Series.__getitem__ treating keys as positions is deprecated. In a future version, integer keys will always be treated as labels (consistent with DataFrame behavior). To access a value by position, use `ser.iloc[pos]`\n",
      "\n",
      "/var/folders/4g/c6vylbjj0gl07x_f6l921r980000gn/T/ipykernel_20863/2957562227.py:46: FutureWarning:\n",
      "\n",
      "Setting an item of incompatible dtype is deprecated and will raise an error in a future version of pandas. Value '101155.21593' has dtype incompatible with int64, please explicitly cast to a compatible dtype first.\n",
      "\n",
      "[I 2025-04-20 13:33:40,434] Trial 59 finished with value: 0.3239411442354434 and parameters: {'highBars': 9, 'lowBars': 5, 'distance': 19}. Best is trial 57 with value: 0.35897889862088744.\n",
      "/var/folders/4g/c6vylbjj0gl07x_f6l921r980000gn/T/ipykernel_20863/1655679920.py:9: FutureWarning:\n",
      "\n",
      "Series.__getitem__ treating keys as positions is deprecated. In a future version, integer keys will always be treated as labels (consistent with DataFrame behavior). To access a value by position, use `ser.iloc[pos]`\n",
      "\n",
      "/var/folders/4g/c6vylbjj0gl07x_f6l921r980000gn/T/ipykernel_20863/1655679920.py:32: FutureWarning:\n",
      "\n",
      "Series.__getitem__ treating keys as positions is deprecated. In a future version, integer keys will always be treated as labels (consistent with DataFrame behavior). To access a value by position, use `ser.iloc[pos]`\n",
      "\n",
      "/var/folders/4g/c6vylbjj0gl07x_f6l921r980000gn/T/ipykernel_20863/2957562227.py:46: FutureWarning:\n",
      "\n",
      "Setting an item of incompatible dtype is deprecated and will raise an error in a future version of pandas. Value '101155.21593' has dtype incompatible with int64, please explicitly cast to a compatible dtype first.\n",
      "\n",
      "[I 2025-04-20 13:33:42,377] Trial 60 finished with value: 0.03426094257543029 and parameters: {'highBars': 9, 'lowBars': 11, 'distance': 18}. Best is trial 57 with value: 0.35897889862088744.\n",
      "/var/folders/4g/c6vylbjj0gl07x_f6l921r980000gn/T/ipykernel_20863/1655679920.py:9: FutureWarning:\n",
      "\n",
      "Series.__getitem__ treating keys as positions is deprecated. In a future version, integer keys will always be treated as labels (consistent with DataFrame behavior). To access a value by position, use `ser.iloc[pos]`\n",
      "\n",
      "/var/folders/4g/c6vylbjj0gl07x_f6l921r980000gn/T/ipykernel_20863/1655679920.py:32: FutureWarning:\n",
      "\n",
      "Series.__getitem__ treating keys as positions is deprecated. In a future version, integer keys will always be treated as labels (consistent with DataFrame behavior). To access a value by position, use `ser.iloc[pos]`\n",
      "\n",
      "/var/folders/4g/c6vylbjj0gl07x_f6l921r980000gn/T/ipykernel_20863/2957562227.py:46: FutureWarning:\n",
      "\n",
      "Setting an item of incompatible dtype is deprecated and will raise an error in a future version of pandas. Value '102068.868875' has dtype incompatible with int64, please explicitly cast to a compatible dtype first.\n",
      "\n",
      "[I 2025-04-20 13:33:44,280] Trial 61 finished with value: 0.36099001565980127 and parameters: {'highBars': 11, 'lowBars': 5, 'distance': 19}. Best is trial 61 with value: 0.36099001565980127.\n",
      "/var/folders/4g/c6vylbjj0gl07x_f6l921r980000gn/T/ipykernel_20863/1655679920.py:9: FutureWarning:\n",
      "\n",
      "Series.__getitem__ treating keys as positions is deprecated. In a future version, integer keys will always be treated as labels (consistent with DataFrame behavior). To access a value by position, use `ser.iloc[pos]`\n",
      "\n",
      "/var/folders/4g/c6vylbjj0gl07x_f6l921r980000gn/T/ipykernel_20863/1655679920.py:32: FutureWarning:\n",
      "\n",
      "Series.__getitem__ treating keys as positions is deprecated. In a future version, integer keys will always be treated as labels (consistent with DataFrame behavior). To access a value by position, use `ser.iloc[pos]`\n",
      "\n",
      "/var/folders/4g/c6vylbjj0gl07x_f6l921r980000gn/T/ipykernel_20863/2957562227.py:46: FutureWarning:\n",
      "\n",
      "Setting an item of incompatible dtype is deprecated and will raise an error in a future version of pandas. Value '102068.868875' has dtype incompatible with int64, please explicitly cast to a compatible dtype first.\n",
      "\n",
      "[I 2025-04-20 13:33:46,482] Trial 62 finished with value: 0.37289037225220906 and parameters: {'highBars': 11, 'lowBars': 7, 'distance': 20}. Best is trial 62 with value: 0.37289037225220906.\n",
      "/var/folders/4g/c6vylbjj0gl07x_f6l921r980000gn/T/ipykernel_20863/1655679920.py:9: FutureWarning:\n",
      "\n",
      "Series.__getitem__ treating keys as positions is deprecated. In a future version, integer keys will always be treated as labels (consistent with DataFrame behavior). To access a value by position, use `ser.iloc[pos]`\n",
      "\n",
      "/var/folders/4g/c6vylbjj0gl07x_f6l921r980000gn/T/ipykernel_20863/1655679920.py:32: FutureWarning:\n",
      "\n",
      "Series.__getitem__ treating keys as positions is deprecated. In a future version, integer keys will always be treated as labels (consistent with DataFrame behavior). To access a value by position, use `ser.iloc[pos]`\n",
      "\n",
      "/var/folders/4g/c6vylbjj0gl07x_f6l921r980000gn/T/ipykernel_20863/2957562227.py:46: FutureWarning:\n",
      "\n",
      "Setting an item of incompatible dtype is deprecated and will raise an error in a future version of pandas. Value '100581.48294' has dtype incompatible with int64, please explicitly cast to a compatible dtype first.\n",
      "\n",
      "[I 2025-04-20 13:33:48,308] Trial 63 finished with value: 0.2952604619451282 and parameters: {'highBars': 13, 'lowBars': 7, 'distance': 20}. Best is trial 62 with value: 0.37289037225220906.\n",
      "/var/folders/4g/c6vylbjj0gl07x_f6l921r980000gn/T/ipykernel_20863/1655679920.py:9: FutureWarning:\n",
      "\n",
      "Series.__getitem__ treating keys as positions is deprecated. In a future version, integer keys will always be treated as labels (consistent with DataFrame behavior). To access a value by position, use `ser.iloc[pos]`\n",
      "\n",
      "/var/folders/4g/c6vylbjj0gl07x_f6l921r980000gn/T/ipykernel_20863/1655679920.py:32: FutureWarning:\n",
      "\n",
      "Series.__getitem__ treating keys as positions is deprecated. In a future version, integer keys will always be treated as labels (consistent with DataFrame behavior). To access a value by position, use `ser.iloc[pos]`\n",
      "\n",
      "/var/folders/4g/c6vylbjj0gl07x_f6l921r980000gn/T/ipykernel_20863/2957562227.py:46: FutureWarning:\n",
      "\n",
      "Setting an item of incompatible dtype is deprecated and will raise an error in a future version of pandas. Value '102304.96077' has dtype incompatible with int64, please explicitly cast to a compatible dtype first.\n",
      "\n",
      "[I 2025-04-20 13:33:50,168] Trial 64 finished with value: 0.37372603630077583 and parameters: {'highBars': 10, 'lowBars': 5, 'distance': 18}. Best is trial 64 with value: 0.37372603630077583.\n",
      "/var/folders/4g/c6vylbjj0gl07x_f6l921r980000gn/T/ipykernel_20863/1655679920.py:9: FutureWarning:\n",
      "\n",
      "Series.__getitem__ treating keys as positions is deprecated. In a future version, integer keys will always be treated as labels (consistent with DataFrame behavior). To access a value by position, use `ser.iloc[pos]`\n",
      "\n",
      "/var/folders/4g/c6vylbjj0gl07x_f6l921r980000gn/T/ipykernel_20863/1655679920.py:32: FutureWarning:\n",
      "\n",
      "Series.__getitem__ treating keys as positions is deprecated. In a future version, integer keys will always be treated as labels (consistent with DataFrame behavior). To access a value by position, use `ser.iloc[pos]`\n",
      "\n",
      "/var/folders/4g/c6vylbjj0gl07x_f6l921r980000gn/T/ipykernel_20863/2957562227.py:46: FutureWarning:\n",
      "\n",
      "Setting an item of incompatible dtype is deprecated and will raise an error in a future version of pandas. Value '102304.96077' has dtype incompatible with int64, please explicitly cast to a compatible dtype first.\n",
      "\n",
      "[I 2025-04-20 13:33:52,094] Trial 65 finished with value: 0.06779512920188477 and parameters: {'highBars': 10, 'lowBars': 4, 'distance': 18}. Best is trial 64 with value: 0.37372603630077583.\n",
      "/var/folders/4g/c6vylbjj0gl07x_f6l921r980000gn/T/ipykernel_20863/1655679920.py:9: FutureWarning:\n",
      "\n",
      "Series.__getitem__ treating keys as positions is deprecated. In a future version, integer keys will always be treated as labels (consistent with DataFrame behavior). To access a value by position, use `ser.iloc[pos]`\n",
      "\n",
      "/var/folders/4g/c6vylbjj0gl07x_f6l921r980000gn/T/ipykernel_20863/1655679920.py:32: FutureWarning:\n",
      "\n",
      "Series.__getitem__ treating keys as positions is deprecated. In a future version, integer keys will always be treated as labels (consistent with DataFrame behavior). To access a value by position, use `ser.iloc[pos]`\n",
      "\n",
      "/var/folders/4g/c6vylbjj0gl07x_f6l921r980000gn/T/ipykernel_20863/2957562227.py:46: FutureWarning:\n",
      "\n",
      "Setting an item of incompatible dtype is deprecated and will raise an error in a future version of pandas. Value '101120.363365' has dtype incompatible with int64, please explicitly cast to a compatible dtype first.\n",
      "\n",
      "[I 2025-04-20 13:33:54,013] Trial 66 finished with value: 0.1006151963869946 and parameters: {'highBars': 8, 'lowBars': 8, 'distance': 20}. Best is trial 64 with value: 0.37372603630077583.\n",
      "/var/folders/4g/c6vylbjj0gl07x_f6l921r980000gn/T/ipykernel_20863/1655679920.py:9: FutureWarning:\n",
      "\n",
      "Series.__getitem__ treating keys as positions is deprecated. In a future version, integer keys will always be treated as labels (consistent with DataFrame behavior). To access a value by position, use `ser.iloc[pos]`\n",
      "\n",
      "/var/folders/4g/c6vylbjj0gl07x_f6l921r980000gn/T/ipykernel_20863/1655679920.py:32: FutureWarning:\n",
      "\n",
      "Series.__getitem__ treating keys as positions is deprecated. In a future version, integer keys will always be treated as labels (consistent with DataFrame behavior). To access a value by position, use `ser.iloc[pos]`\n",
      "\n",
      "/var/folders/4g/c6vylbjj0gl07x_f6l921r980000gn/T/ipykernel_20863/2957562227.py:46: FutureWarning:\n",
      "\n",
      "Setting an item of incompatible dtype is deprecated and will raise an error in a future version of pandas. Value '96565.170755' has dtype incompatible with int64, please explicitly cast to a compatible dtype first.\n",
      "\n",
      "[I 2025-04-20 13:33:55,917] Trial 67 finished with value: 0.25524427467436067 and parameters: {'highBars': 12, 'lowBars': 3, 'distance': 21}. Best is trial 64 with value: 0.37372603630077583.\n",
      "/var/folders/4g/c6vylbjj0gl07x_f6l921r980000gn/T/ipykernel_20863/1655679920.py:9: FutureWarning:\n",
      "\n",
      "Series.__getitem__ treating keys as positions is deprecated. In a future version, integer keys will always be treated as labels (consistent with DataFrame behavior). To access a value by position, use `ser.iloc[pos]`\n",
      "\n",
      "/var/folders/4g/c6vylbjj0gl07x_f6l921r980000gn/T/ipykernel_20863/1655679920.py:32: FutureWarning:\n",
      "\n",
      "Series.__getitem__ treating keys as positions is deprecated. In a future version, integer keys will always be treated as labels (consistent with DataFrame behavior). To access a value by position, use `ser.iloc[pos]`\n",
      "\n",
      "/var/folders/4g/c6vylbjj0gl07x_f6l921r980000gn/T/ipykernel_20863/2957562227.py:46: FutureWarning:\n",
      "\n",
      "Setting an item of incompatible dtype is deprecated and will raise an error in a future version of pandas. Value '102068.868875' has dtype incompatible with int64, please explicitly cast to a compatible dtype first.\n",
      "\n",
      "[I 2025-04-20 13:33:57,874] Trial 68 finished with value: 0.3369481874349076 and parameters: {'highBars': 11, 'lowBars': 5, 'distance': 22}. Best is trial 64 with value: 0.37372603630077583.\n",
      "/var/folders/4g/c6vylbjj0gl07x_f6l921r980000gn/T/ipykernel_20863/1655679920.py:9: FutureWarning:\n",
      "\n",
      "Series.__getitem__ treating keys as positions is deprecated. In a future version, integer keys will always be treated as labels (consistent with DataFrame behavior). To access a value by position, use `ser.iloc[pos]`\n",
      "\n",
      "/var/folders/4g/c6vylbjj0gl07x_f6l921r980000gn/T/ipykernel_20863/1655679920.py:32: FutureWarning:\n",
      "\n",
      "Series.__getitem__ treating keys as positions is deprecated. In a future version, integer keys will always be treated as labels (consistent with DataFrame behavior). To access a value by position, use `ser.iloc[pos]`\n",
      "\n",
      "/var/folders/4g/c6vylbjj0gl07x_f6l921r980000gn/T/ipykernel_20863/2957562227.py:46: FutureWarning:\n",
      "\n",
      "Setting an item of incompatible dtype is deprecated and will raise an error in a future version of pandas. Value '99575.58614' has dtype incompatible with int64, please explicitly cast to a compatible dtype first.\n",
      "\n",
      "[I 2025-04-20 13:33:59,953] Trial 69 finished with value: 0.23826168600903785 and parameters: {'highBars': 6, 'lowBars': 7, 'distance': 22}. Best is trial 64 with value: 0.37372603630077583.\n",
      "/var/folders/4g/c6vylbjj0gl07x_f6l921r980000gn/T/ipykernel_20863/1655679920.py:9: FutureWarning:\n",
      "\n",
      "Series.__getitem__ treating keys as positions is deprecated. In a future version, integer keys will always be treated as labels (consistent with DataFrame behavior). To access a value by position, use `ser.iloc[pos]`\n",
      "\n",
      "/var/folders/4g/c6vylbjj0gl07x_f6l921r980000gn/T/ipykernel_20863/1655679920.py:32: FutureWarning:\n",
      "\n",
      "Series.__getitem__ treating keys as positions is deprecated. In a future version, integer keys will always be treated as labels (consistent with DataFrame behavior). To access a value by position, use `ser.iloc[pos]`\n",
      "\n",
      "/var/folders/4g/c6vylbjj0gl07x_f6l921r980000gn/T/ipykernel_20863/2957562227.py:46: FutureWarning:\n",
      "\n",
      "Setting an item of incompatible dtype is deprecated and will raise an error in a future version of pandas. Value '101120.363365' has dtype incompatible with int64, please explicitly cast to a compatible dtype first.\n",
      "\n",
      "[I 2025-04-20 13:34:02,131] Trial 70 finished with value: 0.000133948603439494 and parameters: {'highBars': 8, 'lowBars': 13, 'distance': 23}. Best is trial 64 with value: 0.37372603630077583.\n",
      "/var/folders/4g/c6vylbjj0gl07x_f6l921r980000gn/T/ipykernel_20863/1655679920.py:9: FutureWarning:\n",
      "\n",
      "Series.__getitem__ treating keys as positions is deprecated. In a future version, integer keys will always be treated as labels (consistent with DataFrame behavior). To access a value by position, use `ser.iloc[pos]`\n",
      "\n",
      "/var/folders/4g/c6vylbjj0gl07x_f6l921r980000gn/T/ipykernel_20863/1655679920.py:32: FutureWarning:\n",
      "\n",
      "Series.__getitem__ treating keys as positions is deprecated. In a future version, integer keys will always be treated as labels (consistent with DataFrame behavior). To access a value by position, use `ser.iloc[pos]`\n",
      "\n",
      "/var/folders/4g/c6vylbjj0gl07x_f6l921r980000gn/T/ipykernel_20863/2957562227.py:46: FutureWarning:\n",
      "\n",
      "Setting an item of incompatible dtype is deprecated and will raise an error in a future version of pandas. Value '102068.868875' has dtype incompatible with int64, please explicitly cast to a compatible dtype first.\n",
      "\n",
      "[I 2025-04-20 13:34:04,001] Trial 71 finished with value: 0.36099001565980127 and parameters: {'highBars': 11, 'lowBars': 5, 'distance': 19}. Best is trial 64 with value: 0.37372603630077583.\n",
      "/var/folders/4g/c6vylbjj0gl07x_f6l921r980000gn/T/ipykernel_20863/1655679920.py:9: FutureWarning:\n",
      "\n",
      "Series.__getitem__ treating keys as positions is deprecated. In a future version, integer keys will always be treated as labels (consistent with DataFrame behavior). To access a value by position, use `ser.iloc[pos]`\n",
      "\n",
      "/var/folders/4g/c6vylbjj0gl07x_f6l921r980000gn/T/ipykernel_20863/1655679920.py:32: FutureWarning:\n",
      "\n",
      "Series.__getitem__ treating keys as positions is deprecated. In a future version, integer keys will always be treated as labels (consistent with DataFrame behavior). To access a value by position, use `ser.iloc[pos]`\n",
      "\n",
      "/var/folders/4g/c6vylbjj0gl07x_f6l921r980000gn/T/ipykernel_20863/2957562227.py:46: FutureWarning:\n",
      "\n",
      "Setting an item of incompatible dtype is deprecated and will raise an error in a future version of pandas. Value '102068.868875' has dtype incompatible with int64, please explicitly cast to a compatible dtype first.\n",
      "\n",
      "[I 2025-04-20 13:34:06,042] Trial 72 finished with value: 0.008636447674864517 and parameters: {'highBars': 11, 'lowBars': 4, 'distance': 19}. Best is trial 64 with value: 0.37372603630077583.\n",
      "/var/folders/4g/c6vylbjj0gl07x_f6l921r980000gn/T/ipykernel_20863/1655679920.py:9: FutureWarning:\n",
      "\n",
      "Series.__getitem__ treating keys as positions is deprecated. In a future version, integer keys will always be treated as labels (consistent with DataFrame behavior). To access a value by position, use `ser.iloc[pos]`\n",
      "\n",
      "/var/folders/4g/c6vylbjj0gl07x_f6l921r980000gn/T/ipykernel_20863/1655679920.py:32: FutureWarning:\n",
      "\n",
      "Series.__getitem__ treating keys as positions is deprecated. In a future version, integer keys will always be treated as labels (consistent with DataFrame behavior). To access a value by position, use `ser.iloc[pos]`\n",
      "\n",
      "/var/folders/4g/c6vylbjj0gl07x_f6l921r980000gn/T/ipykernel_20863/2957562227.py:46: FutureWarning:\n",
      "\n",
      "Setting an item of incompatible dtype is deprecated and will raise an error in a future version of pandas. Value '102068.868875' has dtype incompatible with int64, please explicitly cast to a compatible dtype first.\n",
      "\n",
      "[I 2025-04-20 13:34:08,027] Trial 73 finished with value: 0.3176743455176316 and parameters: {'highBars': 11, 'lowBars': 6, 'distance': 21}. Best is trial 64 with value: 0.37372603630077583.\n",
      "/var/folders/4g/c6vylbjj0gl07x_f6l921r980000gn/T/ipykernel_20863/1655679920.py:9: FutureWarning:\n",
      "\n",
      "Series.__getitem__ treating keys as positions is deprecated. In a future version, integer keys will always be treated as labels (consistent with DataFrame behavior). To access a value by position, use `ser.iloc[pos]`\n",
      "\n",
      "/var/folders/4g/c6vylbjj0gl07x_f6l921r980000gn/T/ipykernel_20863/1655679920.py:32: FutureWarning:\n",
      "\n",
      "Series.__getitem__ treating keys as positions is deprecated. In a future version, integer keys will always be treated as labels (consistent with DataFrame behavior). To access a value by position, use `ser.iloc[pos]`\n",
      "\n",
      "/var/folders/4g/c6vylbjj0gl07x_f6l921r980000gn/T/ipykernel_20863/2957562227.py:46: FutureWarning:\n",
      "\n",
      "Setting an item of incompatible dtype is deprecated and will raise an error in a future version of pandas. Value '100581.48294' has dtype incompatible with int64, please explicitly cast to a compatible dtype first.\n",
      "\n",
      "[I 2025-04-20 13:34:09,965] Trial 74 finished with value: 0.2402765384655795 and parameters: {'highBars': 13, 'lowBars': 6, 'distance': 20}. Best is trial 64 with value: 0.37372603630077583.\n",
      "/var/folders/4g/c6vylbjj0gl07x_f6l921r980000gn/T/ipykernel_20863/1655679920.py:9: FutureWarning:\n",
      "\n",
      "Series.__getitem__ treating keys as positions is deprecated. In a future version, integer keys will always be treated as labels (consistent with DataFrame behavior). To access a value by position, use `ser.iloc[pos]`\n",
      "\n",
      "/var/folders/4g/c6vylbjj0gl07x_f6l921r980000gn/T/ipykernel_20863/1655679920.py:32: FutureWarning:\n",
      "\n",
      "Series.__getitem__ treating keys as positions is deprecated. In a future version, integer keys will always be treated as labels (consistent with DataFrame behavior). To access a value by position, use `ser.iloc[pos]`\n",
      "\n",
      "/var/folders/4g/c6vylbjj0gl07x_f6l921r980000gn/T/ipykernel_20863/2957562227.py:46: FutureWarning:\n",
      "\n",
      "Setting an item of incompatible dtype is deprecated and will raise an error in a future version of pandas. Value '102304.96077' has dtype incompatible with int64, please explicitly cast to a compatible dtype first.\n",
      "\n",
      "[I 2025-04-20 13:34:11,893] Trial 75 finished with value: 0.21009767252328948 and parameters: {'highBars': 10, 'lowBars': 5, 'distance': 24}. Best is trial 64 with value: 0.37372603630077583.\n",
      "/var/folders/4g/c6vylbjj0gl07x_f6l921r980000gn/T/ipykernel_20863/1655679920.py:9: FutureWarning:\n",
      "\n",
      "Series.__getitem__ treating keys as positions is deprecated. In a future version, integer keys will always be treated as labels (consistent with DataFrame behavior). To access a value by position, use `ser.iloc[pos]`\n",
      "\n",
      "/var/folders/4g/c6vylbjj0gl07x_f6l921r980000gn/T/ipykernel_20863/1655679920.py:32: FutureWarning:\n",
      "\n",
      "Series.__getitem__ treating keys as positions is deprecated. In a future version, integer keys will always be treated as labels (consistent with DataFrame behavior). To access a value by position, use `ser.iloc[pos]`\n",
      "\n",
      "/var/folders/4g/c6vylbjj0gl07x_f6l921r980000gn/T/ipykernel_20863/2957562227.py:46: FutureWarning:\n",
      "\n",
      "Setting an item of incompatible dtype is deprecated and will raise an error in a future version of pandas. Value '102068.868875' has dtype incompatible with int64, please explicitly cast to a compatible dtype first.\n",
      "\n",
      "[I 2025-04-20 13:34:13,780] Trial 76 finished with value: 0.17024534181152573 and parameters: {'highBars': 11, 'lowBars': 9, 'distance': 22}. Best is trial 64 with value: 0.37372603630077583.\n",
      "/var/folders/4g/c6vylbjj0gl07x_f6l921r980000gn/T/ipykernel_20863/1655679920.py:9: FutureWarning:\n",
      "\n",
      "Series.__getitem__ treating keys as positions is deprecated. In a future version, integer keys will always be treated as labels (consistent with DataFrame behavior). To access a value by position, use `ser.iloc[pos]`\n",
      "\n",
      "/var/folders/4g/c6vylbjj0gl07x_f6l921r980000gn/T/ipykernel_20863/1655679920.py:32: FutureWarning:\n",
      "\n",
      "Series.__getitem__ treating keys as positions is deprecated. In a future version, integer keys will always be treated as labels (consistent with DataFrame behavior). To access a value by position, use `ser.iloc[pos]`\n",
      "\n",
      "/var/folders/4g/c6vylbjj0gl07x_f6l921r980000gn/T/ipykernel_20863/2957562227.py:46: FutureWarning:\n",
      "\n",
      "Setting an item of incompatible dtype is deprecated and will raise an error in a future version of pandas. Value '102304.96077' has dtype incompatible with int64, please explicitly cast to a compatible dtype first.\n",
      "\n",
      "[I 2025-04-20 13:34:15,656] Trial 77 finished with value: 0.12819799571139381 and parameters: {'highBars': 10, 'lowBars': 8, 'distance': 18}. Best is trial 64 with value: 0.37372603630077583.\n",
      "/var/folders/4g/c6vylbjj0gl07x_f6l921r980000gn/T/ipykernel_20863/1655679920.py:9: FutureWarning:\n",
      "\n",
      "Series.__getitem__ treating keys as positions is deprecated. In a future version, integer keys will always be treated as labels (consistent with DataFrame behavior). To access a value by position, use `ser.iloc[pos]`\n",
      "\n",
      "/var/folders/4g/c6vylbjj0gl07x_f6l921r980000gn/T/ipykernel_20863/1655679920.py:32: FutureWarning:\n",
      "\n",
      "Series.__getitem__ treating keys as positions is deprecated. In a future version, integer keys will always be treated as labels (consistent with DataFrame behavior). To access a value by position, use `ser.iloc[pos]`\n",
      "\n",
      "/var/folders/4g/c6vylbjj0gl07x_f6l921r980000gn/T/ipykernel_20863/2957562227.py:46: FutureWarning:\n",
      "\n",
      "Setting an item of incompatible dtype is deprecated and will raise an error in a future version of pandas. Value '96565.170755' has dtype incompatible with int64, please explicitly cast to a compatible dtype first.\n",
      "\n",
      "[I 2025-04-20 13:34:17,533] Trial 78 finished with value: -0.1288067187174696 and parameters: {'highBars': 8, 'lowBars': 3, 'distance': 19}. Best is trial 64 with value: 0.37372603630077583.\n",
      "/var/folders/4g/c6vylbjj0gl07x_f6l921r980000gn/T/ipykernel_20863/1655679920.py:9: FutureWarning:\n",
      "\n",
      "Series.__getitem__ treating keys as positions is deprecated. In a future version, integer keys will always be treated as labels (consistent with DataFrame behavior). To access a value by position, use `ser.iloc[pos]`\n",
      "\n",
      "/var/folders/4g/c6vylbjj0gl07x_f6l921r980000gn/T/ipykernel_20863/1655679920.py:32: FutureWarning:\n",
      "\n",
      "Series.__getitem__ treating keys as positions is deprecated. In a future version, integer keys will always be treated as labels (consistent with DataFrame behavior). To access a value by position, use `ser.iloc[pos]`\n",
      "\n",
      "/var/folders/4g/c6vylbjj0gl07x_f6l921r980000gn/T/ipykernel_20863/2957562227.py:46: FutureWarning:\n",
      "\n",
      "Setting an item of incompatible dtype is deprecated and will raise an error in a future version of pandas. Value '99575.58614' has dtype incompatible with int64, please explicitly cast to a compatible dtype first.\n",
      "\n",
      "[I 2025-04-20 13:34:19,396] Trial 79 finished with value: 0.21289015691271315 and parameters: {'highBars': 6, 'lowBars': 6, 'distance': 21}. Best is trial 64 with value: 0.37372603630077583.\n",
      "/var/folders/4g/c6vylbjj0gl07x_f6l921r980000gn/T/ipykernel_20863/1655679920.py:9: FutureWarning:\n",
      "\n",
      "Series.__getitem__ treating keys as positions is deprecated. In a future version, integer keys will always be treated as labels (consistent with DataFrame behavior). To access a value by position, use `ser.iloc[pos]`\n",
      "\n",
      "/var/folders/4g/c6vylbjj0gl07x_f6l921r980000gn/T/ipykernel_20863/1655679920.py:32: FutureWarning:\n",
      "\n",
      "Series.__getitem__ treating keys as positions is deprecated. In a future version, integer keys will always be treated as labels (consistent with DataFrame behavior). To access a value by position, use `ser.iloc[pos]`\n",
      "\n",
      "/var/folders/4g/c6vylbjj0gl07x_f6l921r980000gn/T/ipykernel_20863/2957562227.py:46: FutureWarning:\n",
      "\n",
      "Setting an item of incompatible dtype is deprecated and will raise an error in a future version of pandas. Value '101155.21593' has dtype incompatible with int64, please explicitly cast to a compatible dtype first.\n",
      "\n",
      "[I 2025-04-20 13:34:21,259] Trial 80 finished with value: 0.10718813335798674 and parameters: {'highBars': 9, 'lowBars': 7, 'distance': 23}. Best is trial 64 with value: 0.37372603630077583.\n",
      "/var/folders/4g/c6vylbjj0gl07x_f6l921r980000gn/T/ipykernel_20863/1655679920.py:9: FutureWarning:\n",
      "\n",
      "Series.__getitem__ treating keys as positions is deprecated. In a future version, integer keys will always be treated as labels (consistent with DataFrame behavior). To access a value by position, use `ser.iloc[pos]`\n",
      "\n",
      "/var/folders/4g/c6vylbjj0gl07x_f6l921r980000gn/T/ipykernel_20863/1655679920.py:32: FutureWarning:\n",
      "\n",
      "Series.__getitem__ treating keys as positions is deprecated. In a future version, integer keys will always be treated as labels (consistent with DataFrame behavior). To access a value by position, use `ser.iloc[pos]`\n",
      "\n",
      "/var/folders/4g/c6vylbjj0gl07x_f6l921r980000gn/T/ipykernel_20863/2957562227.py:46: FutureWarning:\n",
      "\n",
      "Setting an item of incompatible dtype is deprecated and will raise an error in a future version of pandas. Value '100976.12552' has dtype incompatible with int64, please explicitly cast to a compatible dtype first.\n",
      "\n",
      "[I 2025-04-20 13:34:23,136] Trial 81 finished with value: 0.3415549942882415 and parameters: {'highBars': 12, 'lowBars': 5, 'distance': 18}. Best is trial 64 with value: 0.37372603630077583.\n",
      "/var/folders/4g/c6vylbjj0gl07x_f6l921r980000gn/T/ipykernel_20863/1655679920.py:9: FutureWarning:\n",
      "\n",
      "Series.__getitem__ treating keys as positions is deprecated. In a future version, integer keys will always be treated as labels (consistent with DataFrame behavior). To access a value by position, use `ser.iloc[pos]`\n",
      "\n",
      "/var/folders/4g/c6vylbjj0gl07x_f6l921r980000gn/T/ipykernel_20863/1655679920.py:32: FutureWarning:\n",
      "\n",
      "Series.__getitem__ treating keys as positions is deprecated. In a future version, integer keys will always be treated as labels (consistent with DataFrame behavior). To access a value by position, use `ser.iloc[pos]`\n",
      "\n",
      "/var/folders/4g/c6vylbjj0gl07x_f6l921r980000gn/T/ipykernel_20863/2957562227.py:46: FutureWarning:\n",
      "\n",
      "Setting an item of incompatible dtype is deprecated and will raise an error in a future version of pandas. Value '100976.12552' has dtype incompatible with int64, please explicitly cast to a compatible dtype first.\n",
      "\n",
      "[I 2025-04-20 13:34:24,947] Trial 82 finished with value: 0.10797071460630926 and parameters: {'highBars': 12, 'lowBars': 4, 'distance': 18}. Best is trial 64 with value: 0.37372603630077583.\n",
      "/var/folders/4g/c6vylbjj0gl07x_f6l921r980000gn/T/ipykernel_20863/1655679920.py:9: FutureWarning:\n",
      "\n",
      "Series.__getitem__ treating keys as positions is deprecated. In a future version, integer keys will always be treated as labels (consistent with DataFrame behavior). To access a value by position, use `ser.iloc[pos]`\n",
      "\n",
      "/var/folders/4g/c6vylbjj0gl07x_f6l921r980000gn/T/ipykernel_20863/1655679920.py:32: FutureWarning:\n",
      "\n",
      "Series.__getitem__ treating keys as positions is deprecated. In a future version, integer keys will always be treated as labels (consistent with DataFrame behavior). To access a value by position, use `ser.iloc[pos]`\n",
      "\n",
      "/var/folders/4g/c6vylbjj0gl07x_f6l921r980000gn/T/ipykernel_20863/2957562227.py:46: FutureWarning:\n",
      "\n",
      "Setting an item of incompatible dtype is deprecated and will raise an error in a future version of pandas. Value '100581.48294' has dtype incompatible with int64, please explicitly cast to a compatible dtype first.\n",
      "\n",
      "[I 2025-04-20 13:34:26,803] Trial 83 finished with value: 0.2820177945219324 and parameters: {'highBars': 13, 'lowBars': 5, 'distance': 19}. Best is trial 64 with value: 0.37372603630077583.\n",
      "/var/folders/4g/c6vylbjj0gl07x_f6l921r980000gn/T/ipykernel_20863/1655679920.py:9: FutureWarning:\n",
      "\n",
      "Series.__getitem__ treating keys as positions is deprecated. In a future version, integer keys will always be treated as labels (consistent with DataFrame behavior). To access a value by position, use `ser.iloc[pos]`\n",
      "\n",
      "/var/folders/4g/c6vylbjj0gl07x_f6l921r980000gn/T/ipykernel_20863/1655679920.py:32: FutureWarning:\n",
      "\n",
      "Series.__getitem__ treating keys as positions is deprecated. In a future version, integer keys will always be treated as labels (consistent with DataFrame behavior). To access a value by position, use `ser.iloc[pos]`\n",
      "\n",
      "/var/folders/4g/c6vylbjj0gl07x_f6l921r980000gn/T/ipykernel_20863/2957562227.py:46: FutureWarning:\n",
      "\n",
      "Setting an item of incompatible dtype is deprecated and will raise an error in a future version of pandas. Value '102304.96077' has dtype incompatible with int64, please explicitly cast to a compatible dtype first.\n",
      "\n",
      "[I 2025-04-20 13:34:28,615] Trial 84 finished with value: 0.06779512920188477 and parameters: {'highBars': 10, 'lowBars': 4, 'distance': 20}. Best is trial 64 with value: 0.37372603630077583.\n",
      "/var/folders/4g/c6vylbjj0gl07x_f6l921r980000gn/T/ipykernel_20863/1655679920.py:9: FutureWarning:\n",
      "\n",
      "Series.__getitem__ treating keys as positions is deprecated. In a future version, integer keys will always be treated as labels (consistent with DataFrame behavior). To access a value by position, use `ser.iloc[pos]`\n",
      "\n",
      "/var/folders/4g/c6vylbjj0gl07x_f6l921r980000gn/T/ipykernel_20863/1655679920.py:32: FutureWarning:\n",
      "\n",
      "Series.__getitem__ treating keys as positions is deprecated. In a future version, integer keys will always be treated as labels (consistent with DataFrame behavior). To access a value by position, use `ser.iloc[pos]`\n",
      "\n",
      "/var/folders/4g/c6vylbjj0gl07x_f6l921r980000gn/T/ipykernel_20863/2957562227.py:46: FutureWarning:\n",
      "\n",
      "Setting an item of incompatible dtype is deprecated and will raise an error in a future version of pandas. Value '100976.12552' has dtype incompatible with int64, please explicitly cast to a compatible dtype first.\n",
      "\n",
      "[I 2025-04-20 13:34:30,459] Trial 85 finished with value: 0.3015261713527069 and parameters: {'highBars': 12, 'lowBars': 6, 'distance': 20}. Best is trial 64 with value: 0.37372603630077583.\n",
      "/var/folders/4g/c6vylbjj0gl07x_f6l921r980000gn/T/ipykernel_20863/1655679920.py:9: FutureWarning:\n",
      "\n",
      "Series.__getitem__ treating keys as positions is deprecated. In a future version, integer keys will always be treated as labels (consistent with DataFrame behavior). To access a value by position, use `ser.iloc[pos]`\n",
      "\n",
      "/var/folders/4g/c6vylbjj0gl07x_f6l921r980000gn/T/ipykernel_20863/1655679920.py:32: FutureWarning:\n",
      "\n",
      "Series.__getitem__ treating keys as positions is deprecated. In a future version, integer keys will always be treated as labels (consistent with DataFrame behavior). To access a value by position, use `ser.iloc[pos]`\n",
      "\n",
      "/var/folders/4g/c6vylbjj0gl07x_f6l921r980000gn/T/ipykernel_20863/2957562227.py:46: FutureWarning:\n",
      "\n",
      "Setting an item of incompatible dtype is deprecated and will raise an error in a future version of pandas. Value '102068.868875' has dtype incompatible with int64, please explicitly cast to a compatible dtype first.\n",
      "\n",
      "[I 2025-04-20 13:34:32,331] Trial 86 finished with value: 0.36099001565980127 and parameters: {'highBars': 11, 'lowBars': 5, 'distance': 17}. Best is trial 64 with value: 0.37372603630077583.\n",
      "/var/folders/4g/c6vylbjj0gl07x_f6l921r980000gn/T/ipykernel_20863/1655679920.py:9: FutureWarning:\n",
      "\n",
      "Series.__getitem__ treating keys as positions is deprecated. In a future version, integer keys will always be treated as labels (consistent with DataFrame behavior). To access a value by position, use `ser.iloc[pos]`\n",
      "\n",
      "/var/folders/4g/c6vylbjj0gl07x_f6l921r980000gn/T/ipykernel_20863/1655679920.py:32: FutureWarning:\n",
      "\n",
      "Series.__getitem__ treating keys as positions is deprecated. In a future version, integer keys will always be treated as labels (consistent with DataFrame behavior). To access a value by position, use `ser.iloc[pos]`\n",
      "\n",
      "/var/folders/4g/c6vylbjj0gl07x_f6l921r980000gn/T/ipykernel_20863/2957562227.py:46: FutureWarning:\n",
      "\n",
      "Setting an item of incompatible dtype is deprecated and will raise an error in a future version of pandas. Value '101155.21593' has dtype incompatible with int64, please explicitly cast to a compatible dtype first.\n",
      "\n",
      "[I 2025-04-20 13:34:34,176] Trial 87 finished with value: 0.25432060248926674 and parameters: {'highBars': 9, 'lowBars': 6, 'distance': 18}. Best is trial 64 with value: 0.37372603630077583.\n",
      "/var/folders/4g/c6vylbjj0gl07x_f6l921r980000gn/T/ipykernel_20863/1655679920.py:9: FutureWarning:\n",
      "\n",
      "Series.__getitem__ treating keys as positions is deprecated. In a future version, integer keys will always be treated as labels (consistent with DataFrame behavior). To access a value by position, use `ser.iloc[pos]`\n",
      "\n",
      "/var/folders/4g/c6vylbjj0gl07x_f6l921r980000gn/T/ipykernel_20863/1655679920.py:32: FutureWarning:\n",
      "\n",
      "Series.__getitem__ treating keys as positions is deprecated. In a future version, integer keys will always be treated as labels (consistent with DataFrame behavior). To access a value by position, use `ser.iloc[pos]`\n",
      "\n",
      "/var/folders/4g/c6vylbjj0gl07x_f6l921r980000gn/T/ipykernel_20863/2957562227.py:46: FutureWarning:\n",
      "\n",
      "Setting an item of incompatible dtype is deprecated and will raise an error in a future version of pandas. Value '102867.252225' has dtype incompatible with int64, please explicitly cast to a compatible dtype first.\n",
      "\n",
      "[I 2025-04-20 13:34:35,975] Trial 88 finished with value: 0.2873963281080902 and parameters: {'highBars': 15, 'lowBars': 5, 'distance': 16}. Best is trial 64 with value: 0.37372603630077583.\n",
      "/var/folders/4g/c6vylbjj0gl07x_f6l921r980000gn/T/ipykernel_20863/1655679920.py:9: FutureWarning:\n",
      "\n",
      "Series.__getitem__ treating keys as positions is deprecated. In a future version, integer keys will always be treated as labels (consistent with DataFrame behavior). To access a value by position, use `ser.iloc[pos]`\n",
      "\n",
      "/var/folders/4g/c6vylbjj0gl07x_f6l921r980000gn/T/ipykernel_20863/1655679920.py:32: FutureWarning:\n",
      "\n",
      "Series.__getitem__ treating keys as positions is deprecated. In a future version, integer keys will always be treated as labels (consistent with DataFrame behavior). To access a value by position, use `ser.iloc[pos]`\n",
      "\n",
      "/var/folders/4g/c6vylbjj0gl07x_f6l921r980000gn/T/ipykernel_20863/2957562227.py:46: FutureWarning:\n",
      "\n",
      "Setting an item of incompatible dtype is deprecated and will raise an error in a future version of pandas. Value '102068.868875' has dtype incompatible with int64, please explicitly cast to a compatible dtype first.\n",
      "\n",
      "[I 2025-04-20 13:34:37,777] Trial 89 finished with value: -0.033904870566537335 and parameters: {'highBars': 11, 'lowBars': 15, 'distance': 17}. Best is trial 64 with value: 0.37372603630077583.\n",
      "/var/folders/4g/c6vylbjj0gl07x_f6l921r980000gn/T/ipykernel_20863/1655679920.py:9: FutureWarning:\n",
      "\n",
      "Series.__getitem__ treating keys as positions is deprecated. In a future version, integer keys will always be treated as labels (consistent with DataFrame behavior). To access a value by position, use `ser.iloc[pos]`\n",
      "\n",
      "/var/folders/4g/c6vylbjj0gl07x_f6l921r980000gn/T/ipykernel_20863/1655679920.py:32: FutureWarning:\n",
      "\n",
      "Series.__getitem__ treating keys as positions is deprecated. In a future version, integer keys will always be treated as labels (consistent with DataFrame behavior). To access a value by position, use `ser.iloc[pos]`\n",
      "\n",
      "/var/folders/4g/c6vylbjj0gl07x_f6l921r980000gn/T/ipykernel_20863/2957562227.py:46: FutureWarning:\n",
      "\n",
      "Setting an item of incompatible dtype is deprecated and will raise an error in a future version of pandas. Value '100581.48294' has dtype incompatible with int64, please explicitly cast to a compatible dtype first.\n",
      "\n",
      "[I 2025-04-20 13:34:39,618] Trial 90 finished with value: 0.11472970510726739 and parameters: {'highBars': 13, 'lowBars': 7, 'distance': 16}. Best is trial 64 with value: 0.37372603630077583.\n",
      "/var/folders/4g/c6vylbjj0gl07x_f6l921r980000gn/T/ipykernel_20863/1655679920.py:9: FutureWarning:\n",
      "\n",
      "Series.__getitem__ treating keys as positions is deprecated. In a future version, integer keys will always be treated as labels (consistent with DataFrame behavior). To access a value by position, use `ser.iloc[pos]`\n",
      "\n",
      "/var/folders/4g/c6vylbjj0gl07x_f6l921r980000gn/T/ipykernel_20863/1655679920.py:32: FutureWarning:\n",
      "\n",
      "Series.__getitem__ treating keys as positions is deprecated. In a future version, integer keys will always be treated as labels (consistent with DataFrame behavior). To access a value by position, use `ser.iloc[pos]`\n",
      "\n",
      "/var/folders/4g/c6vylbjj0gl07x_f6l921r980000gn/T/ipykernel_20863/2957562227.py:46: FutureWarning:\n",
      "\n",
      "Setting an item of incompatible dtype is deprecated and will raise an error in a future version of pandas. Value '102068.868875' has dtype incompatible with int64, please explicitly cast to a compatible dtype first.\n",
      "\n",
      "[I 2025-04-20 13:34:41,487] Trial 91 finished with value: 0.36099001565980127 and parameters: {'highBars': 11, 'lowBars': 5, 'distance': 19}. Best is trial 64 with value: 0.37372603630077583.\n",
      "/var/folders/4g/c6vylbjj0gl07x_f6l921r980000gn/T/ipykernel_20863/1655679920.py:9: FutureWarning:\n",
      "\n",
      "Series.__getitem__ treating keys as positions is deprecated. In a future version, integer keys will always be treated as labels (consistent with DataFrame behavior). To access a value by position, use `ser.iloc[pos]`\n",
      "\n",
      "/var/folders/4g/c6vylbjj0gl07x_f6l921r980000gn/T/ipykernel_20863/1655679920.py:32: FutureWarning:\n",
      "\n",
      "Series.__getitem__ treating keys as positions is deprecated. In a future version, integer keys will always be treated as labels (consistent with DataFrame behavior). To access a value by position, use `ser.iloc[pos]`\n",
      "\n",
      "/var/folders/4g/c6vylbjj0gl07x_f6l921r980000gn/T/ipykernel_20863/2957562227.py:46: FutureWarning:\n",
      "\n",
      "Setting an item of incompatible dtype is deprecated and will raise an error in a future version of pandas. Value '102304.96077' has dtype incompatible with int64, please explicitly cast to a compatible dtype first.\n",
      "\n",
      "[I 2025-04-20 13:34:43,361] Trial 92 finished with value: 0.06779512920188477 and parameters: {'highBars': 10, 'lowBars': 4, 'distance': 19}. Best is trial 64 with value: 0.37372603630077583.\n",
      "/var/folders/4g/c6vylbjj0gl07x_f6l921r980000gn/T/ipykernel_20863/1655679920.py:9: FutureWarning:\n",
      "\n",
      "Series.__getitem__ treating keys as positions is deprecated. In a future version, integer keys will always be treated as labels (consistent with DataFrame behavior). To access a value by position, use `ser.iloc[pos]`\n",
      "\n",
      "/var/folders/4g/c6vylbjj0gl07x_f6l921r980000gn/T/ipykernel_20863/1655679920.py:32: FutureWarning:\n",
      "\n",
      "Series.__getitem__ treating keys as positions is deprecated. In a future version, integer keys will always be treated as labels (consistent with DataFrame behavior). To access a value by position, use `ser.iloc[pos]`\n",
      "\n",
      "/var/folders/4g/c6vylbjj0gl07x_f6l921r980000gn/T/ipykernel_20863/2957562227.py:46: FutureWarning:\n",
      "\n",
      "Setting an item of incompatible dtype is deprecated and will raise an error in a future version of pandas. Value '100976.12552' has dtype incompatible with int64, please explicitly cast to a compatible dtype first.\n",
      "\n",
      "[I 2025-04-20 13:34:45,212] Trial 93 finished with value: 0.3415549942882415 and parameters: {'highBars': 12, 'lowBars': 5, 'distance': 17}. Best is trial 64 with value: 0.37372603630077583.\n",
      "/var/folders/4g/c6vylbjj0gl07x_f6l921r980000gn/T/ipykernel_20863/1655679920.py:9: FutureWarning:\n",
      "\n",
      "Series.__getitem__ treating keys as positions is deprecated. In a future version, integer keys will always be treated as labels (consistent with DataFrame behavior). To access a value by position, use `ser.iloc[pos]`\n",
      "\n",
      "/var/folders/4g/c6vylbjj0gl07x_f6l921r980000gn/T/ipykernel_20863/1655679920.py:32: FutureWarning:\n",
      "\n",
      "Series.__getitem__ treating keys as positions is deprecated. In a future version, integer keys will always be treated as labels (consistent with DataFrame behavior). To access a value by position, use `ser.iloc[pos]`\n",
      "\n",
      "/var/folders/4g/c6vylbjj0gl07x_f6l921r980000gn/T/ipykernel_20863/2957562227.py:46: FutureWarning:\n",
      "\n",
      "Setting an item of incompatible dtype is deprecated and will raise an error in a future version of pandas. Value '96565.170755' has dtype incompatible with int64, please explicitly cast to a compatible dtype first.\n",
      "\n",
      "[I 2025-04-20 13:34:47,173] Trial 94 finished with value: -0.1288067187174696 and parameters: {'highBars': 8, 'lowBars': 3, 'distance': 18}. Best is trial 64 with value: 0.37372603630077583.\n",
      "/var/folders/4g/c6vylbjj0gl07x_f6l921r980000gn/T/ipykernel_20863/1655679920.py:9: FutureWarning:\n",
      "\n",
      "Series.__getitem__ treating keys as positions is deprecated. In a future version, integer keys will always be treated as labels (consistent with DataFrame behavior). To access a value by position, use `ser.iloc[pos]`\n",
      "\n",
      "/var/folders/4g/c6vylbjj0gl07x_f6l921r980000gn/T/ipykernel_20863/1655679920.py:32: FutureWarning:\n",
      "\n",
      "Series.__getitem__ treating keys as positions is deprecated. In a future version, integer keys will always be treated as labels (consistent with DataFrame behavior). To access a value by position, use `ser.iloc[pos]`\n",
      "\n",
      "/var/folders/4g/c6vylbjj0gl07x_f6l921r980000gn/T/ipykernel_20863/2957562227.py:46: FutureWarning:\n",
      "\n",
      "Setting an item of incompatible dtype is deprecated and will raise an error in a future version of pandas. Value '102068.868875' has dtype incompatible with int64, please explicitly cast to a compatible dtype first.\n",
      "\n",
      "[I 2025-04-20 13:34:49,157] Trial 95 finished with value: 0.3176743455176316 and parameters: {'highBars': 11, 'lowBars': 6, 'distance': 20}. Best is trial 64 with value: 0.37372603630077583.\n",
      "/var/folders/4g/c6vylbjj0gl07x_f6l921r980000gn/T/ipykernel_20863/1655679920.py:9: FutureWarning:\n",
      "\n",
      "Series.__getitem__ treating keys as positions is deprecated. In a future version, integer keys will always be treated as labels (consistent with DataFrame behavior). To access a value by position, use `ser.iloc[pos]`\n",
      "\n",
      "/var/folders/4g/c6vylbjj0gl07x_f6l921r980000gn/T/ipykernel_20863/1655679920.py:32: FutureWarning:\n",
      "\n",
      "Series.__getitem__ treating keys as positions is deprecated. In a future version, integer keys will always be treated as labels (consistent with DataFrame behavior). To access a value by position, use `ser.iloc[pos]`\n",
      "\n",
      "/var/folders/4g/c6vylbjj0gl07x_f6l921r980000gn/T/ipykernel_20863/2957562227.py:46: FutureWarning:\n",
      "\n",
      "Setting an item of incompatible dtype is deprecated and will raise an error in a future version of pandas. Value '98984.66175' has dtype incompatible with int64, please explicitly cast to a compatible dtype first.\n",
      "\n",
      "[I 2025-04-20 13:34:51,046] Trial 96 finished with value: -0.22417653938157608 and parameters: {'highBars': 7, 'lowBars': 4, 'distance': 19}. Best is trial 64 with value: 0.37372603630077583.\n",
      "/var/folders/4g/c6vylbjj0gl07x_f6l921r980000gn/T/ipykernel_20863/1655679920.py:9: FutureWarning:\n",
      "\n",
      "Series.__getitem__ treating keys as positions is deprecated. In a future version, integer keys will always be treated as labels (consistent with DataFrame behavior). To access a value by position, use `ser.iloc[pos]`\n",
      "\n",
      "/var/folders/4g/c6vylbjj0gl07x_f6l921r980000gn/T/ipykernel_20863/1655679920.py:32: FutureWarning:\n",
      "\n",
      "Series.__getitem__ treating keys as positions is deprecated. In a future version, integer keys will always be treated as labels (consistent with DataFrame behavior). To access a value by position, use `ser.iloc[pos]`\n",
      "\n",
      "/var/folders/4g/c6vylbjj0gl07x_f6l921r980000gn/T/ipykernel_20863/2957562227.py:46: FutureWarning:\n",
      "\n",
      "Setting an item of incompatible dtype is deprecated and will raise an error in a future version of pandas. Value '100976.12552' has dtype incompatible with int64, please explicitly cast to a compatible dtype first.\n",
      "\n",
      "[I 2025-04-20 13:34:52,931] Trial 97 finished with value: 0.10929321273289568 and parameters: {'highBars': 12, 'lowBars': 10, 'distance': 18}. Best is trial 64 with value: 0.37372603630077583.\n",
      "/var/folders/4g/c6vylbjj0gl07x_f6l921r980000gn/T/ipykernel_20863/1655679920.py:9: FutureWarning:\n",
      "\n",
      "Series.__getitem__ treating keys as positions is deprecated. In a future version, integer keys will always be treated as labels (consistent with DataFrame behavior). To access a value by position, use `ser.iloc[pos]`\n",
      "\n",
      "/var/folders/4g/c6vylbjj0gl07x_f6l921r980000gn/T/ipykernel_20863/1655679920.py:32: FutureWarning:\n",
      "\n",
      "Series.__getitem__ treating keys as positions is deprecated. In a future version, integer keys will always be treated as labels (consistent with DataFrame behavior). To access a value by position, use `ser.iloc[pos]`\n",
      "\n",
      "/var/folders/4g/c6vylbjj0gl07x_f6l921r980000gn/T/ipykernel_20863/2957562227.py:46: FutureWarning:\n",
      "\n",
      "Setting an item of incompatible dtype is deprecated and will raise an error in a future version of pandas. Value '101155.21593' has dtype incompatible with int64, please explicitly cast to a compatible dtype first.\n",
      "\n",
      "[I 2025-04-20 13:34:54,744] Trial 98 finished with value: 0.3239411442354434 and parameters: {'highBars': 9, 'lowBars': 5, 'distance': 19}. Best is trial 64 with value: 0.37372603630077583.\n",
      "/var/folders/4g/c6vylbjj0gl07x_f6l921r980000gn/T/ipykernel_20863/1655679920.py:9: FutureWarning:\n",
      "\n",
      "Series.__getitem__ treating keys as positions is deprecated. In a future version, integer keys will always be treated as labels (consistent with DataFrame behavior). To access a value by position, use `ser.iloc[pos]`\n",
      "\n",
      "/var/folders/4g/c6vylbjj0gl07x_f6l921r980000gn/T/ipykernel_20863/1655679920.py:32: FutureWarning:\n",
      "\n",
      "Series.__getitem__ treating keys as positions is deprecated. In a future version, integer keys will always be treated as labels (consistent with DataFrame behavior). To access a value by position, use `ser.iloc[pos]`\n",
      "\n",
      "/var/folders/4g/c6vylbjj0gl07x_f6l921r980000gn/T/ipykernel_20863/2957562227.py:46: FutureWarning:\n",
      "\n",
      "Setting an item of incompatible dtype is deprecated and will raise an error in a future version of pandas. Value '98664.031665' has dtype incompatible with int64, please explicitly cast to a compatible dtype first.\n",
      "\n",
      "[I 2025-04-20 13:34:56,573] Trial 99 finished with value: 0.2658968641115284 and parameters: {'highBars': 14, 'lowBars': 8, 'distance': 21}. Best is trial 64 with value: 0.37372603630077583.\n"
     ]
    }
   ],
   "source": [
    "study = optuna.create_study(direction=\"maximize\")\n",
    "study.optimize(objective, n_trials=100)"
   ]
  },
  {
   "cell_type": "code",
   "execution_count": 18,
   "metadata": {},
   "outputs": [
    {
     "data": {
      "application/vnd.plotly.v1+json": {
       "config": {
        "plotlyServerURL": "https://plot.ly"
       },
       "data": [
        {
         "mode": "markers",
         "name": "Objective Value",
         "type": "scatter",
         "x": [
          0,
          1,
          2,
          3,
          4,
          5,
          6,
          7,
          8,
          9,
          10,
          11,
          12,
          13,
          14,
          15,
          16,
          17,
          18,
          19,
          20,
          21,
          22,
          23,
          24,
          25,
          26,
          27,
          28,
          29,
          30,
          31,
          32,
          33,
          34,
          35,
          36,
          37,
          38,
          39,
          40,
          41,
          42,
          43,
          44,
          45,
          46,
          47,
          48,
          49,
          50,
          51,
          52,
          53,
          54,
          55,
          56,
          57,
          58,
          59,
          60,
          61,
          62,
          63,
          64,
          65,
          66,
          67,
          68,
          69,
          70,
          71,
          72,
          73,
          74,
          75,
          76,
          77,
          78,
          79,
          80,
          81,
          82,
          83,
          84,
          85,
          86,
          87,
          88,
          89,
          90,
          91,
          92,
          93,
          94,
          95,
          96,
          97,
          98,
          99
         ],
         "y": [
          0.0525046909300311,
          -0.07036559723985605,
          0.07813011024019278,
          0.2680965692004116,
          0.15034482263269533,
          0.0819465458458038,
          0.004535159522355821,
          -0.07241763999790093,
          0.01254155907171536,
          0.07345664241861435,
          0.07308609881744332,
          0.021455198842295867,
          0.27523752758395137,
          0.06014153893059042,
          0.27523752758395137,
          0.29801121834347793,
          0.28561673373184654,
          -0.19791758970880619,
          0.0912612443965634,
          0.3176743455176316,
          0.08728461542495117,
          0.2286672306736915,
          0.20740940741925484,
          0.0544898759929037,
          0.2573605370667914,
          0.08467941471005298,
          0.23882812954971175,
          0.09490466082794627,
          0.15214662242051766,
          0.06274771520518553,
          0.17432775419084245,
          0.27523752758395137,
          0.16173861855066063,
          0.09988642957454599,
          0.010741705581762384,
          0.3489165088327174,
          0.24378271071315014,
          0.24606162267908746,
          0.07917149488497534,
          -0.023345843009398518,
          -0.1234790301444134,
          0.13200290476044502,
          0.3173521679012302,
          0.14667310368638628,
          0.15157358672872168,
          0.2305783798580687,
          0.1538221721664341,
          0.27655797092262735,
          0.2422413429184538,
          -0.00996537508028946,
          0.18388786560608328,
          0.25283353115967,
          0.32398974270673003,
          0.14667310368638628,
          0.3489165088327174,
          0.24378271071315014,
          0.3015261713527069,
          0.35897889862088744,
          -0.11789299195977168,
          0.3239411442354434,
          0.03426094257543029,
          0.36099001565980127,
          0.37289037225220906,
          0.2952604619451282,
          0.37372603630077583,
          0.06779512920188477,
          0.1006151963869946,
          0.25524427467436067,
          0.3369481874349076,
          0.23826168600903785,
          0.000133948603439494,
          0.36099001565980127,
          0.008636447674864517,
          0.3176743455176316,
          0.2402765384655795,
          0.21009767252328948,
          0.17024534181152573,
          0.12819799571139381,
          -0.1288067187174696,
          0.21289015691271315,
          0.10718813335798674,
          0.3415549942882415,
          0.10797071460630926,
          0.2820177945219324,
          0.06779512920188477,
          0.3015261713527069,
          0.36099001565980127,
          0.25432060248926674,
          0.2873963281080902,
          -0.033904870566537335,
          0.11472970510726739,
          0.36099001565980127,
          0.06779512920188477,
          0.3415549942882415,
          -0.1288067187174696,
          0.3176743455176316,
          -0.22417653938157608,
          0.10929321273289568,
          0.3239411442354434,
          0.2658968641115284
         ]
        },
        {
         "mode": "lines",
         "name": "Best Value",
         "type": "scatter",
         "x": [
          0,
          1,
          2,
          3,
          4,
          5,
          6,
          7,
          8,
          9,
          10,
          11,
          12,
          13,
          14,
          15,
          16,
          17,
          18,
          19,
          20,
          21,
          22,
          23,
          24,
          25,
          26,
          27,
          28,
          29,
          30,
          31,
          32,
          33,
          34,
          35,
          36,
          37,
          38,
          39,
          40,
          41,
          42,
          43,
          44,
          45,
          46,
          47,
          48,
          49,
          50,
          51,
          52,
          53,
          54,
          55,
          56,
          57,
          58,
          59,
          60,
          61,
          62,
          63,
          64,
          65,
          66,
          67,
          68,
          69,
          70,
          71,
          72,
          73,
          74,
          75,
          76,
          77,
          78,
          79,
          80,
          81,
          82,
          83,
          84,
          85,
          86,
          87,
          88,
          89,
          90,
          91,
          92,
          93,
          94,
          95,
          96,
          97,
          98,
          99
         ],
         "y": [
          0.0525046909300311,
          0.0525046909300311,
          0.07813011024019278,
          0.2680965692004116,
          0.2680965692004116,
          0.2680965692004116,
          0.2680965692004116,
          0.2680965692004116,
          0.2680965692004116,
          0.2680965692004116,
          0.2680965692004116,
          0.2680965692004116,
          0.27523752758395137,
          0.27523752758395137,
          0.27523752758395137,
          0.29801121834347793,
          0.29801121834347793,
          0.29801121834347793,
          0.29801121834347793,
          0.3176743455176316,
          0.3176743455176316,
          0.3176743455176316,
          0.3176743455176316,
          0.3176743455176316,
          0.3176743455176316,
          0.3176743455176316,
          0.3176743455176316,
          0.3176743455176316,
          0.3176743455176316,
          0.3176743455176316,
          0.3176743455176316,
          0.3176743455176316,
          0.3176743455176316,
          0.3176743455176316,
          0.3176743455176316,
          0.3489165088327174,
          0.3489165088327174,
          0.3489165088327174,
          0.3489165088327174,
          0.3489165088327174,
          0.3489165088327174,
          0.3489165088327174,
          0.3489165088327174,
          0.3489165088327174,
          0.3489165088327174,
          0.3489165088327174,
          0.3489165088327174,
          0.3489165088327174,
          0.3489165088327174,
          0.3489165088327174,
          0.3489165088327174,
          0.3489165088327174,
          0.3489165088327174,
          0.3489165088327174,
          0.3489165088327174,
          0.3489165088327174,
          0.3489165088327174,
          0.35897889862088744,
          0.35897889862088744,
          0.35897889862088744,
          0.35897889862088744,
          0.36099001565980127,
          0.37289037225220906,
          0.37289037225220906,
          0.37372603630077583,
          0.37372603630077583,
          0.37372603630077583,
          0.37372603630077583,
          0.37372603630077583,
          0.37372603630077583,
          0.37372603630077583,
          0.37372603630077583,
          0.37372603630077583,
          0.37372603630077583,
          0.37372603630077583,
          0.37372603630077583,
          0.37372603630077583,
          0.37372603630077583,
          0.37372603630077583,
          0.37372603630077583,
          0.37372603630077583,
          0.37372603630077583,
          0.37372603630077583,
          0.37372603630077583,
          0.37372603630077583,
          0.37372603630077583,
          0.37372603630077583,
          0.37372603630077583,
          0.37372603630077583,
          0.37372603630077583,
          0.37372603630077583,
          0.37372603630077583,
          0.37372603630077583,
          0.37372603630077583,
          0.37372603630077583,
          0.37372603630077583,
          0.37372603630077583,
          0.37372603630077583,
          0.37372603630077583,
          0.37372603630077583
         ]
        },
        {
         "marker": {
          "color": "#cccccc"
         },
         "mode": "markers",
         "name": "Infeasible Trial",
         "showlegend": false,
         "type": "scatter",
         "x": [],
         "y": []
        }
       ],
       "layout": {
        "template": {
         "data": {
          "bar": [
           {
            "error_x": {
             "color": "#2a3f5f"
            },
            "error_y": {
             "color": "#2a3f5f"
            },
            "marker": {
             "line": {
              "color": "#E5ECF6",
              "width": 0.5
             },
             "pattern": {
              "fillmode": "overlay",
              "size": 10,
              "solidity": 0.2
             }
            },
            "type": "bar"
           }
          ],
          "barpolar": [
           {
            "marker": {
             "line": {
              "color": "#E5ECF6",
              "width": 0.5
             },
             "pattern": {
              "fillmode": "overlay",
              "size": 10,
              "solidity": 0.2
             }
            },
            "type": "barpolar"
           }
          ],
          "carpet": [
           {
            "aaxis": {
             "endlinecolor": "#2a3f5f",
             "gridcolor": "white",
             "linecolor": "white",
             "minorgridcolor": "white",
             "startlinecolor": "#2a3f5f"
            },
            "baxis": {
             "endlinecolor": "#2a3f5f",
             "gridcolor": "white",
             "linecolor": "white",
             "minorgridcolor": "white",
             "startlinecolor": "#2a3f5f"
            },
            "type": "carpet"
           }
          ],
          "choropleth": [
           {
            "colorbar": {
             "outlinewidth": 0,
             "ticks": ""
            },
            "type": "choropleth"
           }
          ],
          "contour": [
           {
            "colorbar": {
             "outlinewidth": 0,
             "ticks": ""
            },
            "colorscale": [
             [
              0,
              "#0d0887"
             ],
             [
              0.1111111111111111,
              "#46039f"
             ],
             [
              0.2222222222222222,
              "#7201a8"
             ],
             [
              0.3333333333333333,
              "#9c179e"
             ],
             [
              0.4444444444444444,
              "#bd3786"
             ],
             [
              0.5555555555555556,
              "#d8576b"
             ],
             [
              0.6666666666666666,
              "#ed7953"
             ],
             [
              0.7777777777777778,
              "#fb9f3a"
             ],
             [
              0.8888888888888888,
              "#fdca26"
             ],
             [
              1,
              "#f0f921"
             ]
            ],
            "type": "contour"
           }
          ],
          "contourcarpet": [
           {
            "colorbar": {
             "outlinewidth": 0,
             "ticks": ""
            },
            "type": "contourcarpet"
           }
          ],
          "heatmap": [
           {
            "colorbar": {
             "outlinewidth": 0,
             "ticks": ""
            },
            "colorscale": [
             [
              0,
              "#0d0887"
             ],
             [
              0.1111111111111111,
              "#46039f"
             ],
             [
              0.2222222222222222,
              "#7201a8"
             ],
             [
              0.3333333333333333,
              "#9c179e"
             ],
             [
              0.4444444444444444,
              "#bd3786"
             ],
             [
              0.5555555555555556,
              "#d8576b"
             ],
             [
              0.6666666666666666,
              "#ed7953"
             ],
             [
              0.7777777777777778,
              "#fb9f3a"
             ],
             [
              0.8888888888888888,
              "#fdca26"
             ],
             [
              1,
              "#f0f921"
             ]
            ],
            "type": "heatmap"
           }
          ],
          "histogram": [
           {
            "marker": {
             "pattern": {
              "fillmode": "overlay",
              "size": 10,
              "solidity": 0.2
             }
            },
            "type": "histogram"
           }
          ],
          "histogram2d": [
           {
            "colorbar": {
             "outlinewidth": 0,
             "ticks": ""
            },
            "colorscale": [
             [
              0,
              "#0d0887"
             ],
             [
              0.1111111111111111,
              "#46039f"
             ],
             [
              0.2222222222222222,
              "#7201a8"
             ],
             [
              0.3333333333333333,
              "#9c179e"
             ],
             [
              0.4444444444444444,
              "#bd3786"
             ],
             [
              0.5555555555555556,
              "#d8576b"
             ],
             [
              0.6666666666666666,
              "#ed7953"
             ],
             [
              0.7777777777777778,
              "#fb9f3a"
             ],
             [
              0.8888888888888888,
              "#fdca26"
             ],
             [
              1,
              "#f0f921"
             ]
            ],
            "type": "histogram2d"
           }
          ],
          "histogram2dcontour": [
           {
            "colorbar": {
             "outlinewidth": 0,
             "ticks": ""
            },
            "colorscale": [
             [
              0,
              "#0d0887"
             ],
             [
              0.1111111111111111,
              "#46039f"
             ],
             [
              0.2222222222222222,
              "#7201a8"
             ],
             [
              0.3333333333333333,
              "#9c179e"
             ],
             [
              0.4444444444444444,
              "#bd3786"
             ],
             [
              0.5555555555555556,
              "#d8576b"
             ],
             [
              0.6666666666666666,
              "#ed7953"
             ],
             [
              0.7777777777777778,
              "#fb9f3a"
             ],
             [
              0.8888888888888888,
              "#fdca26"
             ],
             [
              1,
              "#f0f921"
             ]
            ],
            "type": "histogram2dcontour"
           }
          ],
          "mesh3d": [
           {
            "colorbar": {
             "outlinewidth": 0,
             "ticks": ""
            },
            "type": "mesh3d"
           }
          ],
          "parcoords": [
           {
            "line": {
             "colorbar": {
              "outlinewidth": 0,
              "ticks": ""
             }
            },
            "type": "parcoords"
           }
          ],
          "pie": [
           {
            "automargin": true,
            "type": "pie"
           }
          ],
          "scatter": [
           {
            "fillpattern": {
             "fillmode": "overlay",
             "size": 10,
             "solidity": 0.2
            },
            "type": "scatter"
           }
          ],
          "scatter3d": [
           {
            "line": {
             "colorbar": {
              "outlinewidth": 0,
              "ticks": ""
             }
            },
            "marker": {
             "colorbar": {
              "outlinewidth": 0,
              "ticks": ""
             }
            },
            "type": "scatter3d"
           }
          ],
          "scattercarpet": [
           {
            "marker": {
             "colorbar": {
              "outlinewidth": 0,
              "ticks": ""
             }
            },
            "type": "scattercarpet"
           }
          ],
          "scattergeo": [
           {
            "marker": {
             "colorbar": {
              "outlinewidth": 0,
              "ticks": ""
             }
            },
            "type": "scattergeo"
           }
          ],
          "scattergl": [
           {
            "marker": {
             "colorbar": {
              "outlinewidth": 0,
              "ticks": ""
             }
            },
            "type": "scattergl"
           }
          ],
          "scattermap": [
           {
            "marker": {
             "colorbar": {
              "outlinewidth": 0,
              "ticks": ""
             }
            },
            "type": "scattermap"
           }
          ],
          "scattermapbox": [
           {
            "marker": {
             "colorbar": {
              "outlinewidth": 0,
              "ticks": ""
             }
            },
            "type": "scattermapbox"
           }
          ],
          "scatterpolar": [
           {
            "marker": {
             "colorbar": {
              "outlinewidth": 0,
              "ticks": ""
             }
            },
            "type": "scatterpolar"
           }
          ],
          "scatterpolargl": [
           {
            "marker": {
             "colorbar": {
              "outlinewidth": 0,
              "ticks": ""
             }
            },
            "type": "scatterpolargl"
           }
          ],
          "scatterternary": [
           {
            "marker": {
             "colorbar": {
              "outlinewidth": 0,
              "ticks": ""
             }
            },
            "type": "scatterternary"
           }
          ],
          "surface": [
           {
            "colorbar": {
             "outlinewidth": 0,
             "ticks": ""
            },
            "colorscale": [
             [
              0,
              "#0d0887"
             ],
             [
              0.1111111111111111,
              "#46039f"
             ],
             [
              0.2222222222222222,
              "#7201a8"
             ],
             [
              0.3333333333333333,
              "#9c179e"
             ],
             [
              0.4444444444444444,
              "#bd3786"
             ],
             [
              0.5555555555555556,
              "#d8576b"
             ],
             [
              0.6666666666666666,
              "#ed7953"
             ],
             [
              0.7777777777777778,
              "#fb9f3a"
             ],
             [
              0.8888888888888888,
              "#fdca26"
             ],
             [
              1,
              "#f0f921"
             ]
            ],
            "type": "surface"
           }
          ],
          "table": [
           {
            "cells": {
             "fill": {
              "color": "#EBF0F8"
             },
             "line": {
              "color": "white"
             }
            },
            "header": {
             "fill": {
              "color": "#C8D4E3"
             },
             "line": {
              "color": "white"
             }
            },
            "type": "table"
           }
          ]
         },
         "layout": {
          "annotationdefaults": {
           "arrowcolor": "#2a3f5f",
           "arrowhead": 0,
           "arrowwidth": 1
          },
          "autotypenumbers": "strict",
          "coloraxis": {
           "colorbar": {
            "outlinewidth": 0,
            "ticks": ""
           }
          },
          "colorscale": {
           "diverging": [
            [
             0,
             "#8e0152"
            ],
            [
             0.1,
             "#c51b7d"
            ],
            [
             0.2,
             "#de77ae"
            ],
            [
             0.3,
             "#f1b6da"
            ],
            [
             0.4,
             "#fde0ef"
            ],
            [
             0.5,
             "#f7f7f7"
            ],
            [
             0.6,
             "#e6f5d0"
            ],
            [
             0.7,
             "#b8e186"
            ],
            [
             0.8,
             "#7fbc41"
            ],
            [
             0.9,
             "#4d9221"
            ],
            [
             1,
             "#276419"
            ]
           ],
           "sequential": [
            [
             0,
             "#0d0887"
            ],
            [
             0.1111111111111111,
             "#46039f"
            ],
            [
             0.2222222222222222,
             "#7201a8"
            ],
            [
             0.3333333333333333,
             "#9c179e"
            ],
            [
             0.4444444444444444,
             "#bd3786"
            ],
            [
             0.5555555555555556,
             "#d8576b"
            ],
            [
             0.6666666666666666,
             "#ed7953"
            ],
            [
             0.7777777777777778,
             "#fb9f3a"
            ],
            [
             0.8888888888888888,
             "#fdca26"
            ],
            [
             1,
             "#f0f921"
            ]
           ],
           "sequentialminus": [
            [
             0,
             "#0d0887"
            ],
            [
             0.1111111111111111,
             "#46039f"
            ],
            [
             0.2222222222222222,
             "#7201a8"
            ],
            [
             0.3333333333333333,
             "#9c179e"
            ],
            [
             0.4444444444444444,
             "#bd3786"
            ],
            [
             0.5555555555555556,
             "#d8576b"
            ],
            [
             0.6666666666666666,
             "#ed7953"
            ],
            [
             0.7777777777777778,
             "#fb9f3a"
            ],
            [
             0.8888888888888888,
             "#fdca26"
            ],
            [
             1,
             "#f0f921"
            ]
           ]
          },
          "colorway": [
           "#636efa",
           "#EF553B",
           "#00cc96",
           "#ab63fa",
           "#FFA15A",
           "#19d3f3",
           "#FF6692",
           "#B6E880",
           "#FF97FF",
           "#FECB52"
          ],
          "font": {
           "color": "#2a3f5f"
          },
          "geo": {
           "bgcolor": "white",
           "lakecolor": "white",
           "landcolor": "#E5ECF6",
           "showlakes": true,
           "showland": true,
           "subunitcolor": "white"
          },
          "hoverlabel": {
           "align": "left"
          },
          "hovermode": "closest",
          "mapbox": {
           "style": "light"
          },
          "paper_bgcolor": "white",
          "plot_bgcolor": "#E5ECF6",
          "polar": {
           "angularaxis": {
            "gridcolor": "white",
            "linecolor": "white",
            "ticks": ""
           },
           "bgcolor": "#E5ECF6",
           "radialaxis": {
            "gridcolor": "white",
            "linecolor": "white",
            "ticks": ""
           }
          },
          "scene": {
           "xaxis": {
            "backgroundcolor": "#E5ECF6",
            "gridcolor": "white",
            "gridwidth": 2,
            "linecolor": "white",
            "showbackground": true,
            "ticks": "",
            "zerolinecolor": "white"
           },
           "yaxis": {
            "backgroundcolor": "#E5ECF6",
            "gridcolor": "white",
            "gridwidth": 2,
            "linecolor": "white",
            "showbackground": true,
            "ticks": "",
            "zerolinecolor": "white"
           },
           "zaxis": {
            "backgroundcolor": "#E5ECF6",
            "gridcolor": "white",
            "gridwidth": 2,
            "linecolor": "white",
            "showbackground": true,
            "ticks": "",
            "zerolinecolor": "white"
           }
          },
          "shapedefaults": {
           "line": {
            "color": "#2a3f5f"
           }
          },
          "ternary": {
           "aaxis": {
            "gridcolor": "white",
            "linecolor": "white",
            "ticks": ""
           },
           "baxis": {
            "gridcolor": "white",
            "linecolor": "white",
            "ticks": ""
           },
           "bgcolor": "#E5ECF6",
           "caxis": {
            "gridcolor": "white",
            "linecolor": "white",
            "ticks": ""
           }
          },
          "title": {
           "x": 0.05
          },
          "xaxis": {
           "automargin": true,
           "gridcolor": "white",
           "linecolor": "white",
           "ticks": "",
           "title": {
            "standoff": 15
           },
           "zerolinecolor": "white",
           "zerolinewidth": 2
          },
          "yaxis": {
           "automargin": true,
           "gridcolor": "white",
           "linecolor": "white",
           "ticks": "",
           "title": {
            "standoff": 15
           },
           "zerolinecolor": "white",
           "zerolinewidth": 2
          }
         }
        },
        "title": {
         "text": "Optimization History Plot"
        },
        "xaxis": {
         "title": {
          "text": "Trial"
         }
        },
        "yaxis": {
         "title": {
          "text": "Objective Value"
         }
        }
       }
      }
     },
     "metadata": {},
     "output_type": "display_data"
    },
    {
     "data": {
      "application/vnd.plotly.v1+json": {
       "config": {
        "plotlyServerURL": "https://plot.ly"
       },
       "data": [
        {
         "cliponaxis": false,
         "hovertemplate": [
          "highBars (IntDistribution): 0.1466613490575902<extra></extra>",
          "distance (IntDistribution): 0.22891282225497617<extra></extra>",
          "lowBars (IntDistribution): 0.6244258286874337<extra></extra>"
         ],
         "name": "Objective Value",
         "orientation": "h",
         "text": [
          "0.15",
          "0.23",
          "0.62"
         ],
         "textposition": "outside",
         "type": "bar",
         "x": [
          0.1466613490575902,
          0.22891282225497617,
          0.6244258286874337
         ],
         "y": [
          "highBars",
          "distance",
          "lowBars"
         ]
        }
       ],
       "layout": {
        "template": {
         "data": {
          "bar": [
           {
            "error_x": {
             "color": "#2a3f5f"
            },
            "error_y": {
             "color": "#2a3f5f"
            },
            "marker": {
             "line": {
              "color": "#E5ECF6",
              "width": 0.5
             },
             "pattern": {
              "fillmode": "overlay",
              "size": 10,
              "solidity": 0.2
             }
            },
            "type": "bar"
           }
          ],
          "barpolar": [
           {
            "marker": {
             "line": {
              "color": "#E5ECF6",
              "width": 0.5
             },
             "pattern": {
              "fillmode": "overlay",
              "size": 10,
              "solidity": 0.2
             }
            },
            "type": "barpolar"
           }
          ],
          "carpet": [
           {
            "aaxis": {
             "endlinecolor": "#2a3f5f",
             "gridcolor": "white",
             "linecolor": "white",
             "minorgridcolor": "white",
             "startlinecolor": "#2a3f5f"
            },
            "baxis": {
             "endlinecolor": "#2a3f5f",
             "gridcolor": "white",
             "linecolor": "white",
             "minorgridcolor": "white",
             "startlinecolor": "#2a3f5f"
            },
            "type": "carpet"
           }
          ],
          "choropleth": [
           {
            "colorbar": {
             "outlinewidth": 0,
             "ticks": ""
            },
            "type": "choropleth"
           }
          ],
          "contour": [
           {
            "colorbar": {
             "outlinewidth": 0,
             "ticks": ""
            },
            "colorscale": [
             [
              0,
              "#0d0887"
             ],
             [
              0.1111111111111111,
              "#46039f"
             ],
             [
              0.2222222222222222,
              "#7201a8"
             ],
             [
              0.3333333333333333,
              "#9c179e"
             ],
             [
              0.4444444444444444,
              "#bd3786"
             ],
             [
              0.5555555555555556,
              "#d8576b"
             ],
             [
              0.6666666666666666,
              "#ed7953"
             ],
             [
              0.7777777777777778,
              "#fb9f3a"
             ],
             [
              0.8888888888888888,
              "#fdca26"
             ],
             [
              1,
              "#f0f921"
             ]
            ],
            "type": "contour"
           }
          ],
          "contourcarpet": [
           {
            "colorbar": {
             "outlinewidth": 0,
             "ticks": ""
            },
            "type": "contourcarpet"
           }
          ],
          "heatmap": [
           {
            "colorbar": {
             "outlinewidth": 0,
             "ticks": ""
            },
            "colorscale": [
             [
              0,
              "#0d0887"
             ],
             [
              0.1111111111111111,
              "#46039f"
             ],
             [
              0.2222222222222222,
              "#7201a8"
             ],
             [
              0.3333333333333333,
              "#9c179e"
             ],
             [
              0.4444444444444444,
              "#bd3786"
             ],
             [
              0.5555555555555556,
              "#d8576b"
             ],
             [
              0.6666666666666666,
              "#ed7953"
             ],
             [
              0.7777777777777778,
              "#fb9f3a"
             ],
             [
              0.8888888888888888,
              "#fdca26"
             ],
             [
              1,
              "#f0f921"
             ]
            ],
            "type": "heatmap"
           }
          ],
          "histogram": [
           {
            "marker": {
             "pattern": {
              "fillmode": "overlay",
              "size": 10,
              "solidity": 0.2
             }
            },
            "type": "histogram"
           }
          ],
          "histogram2d": [
           {
            "colorbar": {
             "outlinewidth": 0,
             "ticks": ""
            },
            "colorscale": [
             [
              0,
              "#0d0887"
             ],
             [
              0.1111111111111111,
              "#46039f"
             ],
             [
              0.2222222222222222,
              "#7201a8"
             ],
             [
              0.3333333333333333,
              "#9c179e"
             ],
             [
              0.4444444444444444,
              "#bd3786"
             ],
             [
              0.5555555555555556,
              "#d8576b"
             ],
             [
              0.6666666666666666,
              "#ed7953"
             ],
             [
              0.7777777777777778,
              "#fb9f3a"
             ],
             [
              0.8888888888888888,
              "#fdca26"
             ],
             [
              1,
              "#f0f921"
             ]
            ],
            "type": "histogram2d"
           }
          ],
          "histogram2dcontour": [
           {
            "colorbar": {
             "outlinewidth": 0,
             "ticks": ""
            },
            "colorscale": [
             [
              0,
              "#0d0887"
             ],
             [
              0.1111111111111111,
              "#46039f"
             ],
             [
              0.2222222222222222,
              "#7201a8"
             ],
             [
              0.3333333333333333,
              "#9c179e"
             ],
             [
              0.4444444444444444,
              "#bd3786"
             ],
             [
              0.5555555555555556,
              "#d8576b"
             ],
             [
              0.6666666666666666,
              "#ed7953"
             ],
             [
              0.7777777777777778,
              "#fb9f3a"
             ],
             [
              0.8888888888888888,
              "#fdca26"
             ],
             [
              1,
              "#f0f921"
             ]
            ],
            "type": "histogram2dcontour"
           }
          ],
          "mesh3d": [
           {
            "colorbar": {
             "outlinewidth": 0,
             "ticks": ""
            },
            "type": "mesh3d"
           }
          ],
          "parcoords": [
           {
            "line": {
             "colorbar": {
              "outlinewidth": 0,
              "ticks": ""
             }
            },
            "type": "parcoords"
           }
          ],
          "pie": [
           {
            "automargin": true,
            "type": "pie"
           }
          ],
          "scatter": [
           {
            "fillpattern": {
             "fillmode": "overlay",
             "size": 10,
             "solidity": 0.2
            },
            "type": "scatter"
           }
          ],
          "scatter3d": [
           {
            "line": {
             "colorbar": {
              "outlinewidth": 0,
              "ticks": ""
             }
            },
            "marker": {
             "colorbar": {
              "outlinewidth": 0,
              "ticks": ""
             }
            },
            "type": "scatter3d"
           }
          ],
          "scattercarpet": [
           {
            "marker": {
             "colorbar": {
              "outlinewidth": 0,
              "ticks": ""
             }
            },
            "type": "scattercarpet"
           }
          ],
          "scattergeo": [
           {
            "marker": {
             "colorbar": {
              "outlinewidth": 0,
              "ticks": ""
             }
            },
            "type": "scattergeo"
           }
          ],
          "scattergl": [
           {
            "marker": {
             "colorbar": {
              "outlinewidth": 0,
              "ticks": ""
             }
            },
            "type": "scattergl"
           }
          ],
          "scattermap": [
           {
            "marker": {
             "colorbar": {
              "outlinewidth": 0,
              "ticks": ""
             }
            },
            "type": "scattermap"
           }
          ],
          "scattermapbox": [
           {
            "marker": {
             "colorbar": {
              "outlinewidth": 0,
              "ticks": ""
             }
            },
            "type": "scattermapbox"
           }
          ],
          "scatterpolar": [
           {
            "marker": {
             "colorbar": {
              "outlinewidth": 0,
              "ticks": ""
             }
            },
            "type": "scatterpolar"
           }
          ],
          "scatterpolargl": [
           {
            "marker": {
             "colorbar": {
              "outlinewidth": 0,
              "ticks": ""
             }
            },
            "type": "scatterpolargl"
           }
          ],
          "scatterternary": [
           {
            "marker": {
             "colorbar": {
              "outlinewidth": 0,
              "ticks": ""
             }
            },
            "type": "scatterternary"
           }
          ],
          "surface": [
           {
            "colorbar": {
             "outlinewidth": 0,
             "ticks": ""
            },
            "colorscale": [
             [
              0,
              "#0d0887"
             ],
             [
              0.1111111111111111,
              "#46039f"
             ],
             [
              0.2222222222222222,
              "#7201a8"
             ],
             [
              0.3333333333333333,
              "#9c179e"
             ],
             [
              0.4444444444444444,
              "#bd3786"
             ],
             [
              0.5555555555555556,
              "#d8576b"
             ],
             [
              0.6666666666666666,
              "#ed7953"
             ],
             [
              0.7777777777777778,
              "#fb9f3a"
             ],
             [
              0.8888888888888888,
              "#fdca26"
             ],
             [
              1,
              "#f0f921"
             ]
            ],
            "type": "surface"
           }
          ],
          "table": [
           {
            "cells": {
             "fill": {
              "color": "#EBF0F8"
             },
             "line": {
              "color": "white"
             }
            },
            "header": {
             "fill": {
              "color": "#C8D4E3"
             },
             "line": {
              "color": "white"
             }
            },
            "type": "table"
           }
          ]
         },
         "layout": {
          "annotationdefaults": {
           "arrowcolor": "#2a3f5f",
           "arrowhead": 0,
           "arrowwidth": 1
          },
          "autotypenumbers": "strict",
          "coloraxis": {
           "colorbar": {
            "outlinewidth": 0,
            "ticks": ""
           }
          },
          "colorscale": {
           "diverging": [
            [
             0,
             "#8e0152"
            ],
            [
             0.1,
             "#c51b7d"
            ],
            [
             0.2,
             "#de77ae"
            ],
            [
             0.3,
             "#f1b6da"
            ],
            [
             0.4,
             "#fde0ef"
            ],
            [
             0.5,
             "#f7f7f7"
            ],
            [
             0.6,
             "#e6f5d0"
            ],
            [
             0.7,
             "#b8e186"
            ],
            [
             0.8,
             "#7fbc41"
            ],
            [
             0.9,
             "#4d9221"
            ],
            [
             1,
             "#276419"
            ]
           ],
           "sequential": [
            [
             0,
             "#0d0887"
            ],
            [
             0.1111111111111111,
             "#46039f"
            ],
            [
             0.2222222222222222,
             "#7201a8"
            ],
            [
             0.3333333333333333,
             "#9c179e"
            ],
            [
             0.4444444444444444,
             "#bd3786"
            ],
            [
             0.5555555555555556,
             "#d8576b"
            ],
            [
             0.6666666666666666,
             "#ed7953"
            ],
            [
             0.7777777777777778,
             "#fb9f3a"
            ],
            [
             0.8888888888888888,
             "#fdca26"
            ],
            [
             1,
             "#f0f921"
            ]
           ],
           "sequentialminus": [
            [
             0,
             "#0d0887"
            ],
            [
             0.1111111111111111,
             "#46039f"
            ],
            [
             0.2222222222222222,
             "#7201a8"
            ],
            [
             0.3333333333333333,
             "#9c179e"
            ],
            [
             0.4444444444444444,
             "#bd3786"
            ],
            [
             0.5555555555555556,
             "#d8576b"
            ],
            [
             0.6666666666666666,
             "#ed7953"
            ],
            [
             0.7777777777777778,
             "#fb9f3a"
            ],
            [
             0.8888888888888888,
             "#fdca26"
            ],
            [
             1,
             "#f0f921"
            ]
           ]
          },
          "colorway": [
           "#636efa",
           "#EF553B",
           "#00cc96",
           "#ab63fa",
           "#FFA15A",
           "#19d3f3",
           "#FF6692",
           "#B6E880",
           "#FF97FF",
           "#FECB52"
          ],
          "font": {
           "color": "#2a3f5f"
          },
          "geo": {
           "bgcolor": "white",
           "lakecolor": "white",
           "landcolor": "#E5ECF6",
           "showlakes": true,
           "showland": true,
           "subunitcolor": "white"
          },
          "hoverlabel": {
           "align": "left"
          },
          "hovermode": "closest",
          "mapbox": {
           "style": "light"
          },
          "paper_bgcolor": "white",
          "plot_bgcolor": "#E5ECF6",
          "polar": {
           "angularaxis": {
            "gridcolor": "white",
            "linecolor": "white",
            "ticks": ""
           },
           "bgcolor": "#E5ECF6",
           "radialaxis": {
            "gridcolor": "white",
            "linecolor": "white",
            "ticks": ""
           }
          },
          "scene": {
           "xaxis": {
            "backgroundcolor": "#E5ECF6",
            "gridcolor": "white",
            "gridwidth": 2,
            "linecolor": "white",
            "showbackground": true,
            "ticks": "",
            "zerolinecolor": "white"
           },
           "yaxis": {
            "backgroundcolor": "#E5ECF6",
            "gridcolor": "white",
            "gridwidth": 2,
            "linecolor": "white",
            "showbackground": true,
            "ticks": "",
            "zerolinecolor": "white"
           },
           "zaxis": {
            "backgroundcolor": "#E5ECF6",
            "gridcolor": "white",
            "gridwidth": 2,
            "linecolor": "white",
            "showbackground": true,
            "ticks": "",
            "zerolinecolor": "white"
           }
          },
          "shapedefaults": {
           "line": {
            "color": "#2a3f5f"
           }
          },
          "ternary": {
           "aaxis": {
            "gridcolor": "white",
            "linecolor": "white",
            "ticks": ""
           },
           "baxis": {
            "gridcolor": "white",
            "linecolor": "white",
            "ticks": ""
           },
           "bgcolor": "#E5ECF6",
           "caxis": {
            "gridcolor": "white",
            "linecolor": "white",
            "ticks": ""
           }
          },
          "title": {
           "x": 0.05
          },
          "xaxis": {
           "automargin": true,
           "gridcolor": "white",
           "linecolor": "white",
           "ticks": "",
           "title": {
            "standoff": 15
           },
           "zerolinecolor": "white",
           "zerolinewidth": 2
          },
          "yaxis": {
           "automargin": true,
           "gridcolor": "white",
           "linecolor": "white",
           "ticks": "",
           "title": {
            "standoff": 15
           },
           "zerolinecolor": "white",
           "zerolinewidth": 2
          }
         }
        },
        "title": {
         "text": "Hyperparameter Importances"
        },
        "xaxis": {
         "title": {
          "text": "Hyperparameter Importance"
         }
        },
        "yaxis": {
         "title": {
          "text": "Hyperparameter"
         }
        }
       }
      }
     },
     "metadata": {},
     "output_type": "display_data"
    },
    {
     "data": {
      "application/vnd.plotly.v1+json": {
       "config": {
        "plotlyServerURL": "https://plot.ly"
       },
       "data": [
        {
         "type": "scatter",
         "xaxis": "x",
         "yaxis": "y"
        },
        {
         "colorbar": {
          "title": {
           "text": "Objective Value"
          }
         },
         "colorscale": [
          [
           0,
           "rgb(247,251,255)"
          ],
          [
           0.125,
           "rgb(222,235,247)"
          ],
          [
           0.25,
           "rgb(198,219,239)"
          ],
          [
           0.375,
           "rgb(158,202,225)"
          ],
          [
           0.5,
           "rgb(107,174,214)"
          ],
          [
           0.625,
           "rgb(66,146,198)"
          ],
          [
           0.75,
           "rgb(33,113,181)"
          ],
          [
           0.875,
           "rgb(8,81,156)"
          ],
          [
           1,
           "rgb(8,48,107)"
          ]
         ],
         "connectgaps": true,
         "contours": {
          "coloring": "heatmap"
         },
         "hoverinfo": "none",
         "line": {
          "smoothing": 1.3
         },
         "reversescale": false,
         "showscale": true,
         "type": "contour",
         "x": [
          9,
          10,
          11,
          12,
          13,
          14,
          15,
          16,
          17,
          18,
          19,
          20,
          21,
          22,
          23,
          24,
          25,
          26,
          28,
          30,
          31
         ],
         "xaxis": "x4",
         "y": [
          3.75,
          5,
          6,
          7,
          8,
          9,
          10,
          11,
          12,
          13,
          14,
          15,
          16,
          17,
          18,
          19,
          20,
          21,
          22,
          23,
          24,
          25,
          26,
          28,
          30,
          31.25
         ],
         "yaxis": "y4",
         "z": {
          "bdata": "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",
          "dtype": "f8",
          "shape": "26, 21"
         }
        },
        {
         "marker": {
          "color": "black",
          "line": {
           "color": "Gray",
           "width": 2
          }
         },
         "mode": "markers",
         "name": "Feasible Trial",
         "showlegend": false,
         "type": "scatter",
         "x": [
          22,
          11,
          12,
          24,
          19,
          19,
          14,
          26,
          23,
          18,
          30,
          26,
          16,
          15,
          16,
          16,
          17,
          10,
          13,
          21,
          20,
          17,
          21,
          18,
          14,
          25,
          21,
          30,
          16,
          22,
          18,
          16,
          14,
          17,
          12,
          20,
          21,
          20,
          23,
          19,
          23,
          17,
          19,
          19,
          22,
          20,
          19,
          15,
          24,
          28,
          18,
          15,
          17,
          17,
          20,
          21,
          20,
          20,
          22,
          19,
          18,
          19,
          20,
          20,
          18,
          18,
          20,
          21,
          22,
          22,
          23,
          19,
          19,
          21,
          20,
          24,
          22,
          18,
          19,
          21,
          23,
          18,
          18,
          19,
          20,
          20,
          17,
          18,
          16,
          17,
          16,
          19,
          19,
          17,
          18,
          20,
          19,
          18,
          19,
          21
         ],
         "xaxis": "x4",
         "y": [
          21,
          11,
          10,
          6,
          22,
          22,
          20,
          7,
          25,
          5,
          15,
          30,
          16,
          14,
          16,
          17,
          18,
          26,
          18,
          11,
          11,
          13,
          18,
          9,
          13,
          8,
          24,
          18,
          12,
          20,
          28,
          16,
          16,
          20,
          17,
          10,
          10,
          11,
          7,
          22,
          9,
          14,
          19,
          19,
          22,
          23,
          20,
          14,
          12,
          5,
          17,
          15,
          14,
          19,
          10,
          10,
          12,
          12,
          7,
          9,
          9,
          11,
          11,
          13,
          10,
          10,
          8,
          12,
          11,
          6,
          8,
          11,
          11,
          11,
          13,
          10,
          11,
          10,
          8,
          6,
          9,
          12,
          12,
          13,
          10,
          12,
          11,
          9,
          15,
          11,
          13,
          11,
          10,
          12,
          8,
          11,
          7,
          12,
          9,
          14
         ],
         "yaxis": "y4"
        },
        {
         "colorbar": {
          "title": {
           "text": "Objective Value"
          }
         },
         "colorscale": [
          [
           0,
           "rgb(247,251,255)"
          ],
          [
           0.125,
           "rgb(222,235,247)"
          ],
          [
           0.25,
           "rgb(198,219,239)"
          ],
          [
           0.375,
           "rgb(158,202,225)"
          ],
          [
           0.5,
           "rgb(107,174,214)"
          ],
          [
           0.625,
           "rgb(66,146,198)"
          ],
          [
           0.75,
           "rgb(33,113,181)"
          ],
          [
           0.875,
           "rgb(8,81,156)"
          ],
          [
           1,
           "rgb(8,48,107)"
          ]
         ],
         "connectgaps": true,
         "contours": {
          "coloring": "heatmap"
         },
         "hoverinfo": "none",
         "line": {
          "smoothing": 1.3
         },
         "reversescale": false,
         "showscale": false,
         "type": "contour",
         "x": [
          9,
          10,
          11,
          12,
          13,
          14,
          15,
          16,
          17,
          18,
          19,
          20,
          21,
          22,
          23,
          24,
          25,
          26,
          28,
          30,
          31
         ],
         "xaxis": "x7",
         "y": [
          2.15,
          3,
          4,
          5,
          6,
          7,
          8,
          9,
          10,
          11,
          12,
          13,
          14,
          15,
          16,
          17,
          19,
          20,
          20.85
         ],
         "yaxis": "y7",
         "z": {
          "bdata": "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",
          "dtype": "f8",
          "shape": "19, 21"
         }
        },
        {
         "marker": {
          "color": "black",
          "line": {
           "color": "Gray",
           "width": 2
          }
         },
         "mode": "markers",
         "name": "Feasible Trial",
         "showlegend": false,
         "type": "scatter",
         "x": [
          22,
          11,
          12,
          24,
          19,
          19,
          14,
          26,
          23,
          18,
          30,
          26,
          16,
          15,
          16,
          16,
          17,
          10,
          13,
          21,
          20,
          17,
          21,
          18,
          14,
          25,
          21,
          30,
          16,
          22,
          18,
          16,
          14,
          17,
          12,
          20,
          21,
          20,
          23,
          19,
          23,
          17,
          19,
          19,
          22,
          20,
          19,
          15,
          24,
          28,
          18,
          15,
          17,
          17,
          20,
          21,
          20,
          20,
          22,
          19,
          18,
          19,
          20,
          20,
          18,
          18,
          20,
          21,
          22,
          22,
          23,
          19,
          19,
          21,
          20,
          24,
          22,
          18,
          19,
          21,
          23,
          18,
          18,
          19,
          20,
          20,
          17,
          18,
          16,
          17,
          16,
          19,
          19,
          17,
          18,
          20,
          19,
          18,
          19,
          21
         ],
         "xaxis": "x7",
         "y": [
          19,
          9,
          7,
          16,
          8,
          17,
          15,
          19,
          3,
          10,
          14,
          13,
          5,
          4,
          5,
          6,
          6,
          11,
          7,
          6,
          12,
          6,
          3,
          9,
          6,
          8,
          5,
          10,
          7,
          4,
          6,
          5,
          4,
          8,
          9,
          7,
          7,
          8,
          6,
          20,
          10,
          4,
          5,
          3,
          7,
          6,
          17,
          5,
          8,
          9,
          4,
          5,
          5,
          3,
          7,
          7,
          6,
          5,
          4,
          5,
          11,
          5,
          7,
          7,
          5,
          4,
          8,
          3,
          5,
          7,
          13,
          5,
          4,
          6,
          6,
          5,
          9,
          8,
          3,
          6,
          7,
          5,
          4,
          5,
          4,
          6,
          5,
          6,
          5,
          15,
          7,
          5,
          4,
          5,
          3,
          6,
          4,
          10,
          5,
          8
         ],
         "yaxis": "y7"
        },
        {
         "colorbar": {
          "title": {
           "text": "Objective Value"
          }
         },
         "colorscale": [
          [
           0,
           "rgb(247,251,255)"
          ],
          [
           0.125,
           "rgb(222,235,247)"
          ],
          [
           0.25,
           "rgb(198,219,239)"
          ],
          [
           0.375,
           "rgb(158,202,225)"
          ],
          [
           0.5,
           "rgb(107,174,214)"
          ],
          [
           0.625,
           "rgb(66,146,198)"
          ],
          [
           0.75,
           "rgb(33,113,181)"
          ],
          [
           0.875,
           "rgb(8,81,156)"
          ],
          [
           1,
           "rgb(8,48,107)"
          ]
         ],
         "connectgaps": true,
         "contours": {
          "coloring": "heatmap"
         },
         "hoverinfo": "none",
         "line": {
          "smoothing": 1.3
         },
         "reversescale": false,
         "showscale": false,
         "type": "contour",
         "x": [
          3.75,
          5,
          6,
          7,
          8,
          9,
          10,
          11,
          12,
          13,
          14,
          15,
          16,
          17,
          18,
          19,
          20,
          21,
          22,
          23,
          24,
          25,
          26,
          28,
          30,
          31.25
         ],
         "xaxis": "x2",
         "y": [
          9,
          10,
          11,
          12,
          13,
          14,
          15,
          16,
          17,
          18,
          19,
          20,
          21,
          22,
          23,
          24,
          25,
          26,
          28,
          30,
          31
         ],
         "yaxis": "y2",
         "z": {
          "bdata": "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",
          "dtype": "f8",
          "shape": "21, 26"
         }
        },
        {
         "marker": {
          "color": "black",
          "line": {
           "color": "Gray",
           "width": 2
          }
         },
         "mode": "markers",
         "name": "Feasible Trial",
         "showlegend": false,
         "type": "scatter",
         "x": [
          21,
          11,
          10,
          6,
          22,
          22,
          20,
          7,
          25,
          5,
          15,
          30,
          16,
          14,
          16,
          17,
          18,
          26,
          18,
          11,
          11,
          13,
          18,
          9,
          13,
          8,
          24,
          18,
          12,
          20,
          28,
          16,
          16,
          20,
          17,
          10,
          10,
          11,
          7,
          22,
          9,
          14,
          19,
          19,
          22,
          23,
          20,
          14,
          12,
          5,
          17,
          15,
          14,
          19,
          10,
          10,
          12,
          12,
          7,
          9,
          9,
          11,
          11,
          13,
          10,
          10,
          8,
          12,
          11,
          6,
          8,
          11,
          11,
          11,
          13,
          10,
          11,
          10,
          8,
          6,
          9,
          12,
          12,
          13,
          10,
          12,
          11,
          9,
          15,
          11,
          13,
          11,
          10,
          12,
          8,
          11,
          7,
          12,
          9,
          14
         ],
         "xaxis": "x2",
         "y": [
          22,
          11,
          12,
          24,
          19,
          19,
          14,
          26,
          23,
          18,
          30,
          26,
          16,
          15,
          16,
          16,
          17,
          10,
          13,
          21,
          20,
          17,
          21,
          18,
          14,
          25,
          21,
          30,
          16,
          22,
          18,
          16,
          14,
          17,
          12,
          20,
          21,
          20,
          23,
          19,
          23,
          17,
          19,
          19,
          22,
          20,
          19,
          15,
          24,
          28,
          18,
          15,
          17,
          17,
          20,
          21,
          20,
          20,
          22,
          19,
          18,
          19,
          20,
          20,
          18,
          18,
          20,
          21,
          22,
          22,
          23,
          19,
          19,
          21,
          20,
          24,
          22,
          18,
          19,
          21,
          23,
          18,
          18,
          19,
          20,
          20,
          17,
          18,
          16,
          17,
          16,
          19,
          19,
          17,
          18,
          20,
          19,
          18,
          19,
          21
         ],
         "yaxis": "y2"
        },
        {
         "type": "scatter",
         "xaxis": "x5",
         "yaxis": "y5"
        },
        {
         "colorbar": {
          "title": {
           "text": "Objective Value"
          }
         },
         "colorscale": [
          [
           0,
           "rgb(247,251,255)"
          ],
          [
           0.125,
           "rgb(222,235,247)"
          ],
          [
           0.25,
           "rgb(198,219,239)"
          ],
          [
           0.375,
           "rgb(158,202,225)"
          ],
          [
           0.5,
           "rgb(107,174,214)"
          ],
          [
           0.625,
           "rgb(66,146,198)"
          ],
          [
           0.75,
           "rgb(33,113,181)"
          ],
          [
           0.875,
           "rgb(8,81,156)"
          ],
          [
           1,
           "rgb(8,48,107)"
          ]
         ],
         "connectgaps": true,
         "contours": {
          "coloring": "heatmap"
         },
         "hoverinfo": "none",
         "line": {
          "smoothing": 1.3
         },
         "reversescale": false,
         "showscale": false,
         "type": "contour",
         "x": [
          3.75,
          5,
          6,
          7,
          8,
          9,
          10,
          11,
          12,
          13,
          14,
          15,
          16,
          17,
          18,
          19,
          20,
          21,
          22,
          23,
          24,
          25,
          26,
          28,
          30,
          31.25
         ],
         "xaxis": "x8",
         "y": [
          2.15,
          3,
          4,
          5,
          6,
          7,
          8,
          9,
          10,
          11,
          12,
          13,
          14,
          15,
          16,
          17,
          19,
          20,
          20.85
         ],
         "yaxis": "y8",
         "z": {
          "bdata": "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",
          "dtype": "f8",
          "shape": "19, 26"
         }
        },
        {
         "marker": {
          "color": "black",
          "line": {
           "color": "Gray",
           "width": 2
          }
         },
         "mode": "markers",
         "name": "Feasible Trial",
         "showlegend": false,
         "type": "scatter",
         "x": [
          21,
          11,
          10,
          6,
          22,
          22,
          20,
          7,
          25,
          5,
          15,
          30,
          16,
          14,
          16,
          17,
          18,
          26,
          18,
          11,
          11,
          13,
          18,
          9,
          13,
          8,
          24,
          18,
          12,
          20,
          28,
          16,
          16,
          20,
          17,
          10,
          10,
          11,
          7,
          22,
          9,
          14,
          19,
          19,
          22,
          23,
          20,
          14,
          12,
          5,
          17,
          15,
          14,
          19,
          10,
          10,
          12,
          12,
          7,
          9,
          9,
          11,
          11,
          13,
          10,
          10,
          8,
          12,
          11,
          6,
          8,
          11,
          11,
          11,
          13,
          10,
          11,
          10,
          8,
          6,
          9,
          12,
          12,
          13,
          10,
          12,
          11,
          9,
          15,
          11,
          13,
          11,
          10,
          12,
          8,
          11,
          7,
          12,
          9,
          14
         ],
         "xaxis": "x8",
         "y": [
          19,
          9,
          7,
          16,
          8,
          17,
          15,
          19,
          3,
          10,
          14,
          13,
          5,
          4,
          5,
          6,
          6,
          11,
          7,
          6,
          12,
          6,
          3,
          9,
          6,
          8,
          5,
          10,
          7,
          4,
          6,
          5,
          4,
          8,
          9,
          7,
          7,
          8,
          6,
          20,
          10,
          4,
          5,
          3,
          7,
          6,
          17,
          5,
          8,
          9,
          4,
          5,
          5,
          3,
          7,
          7,
          6,
          5,
          4,
          5,
          11,
          5,
          7,
          7,
          5,
          4,
          8,
          3,
          5,
          7,
          13,
          5,
          4,
          6,
          6,
          5,
          9,
          8,
          3,
          6,
          7,
          5,
          4,
          5,
          4,
          6,
          5,
          6,
          5,
          15,
          7,
          5,
          4,
          5,
          3,
          6,
          4,
          10,
          5,
          8
         ],
         "yaxis": "y8"
        },
        {
         "colorbar": {
          "title": {
           "text": "Objective Value"
          }
         },
         "colorscale": [
          [
           0,
           "rgb(247,251,255)"
          ],
          [
           0.125,
           "rgb(222,235,247)"
          ],
          [
           0.25,
           "rgb(198,219,239)"
          ],
          [
           0.375,
           "rgb(158,202,225)"
          ],
          [
           0.5,
           "rgb(107,174,214)"
          ],
          [
           0.625,
           "rgb(66,146,198)"
          ],
          [
           0.75,
           "rgb(33,113,181)"
          ],
          [
           0.875,
           "rgb(8,81,156)"
          ],
          [
           1,
           "rgb(8,48,107)"
          ]
         ],
         "connectgaps": true,
         "contours": {
          "coloring": "heatmap"
         },
         "hoverinfo": "none",
         "line": {
          "smoothing": 1.3
         },
         "reversescale": false,
         "showscale": false,
         "type": "contour",
         "x": [
          2.15,
          3,
          4,
          5,
          6,
          7,
          8,
          9,
          10,
          11,
          12,
          13,
          14,
          15,
          16,
          17,
          19,
          20,
          20.85
         ],
         "xaxis": "x3",
         "y": [
          9,
          10,
          11,
          12,
          13,
          14,
          15,
          16,
          17,
          18,
          19,
          20,
          21,
          22,
          23,
          24,
          25,
          26,
          28,
          30,
          31
         ],
         "yaxis": "y3",
         "z": {
          "bdata": "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",
          "dtype": "f8",
          "shape": "21, 19"
         }
        },
        {
         "marker": {
          "color": "black",
          "line": {
           "color": "Gray",
           "width": 2
          }
         },
         "mode": "markers",
         "name": "Feasible Trial",
         "showlegend": false,
         "type": "scatter",
         "x": [
          19,
          9,
          7,
          16,
          8,
          17,
          15,
          19,
          3,
          10,
          14,
          13,
          5,
          4,
          5,
          6,
          6,
          11,
          7,
          6,
          12,
          6,
          3,
          9,
          6,
          8,
          5,
          10,
          7,
          4,
          6,
          5,
          4,
          8,
          9,
          7,
          7,
          8,
          6,
          20,
          10,
          4,
          5,
          3,
          7,
          6,
          17,
          5,
          8,
          9,
          4,
          5,
          5,
          3,
          7,
          7,
          6,
          5,
          4,
          5,
          11,
          5,
          7,
          7,
          5,
          4,
          8,
          3,
          5,
          7,
          13,
          5,
          4,
          6,
          6,
          5,
          9,
          8,
          3,
          6,
          7,
          5,
          4,
          5,
          4,
          6,
          5,
          6,
          5,
          15,
          7,
          5,
          4,
          5,
          3,
          6,
          4,
          10,
          5,
          8
         ],
         "xaxis": "x3",
         "y": [
          22,
          11,
          12,
          24,
          19,
          19,
          14,
          26,
          23,
          18,
          30,
          26,
          16,
          15,
          16,
          16,
          17,
          10,
          13,
          21,
          20,
          17,
          21,
          18,
          14,
          25,
          21,
          30,
          16,
          22,
          18,
          16,
          14,
          17,
          12,
          20,
          21,
          20,
          23,
          19,
          23,
          17,
          19,
          19,
          22,
          20,
          19,
          15,
          24,
          28,
          18,
          15,
          17,
          17,
          20,
          21,
          20,
          20,
          22,
          19,
          18,
          19,
          20,
          20,
          18,
          18,
          20,
          21,
          22,
          22,
          23,
          19,
          19,
          21,
          20,
          24,
          22,
          18,
          19,
          21,
          23,
          18,
          18,
          19,
          20,
          20,
          17,
          18,
          16,
          17,
          16,
          19,
          19,
          17,
          18,
          20,
          19,
          18,
          19,
          21
         ],
         "yaxis": "y3"
        },
        {
         "colorbar": {
          "title": {
           "text": "Objective Value"
          }
         },
         "colorscale": [
          [
           0,
           "rgb(247,251,255)"
          ],
          [
           0.125,
           "rgb(222,235,247)"
          ],
          [
           0.25,
           "rgb(198,219,239)"
          ],
          [
           0.375,
           "rgb(158,202,225)"
          ],
          [
           0.5,
           "rgb(107,174,214)"
          ],
          [
           0.625,
           "rgb(66,146,198)"
          ],
          [
           0.75,
           "rgb(33,113,181)"
          ],
          [
           0.875,
           "rgb(8,81,156)"
          ],
          [
           1,
           "rgb(8,48,107)"
          ]
         ],
         "connectgaps": true,
         "contours": {
          "coloring": "heatmap"
         },
         "hoverinfo": "none",
         "line": {
          "smoothing": 1.3
         },
         "reversescale": false,
         "showscale": false,
         "type": "contour",
         "x": [
          2.15,
          3,
          4,
          5,
          6,
          7,
          8,
          9,
          10,
          11,
          12,
          13,
          14,
          15,
          16,
          17,
          19,
          20,
          20.85
         ],
         "xaxis": "x6",
         "y": [
          3.75,
          5,
          6,
          7,
          8,
          9,
          10,
          11,
          12,
          13,
          14,
          15,
          16,
          17,
          18,
          19,
          20,
          21,
          22,
          23,
          24,
          25,
          26,
          28,
          30,
          31.25
         ],
         "yaxis": "y6",
         "z": {
          "bdata": "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",
          "dtype": "f8",
          "shape": "26, 19"
         }
        },
        {
         "marker": {
          "color": "black",
          "line": {
           "color": "Gray",
           "width": 2
          }
         },
         "mode": "markers",
         "name": "Feasible Trial",
         "showlegend": false,
         "type": "scatter",
         "x": [
          19,
          9,
          7,
          16,
          8,
          17,
          15,
          19,
          3,
          10,
          14,
          13,
          5,
          4,
          5,
          6,
          6,
          11,
          7,
          6,
          12,
          6,
          3,
          9,
          6,
          8,
          5,
          10,
          7,
          4,
          6,
          5,
          4,
          8,
          9,
          7,
          7,
          8,
          6,
          20,
          10,
          4,
          5,
          3,
          7,
          6,
          17,
          5,
          8,
          9,
          4,
          5,
          5,
          3,
          7,
          7,
          6,
          5,
          4,
          5,
          11,
          5,
          7,
          7,
          5,
          4,
          8,
          3,
          5,
          7,
          13,
          5,
          4,
          6,
          6,
          5,
          9,
          8,
          3,
          6,
          7,
          5,
          4,
          5,
          4,
          6,
          5,
          6,
          5,
          15,
          7,
          5,
          4,
          5,
          3,
          6,
          4,
          10,
          5,
          8
         ],
         "xaxis": "x6",
         "y": [
          21,
          11,
          10,
          6,
          22,
          22,
          20,
          7,
          25,
          5,
          15,
          30,
          16,
          14,
          16,
          17,
          18,
          26,
          18,
          11,
          11,
          13,
          18,
          9,
          13,
          8,
          24,
          18,
          12,
          20,
          28,
          16,
          16,
          20,
          17,
          10,
          10,
          11,
          7,
          22,
          9,
          14,
          19,
          19,
          22,
          23,
          20,
          14,
          12,
          5,
          17,
          15,
          14,
          19,
          10,
          10,
          12,
          12,
          7,
          9,
          9,
          11,
          11,
          13,
          10,
          10,
          8,
          12,
          11,
          6,
          8,
          11,
          11,
          11,
          13,
          10,
          11,
          10,
          8,
          6,
          9,
          12,
          12,
          13,
          10,
          12,
          11,
          9,
          15,
          11,
          13,
          11,
          10,
          12,
          8,
          11,
          7,
          12,
          9,
          14
         ],
         "yaxis": "y6"
        },
        {
         "type": "scatter",
         "xaxis": "x9",
         "yaxis": "y9"
        }
       ],
       "layout": {
        "template": {
         "data": {
          "bar": [
           {
            "error_x": {
             "color": "#2a3f5f"
            },
            "error_y": {
             "color": "#2a3f5f"
            },
            "marker": {
             "line": {
              "color": "#E5ECF6",
              "width": 0.5
             },
             "pattern": {
              "fillmode": "overlay",
              "size": 10,
              "solidity": 0.2
             }
            },
            "type": "bar"
           }
          ],
          "barpolar": [
           {
            "marker": {
             "line": {
              "color": "#E5ECF6",
              "width": 0.5
             },
             "pattern": {
              "fillmode": "overlay",
              "size": 10,
              "solidity": 0.2
             }
            },
            "type": "barpolar"
           }
          ],
          "carpet": [
           {
            "aaxis": {
             "endlinecolor": "#2a3f5f",
             "gridcolor": "white",
             "linecolor": "white",
             "minorgridcolor": "white",
             "startlinecolor": "#2a3f5f"
            },
            "baxis": {
             "endlinecolor": "#2a3f5f",
             "gridcolor": "white",
             "linecolor": "white",
             "minorgridcolor": "white",
             "startlinecolor": "#2a3f5f"
            },
            "type": "carpet"
           }
          ],
          "choropleth": [
           {
            "colorbar": {
             "outlinewidth": 0,
             "ticks": ""
            },
            "type": "choropleth"
           }
          ],
          "contour": [
           {
            "colorbar": {
             "outlinewidth": 0,
             "ticks": ""
            },
            "colorscale": [
             [
              0,
              "#0d0887"
             ],
             [
              0.1111111111111111,
              "#46039f"
             ],
             [
              0.2222222222222222,
              "#7201a8"
             ],
             [
              0.3333333333333333,
              "#9c179e"
             ],
             [
              0.4444444444444444,
              "#bd3786"
             ],
             [
              0.5555555555555556,
              "#d8576b"
             ],
             [
              0.6666666666666666,
              "#ed7953"
             ],
             [
              0.7777777777777778,
              "#fb9f3a"
             ],
             [
              0.8888888888888888,
              "#fdca26"
             ],
             [
              1,
              "#f0f921"
             ]
            ],
            "type": "contour"
           }
          ],
          "contourcarpet": [
           {
            "colorbar": {
             "outlinewidth": 0,
             "ticks": ""
            },
            "type": "contourcarpet"
           }
          ],
          "heatmap": [
           {
            "colorbar": {
             "outlinewidth": 0,
             "ticks": ""
            },
            "colorscale": [
             [
              0,
              "#0d0887"
             ],
             [
              0.1111111111111111,
              "#46039f"
             ],
             [
              0.2222222222222222,
              "#7201a8"
             ],
             [
              0.3333333333333333,
              "#9c179e"
             ],
             [
              0.4444444444444444,
              "#bd3786"
             ],
             [
              0.5555555555555556,
              "#d8576b"
             ],
             [
              0.6666666666666666,
              "#ed7953"
             ],
             [
              0.7777777777777778,
              "#fb9f3a"
             ],
             [
              0.8888888888888888,
              "#fdca26"
             ],
             [
              1,
              "#f0f921"
             ]
            ],
            "type": "heatmap"
           }
          ],
          "histogram": [
           {
            "marker": {
             "pattern": {
              "fillmode": "overlay",
              "size": 10,
              "solidity": 0.2
             }
            },
            "type": "histogram"
           }
          ],
          "histogram2d": [
           {
            "colorbar": {
             "outlinewidth": 0,
             "ticks": ""
            },
            "colorscale": [
             [
              0,
              "#0d0887"
             ],
             [
              0.1111111111111111,
              "#46039f"
             ],
             [
              0.2222222222222222,
              "#7201a8"
             ],
             [
              0.3333333333333333,
              "#9c179e"
             ],
             [
              0.4444444444444444,
              "#bd3786"
             ],
             [
              0.5555555555555556,
              "#d8576b"
             ],
             [
              0.6666666666666666,
              "#ed7953"
             ],
             [
              0.7777777777777778,
              "#fb9f3a"
             ],
             [
              0.8888888888888888,
              "#fdca26"
             ],
             [
              1,
              "#f0f921"
             ]
            ],
            "type": "histogram2d"
           }
          ],
          "histogram2dcontour": [
           {
            "colorbar": {
             "outlinewidth": 0,
             "ticks": ""
            },
            "colorscale": [
             [
              0,
              "#0d0887"
             ],
             [
              0.1111111111111111,
              "#46039f"
             ],
             [
              0.2222222222222222,
              "#7201a8"
             ],
             [
              0.3333333333333333,
              "#9c179e"
             ],
             [
              0.4444444444444444,
              "#bd3786"
             ],
             [
              0.5555555555555556,
              "#d8576b"
             ],
             [
              0.6666666666666666,
              "#ed7953"
             ],
             [
              0.7777777777777778,
              "#fb9f3a"
             ],
             [
              0.8888888888888888,
              "#fdca26"
             ],
             [
              1,
              "#f0f921"
             ]
            ],
            "type": "histogram2dcontour"
           }
          ],
          "mesh3d": [
           {
            "colorbar": {
             "outlinewidth": 0,
             "ticks": ""
            },
            "type": "mesh3d"
           }
          ],
          "parcoords": [
           {
            "line": {
             "colorbar": {
              "outlinewidth": 0,
              "ticks": ""
             }
            },
            "type": "parcoords"
           }
          ],
          "pie": [
           {
            "automargin": true,
            "type": "pie"
           }
          ],
          "scatter": [
           {
            "fillpattern": {
             "fillmode": "overlay",
             "size": 10,
             "solidity": 0.2
            },
            "type": "scatter"
           }
          ],
          "scatter3d": [
           {
            "line": {
             "colorbar": {
              "outlinewidth": 0,
              "ticks": ""
             }
            },
            "marker": {
             "colorbar": {
              "outlinewidth": 0,
              "ticks": ""
             }
            },
            "type": "scatter3d"
           }
          ],
          "scattercarpet": [
           {
            "marker": {
             "colorbar": {
              "outlinewidth": 0,
              "ticks": ""
             }
            },
            "type": "scattercarpet"
           }
          ],
          "scattergeo": [
           {
            "marker": {
             "colorbar": {
              "outlinewidth": 0,
              "ticks": ""
             }
            },
            "type": "scattergeo"
           }
          ],
          "scattergl": [
           {
            "marker": {
             "colorbar": {
              "outlinewidth": 0,
              "ticks": ""
             }
            },
            "type": "scattergl"
           }
          ],
          "scattermap": [
           {
            "marker": {
             "colorbar": {
              "outlinewidth": 0,
              "ticks": ""
             }
            },
            "type": "scattermap"
           }
          ],
          "scattermapbox": [
           {
            "marker": {
             "colorbar": {
              "outlinewidth": 0,
              "ticks": ""
             }
            },
            "type": "scattermapbox"
           }
          ],
          "scatterpolar": [
           {
            "marker": {
             "colorbar": {
              "outlinewidth": 0,
              "ticks": ""
             }
            },
            "type": "scatterpolar"
           }
          ],
          "scatterpolargl": [
           {
            "marker": {
             "colorbar": {
              "outlinewidth": 0,
              "ticks": ""
             }
            },
            "type": "scatterpolargl"
           }
          ],
          "scatterternary": [
           {
            "marker": {
             "colorbar": {
              "outlinewidth": 0,
              "ticks": ""
             }
            },
            "type": "scatterternary"
           }
          ],
          "surface": [
           {
            "colorbar": {
             "outlinewidth": 0,
             "ticks": ""
            },
            "colorscale": [
             [
              0,
              "#0d0887"
             ],
             [
              0.1111111111111111,
              "#46039f"
             ],
             [
              0.2222222222222222,
              "#7201a8"
             ],
             [
              0.3333333333333333,
              "#9c179e"
             ],
             [
              0.4444444444444444,
              "#bd3786"
             ],
             [
              0.5555555555555556,
              "#d8576b"
             ],
             [
              0.6666666666666666,
              "#ed7953"
             ],
             [
              0.7777777777777778,
              "#fb9f3a"
             ],
             [
              0.8888888888888888,
              "#fdca26"
             ],
             [
              1,
              "#f0f921"
             ]
            ],
            "type": "surface"
           }
          ],
          "table": [
           {
            "cells": {
             "fill": {
              "color": "#EBF0F8"
             },
             "line": {
              "color": "white"
             }
            },
            "header": {
             "fill": {
              "color": "#C8D4E3"
             },
             "line": {
              "color": "white"
             }
            },
            "type": "table"
           }
          ]
         },
         "layout": {
          "annotationdefaults": {
           "arrowcolor": "#2a3f5f",
           "arrowhead": 0,
           "arrowwidth": 1
          },
          "autotypenumbers": "strict",
          "coloraxis": {
           "colorbar": {
            "outlinewidth": 0,
            "ticks": ""
           }
          },
          "colorscale": {
           "diverging": [
            [
             0,
             "#8e0152"
            ],
            [
             0.1,
             "#c51b7d"
            ],
            [
             0.2,
             "#de77ae"
            ],
            [
             0.3,
             "#f1b6da"
            ],
            [
             0.4,
             "#fde0ef"
            ],
            [
             0.5,
             "#f7f7f7"
            ],
            [
             0.6,
             "#e6f5d0"
            ],
            [
             0.7,
             "#b8e186"
            ],
            [
             0.8,
             "#7fbc41"
            ],
            [
             0.9,
             "#4d9221"
            ],
            [
             1,
             "#276419"
            ]
           ],
           "sequential": [
            [
             0,
             "#0d0887"
            ],
            [
             0.1111111111111111,
             "#46039f"
            ],
            [
             0.2222222222222222,
             "#7201a8"
            ],
            [
             0.3333333333333333,
             "#9c179e"
            ],
            [
             0.4444444444444444,
             "#bd3786"
            ],
            [
             0.5555555555555556,
             "#d8576b"
            ],
            [
             0.6666666666666666,
             "#ed7953"
            ],
            [
             0.7777777777777778,
             "#fb9f3a"
            ],
            [
             0.8888888888888888,
             "#fdca26"
            ],
            [
             1,
             "#f0f921"
            ]
           ],
           "sequentialminus": [
            [
             0,
             "#0d0887"
            ],
            [
             0.1111111111111111,
             "#46039f"
            ],
            [
             0.2222222222222222,
             "#7201a8"
            ],
            [
             0.3333333333333333,
             "#9c179e"
            ],
            [
             0.4444444444444444,
             "#bd3786"
            ],
            [
             0.5555555555555556,
             "#d8576b"
            ],
            [
             0.6666666666666666,
             "#ed7953"
            ],
            [
             0.7777777777777778,
             "#fb9f3a"
            ],
            [
             0.8888888888888888,
             "#fdca26"
            ],
            [
             1,
             "#f0f921"
            ]
           ]
          },
          "colorway": [
           "#636efa",
           "#EF553B",
           "#00cc96",
           "#ab63fa",
           "#FFA15A",
           "#19d3f3",
           "#FF6692",
           "#B6E880",
           "#FF97FF",
           "#FECB52"
          ],
          "font": {
           "color": "#2a3f5f"
          },
          "geo": {
           "bgcolor": "white",
           "lakecolor": "white",
           "landcolor": "#E5ECF6",
           "showlakes": true,
           "showland": true,
           "subunitcolor": "white"
          },
          "hoverlabel": {
           "align": "left"
          },
          "hovermode": "closest",
          "mapbox": {
           "style": "light"
          },
          "paper_bgcolor": "white",
          "plot_bgcolor": "#E5ECF6",
          "polar": {
           "angularaxis": {
            "gridcolor": "white",
            "linecolor": "white",
            "ticks": ""
           },
           "bgcolor": "#E5ECF6",
           "radialaxis": {
            "gridcolor": "white",
            "linecolor": "white",
            "ticks": ""
           }
          },
          "scene": {
           "xaxis": {
            "backgroundcolor": "#E5ECF6",
            "gridcolor": "white",
            "gridwidth": 2,
            "linecolor": "white",
            "showbackground": true,
            "ticks": "",
            "zerolinecolor": "white"
           },
           "yaxis": {
            "backgroundcolor": "#E5ECF6",
            "gridcolor": "white",
            "gridwidth": 2,
            "linecolor": "white",
            "showbackground": true,
            "ticks": "",
            "zerolinecolor": "white"
           },
           "zaxis": {
            "backgroundcolor": "#E5ECF6",
            "gridcolor": "white",
            "gridwidth": 2,
            "linecolor": "white",
            "showbackground": true,
            "ticks": "",
            "zerolinecolor": "white"
           }
          },
          "shapedefaults": {
           "line": {
            "color": "#2a3f5f"
           }
          },
          "ternary": {
           "aaxis": {
            "gridcolor": "white",
            "linecolor": "white",
            "ticks": ""
           },
           "baxis": {
            "gridcolor": "white",
            "linecolor": "white",
            "ticks": ""
           },
           "bgcolor": "#E5ECF6",
           "caxis": {
            "gridcolor": "white",
            "linecolor": "white",
            "ticks": ""
           }
          },
          "title": {
           "x": 0.05
          },
          "xaxis": {
           "automargin": true,
           "gridcolor": "white",
           "linecolor": "white",
           "ticks": "",
           "title": {
            "standoff": 15
           },
           "zerolinecolor": "white",
           "zerolinewidth": 2
          },
          "yaxis": {
           "automargin": true,
           "gridcolor": "white",
           "linecolor": "white",
           "ticks": "",
           "title": {
            "standoff": 15
           },
           "zerolinecolor": "white",
           "zerolinewidth": 2
          }
         }
        },
        "title": {
         "text": "Contour Plot"
        },
        "xaxis": {
         "anchor": "y",
         "domain": [
          0,
          0.2888888888888889
         ],
         "matches": "x7",
         "range": [
          9,
          31
         ],
         "showticklabels": false
        },
        "xaxis2": {
         "anchor": "y2",
         "domain": [
          0.35555555555555557,
          0.6444444444444445
         ],
         "matches": "x8",
         "range": [
          3.75,
          31.25
         ],
         "showticklabels": false
        },
        "xaxis3": {
         "anchor": "y3",
         "domain": [
          0.7111111111111111,
          1
         ],
         "matches": "x9",
         "range": [
          2.15,
          20.85
         ],
         "showticklabels": false
        },
        "xaxis4": {
         "anchor": "y4",
         "domain": [
          0,
          0.2888888888888889
         ],
         "matches": "x7",
         "range": [
          9,
          31
         ],
         "showticklabels": false
        },
        "xaxis5": {
         "anchor": "y5",
         "domain": [
          0.35555555555555557,
          0.6444444444444445
         ],
         "matches": "x8",
         "range": [
          3.75,
          31.25
         ],
         "showticklabels": false
        },
        "xaxis6": {
         "anchor": "y6",
         "domain": [
          0.7111111111111111,
          1
         ],
         "matches": "x9",
         "range": [
          2.15,
          20.85
         ],
         "showticklabels": false
        },
        "xaxis7": {
         "anchor": "y7",
         "domain": [
          0,
          0.2888888888888889
         ],
         "range": [
          9,
          31
         ],
         "title": {
          "text": "distance"
         }
        },
        "xaxis8": {
         "anchor": "y8",
         "domain": [
          0.35555555555555557,
          0.6444444444444445
         ],
         "range": [
          3.75,
          31.25
         ],
         "title": {
          "text": "highBars"
         }
        },
        "xaxis9": {
         "anchor": "y9",
         "domain": [
          0.7111111111111111,
          1
         ],
         "range": [
          2.15,
          20.85
         ],
         "title": {
          "text": "lowBars"
         }
        },
        "yaxis": {
         "anchor": "x",
         "domain": [
          0.7333333333333333,
          1
         ],
         "range": [
          9,
          31
         ],
         "title": {
          "text": "distance"
         }
        },
        "yaxis2": {
         "anchor": "x2",
         "domain": [
          0.7333333333333333,
          1
         ],
         "matches": "y",
         "range": [
          9,
          31
         ],
         "showticklabels": false
        },
        "yaxis3": {
         "anchor": "x3",
         "domain": [
          0.7333333333333333,
          1
         ],
         "matches": "y",
         "range": [
          9,
          31
         ],
         "showticklabels": false
        },
        "yaxis4": {
         "anchor": "x4",
         "domain": [
          0.36666666666666664,
          0.6333333333333333
         ],
         "range": [
          3.75,
          31.25
         ],
         "title": {
          "text": "highBars"
         }
        },
        "yaxis5": {
         "anchor": "x5",
         "domain": [
          0.36666666666666664,
          0.6333333333333333
         ],
         "matches": "y4",
         "range": [
          3.75,
          31.25
         ],
         "showticklabels": false
        },
        "yaxis6": {
         "anchor": "x6",
         "domain": [
          0.36666666666666664,
          0.6333333333333333
         ],
         "matches": "y4",
         "range": [
          3.75,
          31.25
         ],
         "showticklabels": false
        },
        "yaxis7": {
         "anchor": "x7",
         "domain": [
          0,
          0.26666666666666666
         ],
         "range": [
          2.15,
          20.85
         ],
         "title": {
          "text": "lowBars"
         }
        },
        "yaxis8": {
         "anchor": "x8",
         "domain": [
          0,
          0.26666666666666666
         ],
         "matches": "y7",
         "range": [
          2.15,
          20.85
         ],
         "showticklabels": false
        },
        "yaxis9": {
         "anchor": "x9",
         "domain": [
          0,
          0.26666666666666666
         ],
         "matches": "y7",
         "range": [
          2.15,
          20.85
         ],
         "showticklabels": false
        }
       }
      }
     },
     "metadata": {},
     "output_type": "display_data"
    },
    {
     "data": {
      "application/vnd.plotly.v1+json": {
       "config": {
        "plotlyServerURL": "https://plot.ly"
       },
       "data": [
        {
         "dimensions": [
          {
           "label": "Objective Value",
           "range": [
            -0.22417653938157608,
            0.37372603630077583
           ],
           "values": [
            0.0525046909300311,
            -0.07036559723985605,
            0.07813011024019278,
            0.2680965692004116,
            0.15034482263269533,
            0.0819465458458038,
            0.004535159522355821,
            -0.07241763999790093,
            0.01254155907171536,
            0.07345664241861435,
            0.07308609881744332,
            0.021455198842295867,
            0.27523752758395137,
            0.06014153893059042,
            0.27523752758395137,
            0.29801121834347793,
            0.28561673373184654,
            -0.19791758970880619,
            0.0912612443965634,
            0.3176743455176316,
            0.08728461542495117,
            0.2286672306736915,
            0.20740940741925484,
            0.0544898759929037,
            0.2573605370667914,
            0.08467941471005298,
            0.23882812954971175,
            0.09490466082794627,
            0.15214662242051766,
            0.06274771520518553,
            0.17432775419084245,
            0.27523752758395137,
            0.16173861855066063,
            0.09988642957454599,
            0.010741705581762384,
            0.3489165088327174,
            0.24378271071315014,
            0.24606162267908746,
            0.07917149488497534,
            -0.023345843009398518,
            -0.1234790301444134,
            0.13200290476044502,
            0.3173521679012302,
            0.14667310368638628,
            0.15157358672872168,
            0.2305783798580687,
            0.1538221721664341,
            0.27655797092262735,
            0.2422413429184538,
            -0.00996537508028946,
            0.18388786560608328,
            0.25283353115967,
            0.32398974270673003,
            0.14667310368638628,
            0.3489165088327174,
            0.24378271071315014,
            0.3015261713527069,
            0.35897889862088744,
            -0.11789299195977168,
            0.3239411442354434,
            0.03426094257543029,
            0.36099001565980127,
            0.37289037225220906,
            0.2952604619451282,
            0.37372603630077583,
            0.06779512920188477,
            0.1006151963869946,
            0.25524427467436067,
            0.3369481874349076,
            0.23826168600903785,
            0.000133948603439494,
            0.36099001565980127,
            0.008636447674864517,
            0.3176743455176316,
            0.2402765384655795,
            0.21009767252328948,
            0.17024534181152573,
            0.12819799571139381,
            -0.1288067187174696,
            0.21289015691271315,
            0.10718813335798674,
            0.3415549942882415,
            0.10797071460630926,
            0.2820177945219324,
            0.06779512920188477,
            0.3015261713527069,
            0.36099001565980127,
            0.25432060248926674,
            0.2873963281080902,
            -0.033904870566537335,
            0.11472970510726739,
            0.36099001565980127,
            0.06779512920188477,
            0.3415549942882415,
            -0.1288067187174696,
            0.3176743455176316,
            -0.22417653938157608,
            0.10929321273289568,
            0.3239411442354434,
            0.2658968641115284
           ]
          },
          {
           "label": "distance",
           "range": [
            10,
            30
           ],
           "values": [
            22,
            11,
            12,
            24,
            19,
            19,
            14,
            26,
            23,
            18,
            30,
            26,
            16,
            15,
            16,
            16,
            17,
            10,
            13,
            21,
            20,
            17,
            21,
            18,
            14,
            25,
            21,
            30,
            16,
            22,
            18,
            16,
            14,
            17,
            12,
            20,
            21,
            20,
            23,
            19,
            23,
            17,
            19,
            19,
            22,
            20,
            19,
            15,
            24,
            28,
            18,
            15,
            17,
            17,
            20,
            21,
            20,
            20,
            22,
            19,
            18,
            19,
            20,
            20,
            18,
            18,
            20,
            21,
            22,
            22,
            23,
            19,
            19,
            21,
            20,
            24,
            22,
            18,
            19,
            21,
            23,
            18,
            18,
            19,
            20,
            20,
            17,
            18,
            16,
            17,
            16,
            19,
            19,
            17,
            18,
            20,
            19,
            18,
            19,
            21
           ]
          },
          {
           "label": "highBars",
           "range": [
            5,
            30
           ],
           "values": [
            21,
            11,
            10,
            6,
            22,
            22,
            20,
            7,
            25,
            5,
            15,
            30,
            16,
            14,
            16,
            17,
            18,
            26,
            18,
            11,
            11,
            13,
            18,
            9,
            13,
            8,
            24,
            18,
            12,
            20,
            28,
            16,
            16,
            20,
            17,
            10,
            10,
            11,
            7,
            22,
            9,
            14,
            19,
            19,
            22,
            23,
            20,
            14,
            12,
            5,
            17,
            15,
            14,
            19,
            10,
            10,
            12,
            12,
            7,
            9,
            9,
            11,
            11,
            13,
            10,
            10,
            8,
            12,
            11,
            6,
            8,
            11,
            11,
            11,
            13,
            10,
            11,
            10,
            8,
            6,
            9,
            12,
            12,
            13,
            10,
            12,
            11,
            9,
            15,
            11,
            13,
            11,
            10,
            12,
            8,
            11,
            7,
            12,
            9,
            14
           ]
          },
          {
           "label": "lowBars",
           "range": [
            3,
            20
           ],
           "values": [
            19,
            9,
            7,
            16,
            8,
            17,
            15,
            19,
            3,
            10,
            14,
            13,
            5,
            4,
            5,
            6,
            6,
            11,
            7,
            6,
            12,
            6,
            3,
            9,
            6,
            8,
            5,
            10,
            7,
            4,
            6,
            5,
            4,
            8,
            9,
            7,
            7,
            8,
            6,
            20,
            10,
            4,
            5,
            3,
            7,
            6,
            17,
            5,
            8,
            9,
            4,
            5,
            5,
            3,
            7,
            7,
            6,
            5,
            4,
            5,
            11,
            5,
            7,
            7,
            5,
            4,
            8,
            3,
            5,
            7,
            13,
            5,
            4,
            6,
            6,
            5,
            9,
            8,
            3,
            6,
            7,
            5,
            4,
            5,
            4,
            6,
            5,
            6,
            5,
            15,
            7,
            5,
            4,
            5,
            3,
            6,
            4,
            10,
            5,
            8
           ]
          }
         ],
         "labelangle": 30,
         "labelside": "bottom",
         "line": {
          "color": [
           0.0525046909300311,
           -0.07036559723985605,
           0.07813011024019278,
           0.2680965692004116,
           0.15034482263269533,
           0.0819465458458038,
           0.004535159522355821,
           -0.07241763999790093,
           0.01254155907171536,
           0.07345664241861435,
           0.07308609881744332,
           0.021455198842295867,
           0.27523752758395137,
           0.06014153893059042,
           0.27523752758395137,
           0.29801121834347793,
           0.28561673373184654,
           -0.19791758970880619,
           0.0912612443965634,
           0.3176743455176316,
           0.08728461542495117,
           0.2286672306736915,
           0.20740940741925484,
           0.0544898759929037,
           0.2573605370667914,
           0.08467941471005298,
           0.23882812954971175,
           0.09490466082794627,
           0.15214662242051766,
           0.06274771520518553,
           0.17432775419084245,
           0.27523752758395137,
           0.16173861855066063,
           0.09988642957454599,
           0.010741705581762384,
           0.3489165088327174,
           0.24378271071315014,
           0.24606162267908746,
           0.07917149488497534,
           -0.023345843009398518,
           -0.1234790301444134,
           0.13200290476044502,
           0.3173521679012302,
           0.14667310368638628,
           0.15157358672872168,
           0.2305783798580687,
           0.1538221721664341,
           0.27655797092262735,
           0.2422413429184538,
           -0.00996537508028946,
           0.18388786560608328,
           0.25283353115967,
           0.32398974270673003,
           0.14667310368638628,
           0.3489165088327174,
           0.24378271071315014,
           0.3015261713527069,
           0.35897889862088744,
           -0.11789299195977168,
           0.3239411442354434,
           0.03426094257543029,
           0.36099001565980127,
           0.37289037225220906,
           0.2952604619451282,
           0.37372603630077583,
           0.06779512920188477,
           0.1006151963869946,
           0.25524427467436067,
           0.3369481874349076,
           0.23826168600903785,
           0.000133948603439494,
           0.36099001565980127,
           0.008636447674864517,
           0.3176743455176316,
           0.2402765384655795,
           0.21009767252328948,
           0.17024534181152573,
           0.12819799571139381,
           -0.1288067187174696,
           0.21289015691271315,
           0.10718813335798674,
           0.3415549942882415,
           0.10797071460630926,
           0.2820177945219324,
           0.06779512920188477,
           0.3015261713527069,
           0.36099001565980127,
           0.25432060248926674,
           0.2873963281080902,
           -0.033904870566537335,
           0.11472970510726739,
           0.36099001565980127,
           0.06779512920188477,
           0.3415549942882415,
           -0.1288067187174696,
           0.3176743455176316,
           -0.22417653938157608,
           0.10929321273289568,
           0.3239411442354434,
           0.2658968641115284
          ],
          "colorbar": {
           "title": {
            "text": "Objective Value"
           }
          },
          "colorscale": [
           [
            0,
            "rgb(247,251,255)"
           ],
           [
            0.125,
            "rgb(222,235,247)"
           ],
           [
            0.25,
            "rgb(198,219,239)"
           ],
           [
            0.375,
            "rgb(158,202,225)"
           ],
           [
            0.5,
            "rgb(107,174,214)"
           ],
           [
            0.625,
            "rgb(66,146,198)"
           ],
           [
            0.75,
            "rgb(33,113,181)"
           ],
           [
            0.875,
            "rgb(8,81,156)"
           ],
           [
            1,
            "rgb(8,48,107)"
           ]
          ],
          "reversescale": false,
          "showscale": true
         },
         "type": "parcoords"
        }
       ],
       "layout": {
        "template": {
         "data": {
          "bar": [
           {
            "error_x": {
             "color": "#2a3f5f"
            },
            "error_y": {
             "color": "#2a3f5f"
            },
            "marker": {
             "line": {
              "color": "#E5ECF6",
              "width": 0.5
             },
             "pattern": {
              "fillmode": "overlay",
              "size": 10,
              "solidity": 0.2
             }
            },
            "type": "bar"
           }
          ],
          "barpolar": [
           {
            "marker": {
             "line": {
              "color": "#E5ECF6",
              "width": 0.5
             },
             "pattern": {
              "fillmode": "overlay",
              "size": 10,
              "solidity": 0.2
             }
            },
            "type": "barpolar"
           }
          ],
          "carpet": [
           {
            "aaxis": {
             "endlinecolor": "#2a3f5f",
             "gridcolor": "white",
             "linecolor": "white",
             "minorgridcolor": "white",
             "startlinecolor": "#2a3f5f"
            },
            "baxis": {
             "endlinecolor": "#2a3f5f",
             "gridcolor": "white",
             "linecolor": "white",
             "minorgridcolor": "white",
             "startlinecolor": "#2a3f5f"
            },
            "type": "carpet"
           }
          ],
          "choropleth": [
           {
            "colorbar": {
             "outlinewidth": 0,
             "ticks": ""
            },
            "type": "choropleth"
           }
          ],
          "contour": [
           {
            "colorbar": {
             "outlinewidth": 0,
             "ticks": ""
            },
            "colorscale": [
             [
              0,
              "#0d0887"
             ],
             [
              0.1111111111111111,
              "#46039f"
             ],
             [
              0.2222222222222222,
              "#7201a8"
             ],
             [
              0.3333333333333333,
              "#9c179e"
             ],
             [
              0.4444444444444444,
              "#bd3786"
             ],
             [
              0.5555555555555556,
              "#d8576b"
             ],
             [
              0.6666666666666666,
              "#ed7953"
             ],
             [
              0.7777777777777778,
              "#fb9f3a"
             ],
             [
              0.8888888888888888,
              "#fdca26"
             ],
             [
              1,
              "#f0f921"
             ]
            ],
            "type": "contour"
           }
          ],
          "contourcarpet": [
           {
            "colorbar": {
             "outlinewidth": 0,
             "ticks": ""
            },
            "type": "contourcarpet"
           }
          ],
          "heatmap": [
           {
            "colorbar": {
             "outlinewidth": 0,
             "ticks": ""
            },
            "colorscale": [
             [
              0,
              "#0d0887"
             ],
             [
              0.1111111111111111,
              "#46039f"
             ],
             [
              0.2222222222222222,
              "#7201a8"
             ],
             [
              0.3333333333333333,
              "#9c179e"
             ],
             [
              0.4444444444444444,
              "#bd3786"
             ],
             [
              0.5555555555555556,
              "#d8576b"
             ],
             [
              0.6666666666666666,
              "#ed7953"
             ],
             [
              0.7777777777777778,
              "#fb9f3a"
             ],
             [
              0.8888888888888888,
              "#fdca26"
             ],
             [
              1,
              "#f0f921"
             ]
            ],
            "type": "heatmap"
           }
          ],
          "histogram": [
           {
            "marker": {
             "pattern": {
              "fillmode": "overlay",
              "size": 10,
              "solidity": 0.2
             }
            },
            "type": "histogram"
           }
          ],
          "histogram2d": [
           {
            "colorbar": {
             "outlinewidth": 0,
             "ticks": ""
            },
            "colorscale": [
             [
              0,
              "#0d0887"
             ],
             [
              0.1111111111111111,
              "#46039f"
             ],
             [
              0.2222222222222222,
              "#7201a8"
             ],
             [
              0.3333333333333333,
              "#9c179e"
             ],
             [
              0.4444444444444444,
              "#bd3786"
             ],
             [
              0.5555555555555556,
              "#d8576b"
             ],
             [
              0.6666666666666666,
              "#ed7953"
             ],
             [
              0.7777777777777778,
              "#fb9f3a"
             ],
             [
              0.8888888888888888,
              "#fdca26"
             ],
             [
              1,
              "#f0f921"
             ]
            ],
            "type": "histogram2d"
           }
          ],
          "histogram2dcontour": [
           {
            "colorbar": {
             "outlinewidth": 0,
             "ticks": ""
            },
            "colorscale": [
             [
              0,
              "#0d0887"
             ],
             [
              0.1111111111111111,
              "#46039f"
             ],
             [
              0.2222222222222222,
              "#7201a8"
             ],
             [
              0.3333333333333333,
              "#9c179e"
             ],
             [
              0.4444444444444444,
              "#bd3786"
             ],
             [
              0.5555555555555556,
              "#d8576b"
             ],
             [
              0.6666666666666666,
              "#ed7953"
             ],
             [
              0.7777777777777778,
              "#fb9f3a"
             ],
             [
              0.8888888888888888,
              "#fdca26"
             ],
             [
              1,
              "#f0f921"
             ]
            ],
            "type": "histogram2dcontour"
           }
          ],
          "mesh3d": [
           {
            "colorbar": {
             "outlinewidth": 0,
             "ticks": ""
            },
            "type": "mesh3d"
           }
          ],
          "parcoords": [
           {
            "line": {
             "colorbar": {
              "outlinewidth": 0,
              "ticks": ""
             }
            },
            "type": "parcoords"
           }
          ],
          "pie": [
           {
            "automargin": true,
            "type": "pie"
           }
          ],
          "scatter": [
           {
            "fillpattern": {
             "fillmode": "overlay",
             "size": 10,
             "solidity": 0.2
            },
            "type": "scatter"
           }
          ],
          "scatter3d": [
           {
            "line": {
             "colorbar": {
              "outlinewidth": 0,
              "ticks": ""
             }
            },
            "marker": {
             "colorbar": {
              "outlinewidth": 0,
              "ticks": ""
             }
            },
            "type": "scatter3d"
           }
          ],
          "scattercarpet": [
           {
            "marker": {
             "colorbar": {
              "outlinewidth": 0,
              "ticks": ""
             }
            },
            "type": "scattercarpet"
           }
          ],
          "scattergeo": [
           {
            "marker": {
             "colorbar": {
              "outlinewidth": 0,
              "ticks": ""
             }
            },
            "type": "scattergeo"
           }
          ],
          "scattergl": [
           {
            "marker": {
             "colorbar": {
              "outlinewidth": 0,
              "ticks": ""
             }
            },
            "type": "scattergl"
           }
          ],
          "scattermap": [
           {
            "marker": {
             "colorbar": {
              "outlinewidth": 0,
              "ticks": ""
             }
            },
            "type": "scattermap"
           }
          ],
          "scattermapbox": [
           {
            "marker": {
             "colorbar": {
              "outlinewidth": 0,
              "ticks": ""
             }
            },
            "type": "scattermapbox"
           }
          ],
          "scatterpolar": [
           {
            "marker": {
             "colorbar": {
              "outlinewidth": 0,
              "ticks": ""
             }
            },
            "type": "scatterpolar"
           }
          ],
          "scatterpolargl": [
           {
            "marker": {
             "colorbar": {
              "outlinewidth": 0,
              "ticks": ""
             }
            },
            "type": "scatterpolargl"
           }
          ],
          "scatterternary": [
           {
            "marker": {
             "colorbar": {
              "outlinewidth": 0,
              "ticks": ""
             }
            },
            "type": "scatterternary"
           }
          ],
          "surface": [
           {
            "colorbar": {
             "outlinewidth": 0,
             "ticks": ""
            },
            "colorscale": [
             [
              0,
              "#0d0887"
             ],
             [
              0.1111111111111111,
              "#46039f"
             ],
             [
              0.2222222222222222,
              "#7201a8"
             ],
             [
              0.3333333333333333,
              "#9c179e"
             ],
             [
              0.4444444444444444,
              "#bd3786"
             ],
             [
              0.5555555555555556,
              "#d8576b"
             ],
             [
              0.6666666666666666,
              "#ed7953"
             ],
             [
              0.7777777777777778,
              "#fb9f3a"
             ],
             [
              0.8888888888888888,
              "#fdca26"
             ],
             [
              1,
              "#f0f921"
             ]
            ],
            "type": "surface"
           }
          ],
          "table": [
           {
            "cells": {
             "fill": {
              "color": "#EBF0F8"
             },
             "line": {
              "color": "white"
             }
            },
            "header": {
             "fill": {
              "color": "#C8D4E3"
             },
             "line": {
              "color": "white"
             }
            },
            "type": "table"
           }
          ]
         },
         "layout": {
          "annotationdefaults": {
           "arrowcolor": "#2a3f5f",
           "arrowhead": 0,
           "arrowwidth": 1
          },
          "autotypenumbers": "strict",
          "coloraxis": {
           "colorbar": {
            "outlinewidth": 0,
            "ticks": ""
           }
          },
          "colorscale": {
           "diverging": [
            [
             0,
             "#8e0152"
            ],
            [
             0.1,
             "#c51b7d"
            ],
            [
             0.2,
             "#de77ae"
            ],
            [
             0.3,
             "#f1b6da"
            ],
            [
             0.4,
             "#fde0ef"
            ],
            [
             0.5,
             "#f7f7f7"
            ],
            [
             0.6,
             "#e6f5d0"
            ],
            [
             0.7,
             "#b8e186"
            ],
            [
             0.8,
             "#7fbc41"
            ],
            [
             0.9,
             "#4d9221"
            ],
            [
             1,
             "#276419"
            ]
           ],
           "sequential": [
            [
             0,
             "#0d0887"
            ],
            [
             0.1111111111111111,
             "#46039f"
            ],
            [
             0.2222222222222222,
             "#7201a8"
            ],
            [
             0.3333333333333333,
             "#9c179e"
            ],
            [
             0.4444444444444444,
             "#bd3786"
            ],
            [
             0.5555555555555556,
             "#d8576b"
            ],
            [
             0.6666666666666666,
             "#ed7953"
            ],
            [
             0.7777777777777778,
             "#fb9f3a"
            ],
            [
             0.8888888888888888,
             "#fdca26"
            ],
            [
             1,
             "#f0f921"
            ]
           ],
           "sequentialminus": [
            [
             0,
             "#0d0887"
            ],
            [
             0.1111111111111111,
             "#46039f"
            ],
            [
             0.2222222222222222,
             "#7201a8"
            ],
            [
             0.3333333333333333,
             "#9c179e"
            ],
            [
             0.4444444444444444,
             "#bd3786"
            ],
            [
             0.5555555555555556,
             "#d8576b"
            ],
            [
             0.6666666666666666,
             "#ed7953"
            ],
            [
             0.7777777777777778,
             "#fb9f3a"
            ],
            [
             0.8888888888888888,
             "#fdca26"
            ],
            [
             1,
             "#f0f921"
            ]
           ]
          },
          "colorway": [
           "#636efa",
           "#EF553B",
           "#00cc96",
           "#ab63fa",
           "#FFA15A",
           "#19d3f3",
           "#FF6692",
           "#B6E880",
           "#FF97FF",
           "#FECB52"
          ],
          "font": {
           "color": "#2a3f5f"
          },
          "geo": {
           "bgcolor": "white",
           "lakecolor": "white",
           "landcolor": "#E5ECF6",
           "showlakes": true,
           "showland": true,
           "subunitcolor": "white"
          },
          "hoverlabel": {
           "align": "left"
          },
          "hovermode": "closest",
          "mapbox": {
           "style": "light"
          },
          "paper_bgcolor": "white",
          "plot_bgcolor": "#E5ECF6",
          "polar": {
           "angularaxis": {
            "gridcolor": "white",
            "linecolor": "white",
            "ticks": ""
           },
           "bgcolor": "#E5ECF6",
           "radialaxis": {
            "gridcolor": "white",
            "linecolor": "white",
            "ticks": ""
           }
          },
          "scene": {
           "xaxis": {
            "backgroundcolor": "#E5ECF6",
            "gridcolor": "white",
            "gridwidth": 2,
            "linecolor": "white",
            "showbackground": true,
            "ticks": "",
            "zerolinecolor": "white"
           },
           "yaxis": {
            "backgroundcolor": "#E5ECF6",
            "gridcolor": "white",
            "gridwidth": 2,
            "linecolor": "white",
            "showbackground": true,
            "ticks": "",
            "zerolinecolor": "white"
           },
           "zaxis": {
            "backgroundcolor": "#E5ECF6",
            "gridcolor": "white",
            "gridwidth": 2,
            "linecolor": "white",
            "showbackground": true,
            "ticks": "",
            "zerolinecolor": "white"
           }
          },
          "shapedefaults": {
           "line": {
            "color": "#2a3f5f"
           }
          },
          "ternary": {
           "aaxis": {
            "gridcolor": "white",
            "linecolor": "white",
            "ticks": ""
           },
           "baxis": {
            "gridcolor": "white",
            "linecolor": "white",
            "ticks": ""
           },
           "bgcolor": "#E5ECF6",
           "caxis": {
            "gridcolor": "white",
            "linecolor": "white",
            "ticks": ""
           }
          },
          "title": {
           "x": 0.05
          },
          "xaxis": {
           "automargin": true,
           "gridcolor": "white",
           "linecolor": "white",
           "ticks": "",
           "title": {
            "standoff": 15
           },
           "zerolinecolor": "white",
           "zerolinewidth": 2
          },
          "yaxis": {
           "automargin": true,
           "gridcolor": "white",
           "linecolor": "white",
           "ticks": "",
           "title": {
            "standoff": 15
           },
           "zerolinecolor": "white",
           "zerolinewidth": 2
          }
         }
        },
        "title": {
         "text": "Parallel Coordinate Plot"
        }
       }
      }
     },
     "metadata": {},
     "output_type": "display_data"
    }
   ],
   "source": [
    "optuna.visualization.plot_optimization_history(study).show()\n",
    "optuna.visualization.plot_param_importances(study).show()\n",
    "optuna.visualization.plot_contour(study).show()\n",
    "optuna.visualization.plot_parallel_coordinate(study).show()\n"
   ]
  },
  {
   "cell_type": "code",
   "execution_count": 19,
   "metadata": {},
   "outputs": [
    {
     "name": "stdout",
     "output_type": "stream",
     "text": [
      "FrozenTrial(number=64, state=1, values=[0.37372603630077583], datetime_start=datetime.datetime(2025, 4, 20, 13, 33, 48, 309091), datetime_complete=datetime.datetime(2025, 4, 20, 13, 33, 50, 168359), params={'highBars': 10, 'lowBars': 5, 'distance': 18}, user_attrs={}, system_attrs={}, intermediate_values={}, distributions={'highBars': IntDistribution(high=30, log=False, low=5, step=1), 'lowBars': IntDistribution(high=20, log=False, low=3, step=1), 'distance': IntDistribution(high=30, log=False, low=10, step=1)}, trial_id=64, value=None)\n"
     ]
    }
   ],
   "source": [
    "print(study.best_trial)"
   ]
  }
 ],
 "metadata": {
  "kernelspec": {
   "display_name": "quant",
   "language": "python",
   "name": "python3"
  },
  "language_info": {
   "codemirror_mode": {
    "name": "ipython",
    "version": 3
   },
   "file_extension": ".py",
   "mimetype": "text/x-python",
   "name": "python",
   "nbconvert_exporter": "python",
   "pygments_lexer": "ipython3",
   "version": "3.11.8"
  }
 },
 "nbformat": 4,
 "nbformat_minor": 2
}
